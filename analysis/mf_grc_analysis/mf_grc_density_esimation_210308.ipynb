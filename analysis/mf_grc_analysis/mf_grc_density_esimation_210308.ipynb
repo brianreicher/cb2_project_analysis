{
 "cells": [
  {
   "cell_type": "code",
   "execution_count": 2,
   "metadata": {},
   "outputs": [
    {
     "name": "stdout",
     "output_type": "stream",
     "text": [
      "n_mfs = 78 (20-30)\n"
     ]
    }
   ],
   "source": [
    "\n",
    "import os\n",
    "import sys\n",
    "import importlib\n",
    "import seaborn as sns\n",
    "sys.path.insert(0, '/n/groups/htem/Segmentation/shared-nondev/cb2_segmentation/analysis_mf_grc')\n",
    "\n",
    "import my_plot\n",
    "importlib.reload(my_plot)\n",
    "from my_plot import MyPlotData, my_box_plot\n",
    "\n",
    "def to_ng_coord(coord):\n",
    "    return (\n",
    "        int(coord[0]/4),\n",
    "        int(coord[1]/4),\n",
    "        int(coord[2]/40),\n",
    "        )\n",
    "\n",
    "\n",
    "import compress_pickle\n",
    "# input_graph = compress_pickle.load('/n/groups/htem/Segmentation/shared-nondev/cb2_segmentation/analysis_mf_grc/mf_grc_model/input_graph_201114_restricted_z.gz')\n",
    "input_graph = compress_pickle.load('/n/groups/htem/Segmentation/shared-nondev/cb2_segmentation/analysis_mf_grc/mf_grc_model/input_graph_201114.gz')\n",
    "grcs = [k for k in input_graph.grcs.keys()]\n"
   ]
  },
  {
   "cell_type": "code",
   "execution_count": 19,
   "metadata": {},
   "outputs": [
    {
     "name": "stdout",
     "output_type": "stream",
     "text": [
      "n_mf_boutons = 78 (20-30)\n",
      "n_mf_boutons = 234 (10-40)\n",
      "n_mf_boutons = 362 (0-50)\n"
     ]
    }
   ],
   "source": [
    "\n",
    "rosette_loc_size = {}\n",
    "for mf_id, mf in input_graph.mfs.items():\n",
    "    mf.get_all_mf_locs_size(rosette_loc_size)\n",
    "\n",
    "# z_max = 35\n",
    "z_min = 20\n",
    "z_max = 30\n",
    "n_mf_boutons = 0\n",
    "for rosette_loc, size in rosette_loc_size.items():\n",
    "    x, y, z = rosette_loc\n",
    "    if x < 360000 or x > 520000:\n",
    "        continue\n",
    "    if z < z_min*1000 or z > z_max*1000:\n",
    "        continue\n",
    "    n_mf_boutons += 1\n",
    "\n",
    "print(f'n_mf_boutons = {n_mf_boutons} ({z_min}-{z_max})')\n",
    "\n",
    "# z_max = 35\n",
    "z_min = 10\n",
    "z_max = 40\n",
    "n_mf_boutons = 0\n",
    "for rosette_loc, size in rosette_loc_size.items():\n",
    "    x, y, z = rosette_loc\n",
    "    if x < 360000 or x > 520000:\n",
    "        continue\n",
    "    if z < z_min*1000 or z > z_max*1000:\n",
    "        continue\n",
    "    n_mf_boutons += 1\n",
    "print(f'n_mf_boutons = {n_mf_boutons} ({z_min}-{z_max})')\n",
    "\n",
    "z_min = 0\n",
    "z_max = 50\n",
    "n_mf_boutons = 0\n",
    "for rosette_loc, size in rosette_loc_size.items():\n",
    "    x, y, z = rosette_loc\n",
    "    if x < 360000 or x > 520000:\n",
    "        continue\n",
    "    if z < z_min*1000 or z > z_max*1000:\n",
    "        continue\n",
    "    n_mf_boutons += 1\n",
    "print(f'n_mf_boutons = {n_mf_boutons} ({z_min}-{z_max})')\n"
   ]
  },
  {
   "cell_type": "code",
   "execution_count": 20,
   "metadata": {},
   "outputs": [
    {
     "name": "stdout",
     "output_type": "stream",
     "text": [
      "n_mfs = 76 (20-30)\n",
      "n_mfs = 208 (10-40)\n",
      "n_mfs = 307 (0-50)\n"
     ]
    }
   ],
   "source": [
    "z_min = 20\n",
    "z_max = 30\n",
    "n_mfs = 0\n",
    "for mf_id, mf in input_graph.mfs.items():\n",
    "    do_count = False\n",
    "    for loc in mf.locs:\n",
    "        x, y, z = loc\n",
    "        if x < 360000 or x > 520000:\n",
    "            continue\n",
    "        if z < z_min*1000 or z > z_max*1000:\n",
    "            continue\n",
    "        do_count = True\n",
    "    if do_count:\n",
    "        n_mfs += 1\n",
    "print(f'n_mfs = {n_mfs} ({z_min}-{z_max})')\n",
    "\n",
    "z_min = 10\n",
    "z_max = 40\n",
    "n_mfs = 0\n",
    "for mf_id, mf in input_graph.mfs.items():\n",
    "    do_count = False\n",
    "    for loc in mf.locs:\n",
    "        x, y, z = loc\n",
    "        if x < 360000 or x > 520000:\n",
    "            continue\n",
    "        if z < z_min*1000 or z > z_max*1000:\n",
    "            continue\n",
    "        do_count = True\n",
    "    if do_count:\n",
    "        n_mfs += 1\n",
    "print(f'n_mfs = {n_mfs} ({z_min}-{z_max})')\n",
    "\n",
    "z_min = 0\n",
    "z_max = 50\n",
    "n_mfs = 0\n",
    "for mf_id, mf in input_graph.mfs.items():\n",
    "    do_count = False\n",
    "    for loc in mf.locs:\n",
    "        x, y, z = loc\n",
    "        if x < 360000 or x > 520000:\n",
    "            continue\n",
    "        if z < z_min*1000 or z > z_max*1000:\n",
    "            continue\n",
    "        do_count = True\n",
    "    if do_count:\n",
    "        n_mfs += 1\n",
    "print(f'n_mfs = {n_mfs} ({z_min}-{z_max})')\n"
   ]
  },
  {
   "cell_type": "code",
   "execution_count": 23,
   "metadata": {},
   "outputs": [],
   "source": [
    "def count_boutons(x_min, x_max, z_min, z_max):\n",
    "    n_mf_boutons = 0\n",
    "    for rosette_loc, size in rosette_loc_size.items():\n",
    "        x, y, z = rosette_loc\n",
    "        if x < x_min*1000 or x > x_max*1000:\n",
    "            continue\n",
    "        if z < z_min*1000 or z > z_max*1000:\n",
    "            continue\n",
    "        n_mf_boutons += 1\n",
    "    return n_mf_boutons\n",
    "\n",
    "def count_mfs(x_min, x_max, z_min, z_max):\n",
    "    n_mfs = 0\n",
    "    for mf_id, mf in input_graph.mfs.items():\n",
    "        do_count = False\n",
    "        for loc in mf.locs:\n",
    "            x, y, z = loc\n",
    "            if x < x_min*1000 or x > x_max*1000:\n",
    "                continue\n",
    "            if z < z_min*1000 or z > z_max*1000:\n",
    "                continue\n",
    "            do_count = True\n",
    "        if do_count:\n",
    "            n_mfs += 1\n",
    "    return n_mfs"
   ]
  },
  {
   "cell_type": "code",
   "execution_count": 25,
   "metadata": {},
   "outputs": [
    {
     "name": "stdout",
     "output_type": "stream",
     "text": [
      "n_boutons = 170\n",
      "n_mfs = 156\n",
      "n_boutons = 471\n",
      "n_mfs = 378\n",
      "n_boutons = 732\n",
      "n_mfs = 550\n"
     ]
    }
   ],
   "source": [
    "\n",
    "x_min = 280\n",
    "x_max = 600\n",
    "\n",
    "z_min = 20\n",
    "z_max = 30\n",
    "print(f'n_boutons = {count_boutons(x_min, x_max, z_min, z_max)}')\n",
    "print(f'n_mfs = {count_mfs(x_min, x_max, z_min, z_max)}')\n",
    "\n",
    "z_min = 10\n",
    "z_max = 40\n",
    "print(f'n_boutons = {count_boutons(x_min, x_max, z_min, z_max)}')\n",
    "print(f'n_mfs = {count_mfs(x_min, x_max, z_min, z_max)}')\n",
    "\n",
    "z_min = 0\n",
    "z_max = 60\n",
    "print(f'n_boutons = {count_boutons(x_min, x_max, z_min, z_max)}')\n",
    "print(f'n_mfs = {count_mfs(x_min, x_max, z_min, z_max)}')"
   ]
  },
  {
   "cell_type": "code",
   "execution_count": 26,
   "metadata": {},
   "outputs": [
    {
     "name": "stdout",
     "output_type": "stream",
     "text": [
      "n_boutons = 78\n",
      "n_mfs = 76\n",
      "n_boutons = 234\n",
      "n_mfs = 208\n",
      "n_boutons = 362\n",
      "n_mfs = 307\n"
     ]
    }
   ],
   "source": [
    "\n",
    "x_min = 360\n",
    "x_max = 520\n",
    "\n",
    "z_min = 20\n",
    "z_max = 30\n",
    "print(f'n_boutons = {count_boutons(x_min, x_max, z_min, z_max)}')\n",
    "print(f'n_mfs = {count_mfs(x_min, x_max, z_min, z_max)}')\n",
    "\n",
    "z_min = 10\n",
    "z_max = 40\n",
    "print(f'n_boutons = {count_boutons(x_min, x_max, z_min, z_max)}')\n",
    "print(f'n_mfs = {count_mfs(x_min, x_max, z_min, z_max)}')\n",
    "\n",
    "z_min = 0\n",
    "z_max = 60\n",
    "print(f'n_boutons = {count_boutons(x_min, x_max, z_min, z_max)}')\n",
    "print(f'n_mfs = {count_mfs(x_min, x_max, z_min, z_max)}')"
   ]
  },
  {
   "cell_type": "code",
   "execution_count": 13,
   "metadata": {},
   "outputs": [
    {
     "name": "stdout",
     "output_type": "stream",
     "text": [
      "n_grc = 264 (20-30)\n",
      "n_grc = 815 (10-40)\n"
     ]
    }
   ],
   "source": [
    "n_grc = 0\n",
    "z_min = 20\n",
    "z_max = 30\n",
    "for grc_id, grc in input_graph.grcs.items():\n",
    "    loc = grc.soma_loc\n",
    "    x, y, z = loc\n",
    "    if x < 360000 or x > 520000:\n",
    "        continue\n",
    "    if z < z_min*1000 or z > z_max*1000:\n",
    "        continue\n",
    "    n_grc += 1\n",
    "print(f'n_grc = {n_grc} ({z_min}-{z_max})')\n",
    "\n",
    "n_grc = 0\n",
    "z_min = 10\n",
    "z_max = 40\n",
    "for grc_id, grc in input_graph.grcs.items():\n",
    "    loc = grc.soma_loc\n",
    "    x, y, z = loc\n",
    "    if x < 360000 or x > 520000:\n",
    "        continue\n",
    "    if z < z_min*1000 or z > z_max*1000:\n",
    "        continue\n",
    "    n_grc += 1\n",
    "print(f'n_grc = {n_grc} ({z_min}-{z_max})')"
   ]
  }
 ],
 "metadata": {
  "kernelspec": {
   "display_name": "Python 3",
   "language": "python",
   "name": "python3"
  },
  "language_info": {
   "codemirror_mode": {
    "name": "ipython",
    "version": 3
   },
   "file_extension": ".py",
   "mimetype": "text/x-python",
   "name": "python",
   "nbconvert_exporter": "python",
   "pygments_lexer": "ipython3",
   "version": "3.8.5"
  }
 },
 "nbformat": 4,
 "nbformat_minor": 4
}
