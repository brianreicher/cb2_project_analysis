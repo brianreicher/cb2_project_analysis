{
 "cells": [
  {
   "cell_type": "code",
   "execution_count": 1,
   "metadata": {},
   "outputs": [
    {
     "name": "stdout",
     "output_type": "stream",
     "text": [
      "Counted 170 rosettes.\n"
     ]
    }
   ],
   "source": [
    "\n",
    "import sys\n",
    "import importlib\n",
    "sys.path.insert(0, '/n/groups/htem/Segmentation/shared-nondev/cb2_segmentation/analysis_mf_grc')\n",
    "\n",
    "import my_plot\n",
    "importlib.reload(my_plot)\n",
    "from my_plot import MyPlotData, my_box_plot\n",
    "\n",
    "def to_ng_coord(coord):\n",
    "    return (\n",
    "        int(coord[0]/4),\n",
    "        int(coord[1]/4),\n",
    "        int(coord[2]/40),\n",
    "        )\n",
    "\n",
    "# def get_eucledean_dist(a, b):\n",
    "#     return np.linalg.norm(\n",
    "#         (a[0]-b[0], a[1]-b[1], a[2]-b[2]))\n",
    "\n",
    "# def get_distance(u, v):\n",
    "#     return get_eucledean_dist(u, v)\n",
    "\n",
    "script_n = 'mf_rosette_locations_figure_210116_center_z'\n",
    "\n",
    "import compress_pickle\n",
    "# input_graph = compress_pickle.load('/n/groups/htem/Segmentation/shared-nondev/cb2_segmentation/analysis_mf_grc/mf_grc_model/input_graph_201114_restricted_z.gz')\n",
    "input_graph = compress_pickle.load('/n/groups/htem/Segmentation/shared-nondev/cb2_segmentation/analysis_mf_grc/mf_grc_model/input_graph_201114.gz')\n",
    "grcs = [k for k in input_graph.grcs.keys()]\n",
    "\n",
    "# z_min = 15\n",
    "# z_max = 35\n",
    "z_min = 20\n",
    "z_max = 30\n",
    "# z_min = 10\n",
    "# z_max = 40\n",
    "x_min = 280\n",
    "x_max = 600\n",
    "mpd = MyPlotData()\n",
    "\n",
    "n_rosettes = 0\n",
    "for mf_id, mf in input_graph.mfs.items():\n",
    "    rosette_capacities = mf.get_all_mf_locs_size()\n",
    "    for rosette_loc, claw_count in rosette_capacities.items():\n",
    "        x, y, z = rosette_loc\n",
    "        if x < x_min*1000 or x > x_max*1000:\n",
    "            continue\n",
    "        if z < z_min*1000 or z > z_max*1000:\n",
    "            continue\n",
    "        mpd.add_data_point(\n",
    "            x=x/1000-x_min,\n",
    "            y=500-y/1000,\n",
    "            z=z/1000,\n",
    "            claw_count=claw_count,\n",
    "            )\n",
    "        n_rosettes += 1\n",
    "\n",
    "print(f'Counted {n_rosettes} rosettes.')\n"
   ]
  },
  {
   "cell_type": "code",
   "execution_count": 13,
   "metadata": {},
   "outputs": [
    {
     "name": "stdout",
     "output_type": "stream",
     "text": [
      "n_mfs = 156 (20-30)\n"
     ]
    }
   ],
   "source": [
    "n_mfs = 0\n",
    "for mf_id, mf in input_graph.mfs.items():\n",
    "    do_count = False\n",
    "    for loc in mf.locs:\n",
    "        x, y, z = loc\n",
    "        if x < x_min*1000 or x > x_max*1000:\n",
    "            continue\n",
    "        if z < z_min*1000 or z > z_max*1000:\n",
    "            continue\n",
    "        do_count = True\n",
    "    if do_count:\n",
    "        n_mfs += 1\n",
    "print(f'n_mfs = {n_mfs} ({z_min}-{z_max})')\n"
   ]
  },
  {
   "cell_type": "code",
   "execution_count": 16,
   "metadata": {},
   "outputs": [
    {
     "name": "stdout",
     "output_type": "stream",
     "text": [
      "Height: 1.206896551724138, Aspect: 2.9\n"
     ]
    },
    {
     "data": {
      "image/png": "[encoded data removed]",
      "text/plain": [
       "<Figure size 291.826x86.8966 with 1 Axes>"
      ]
     },
     "metadata": {},
     "output_type": "display_data"
    },
    {
     "data": {
      "text/plain": [
       "<seaborn.axisgrid.FacetGrid at 0x7fe1f4e32640>"
      ]
     },
     "execution_count": 16,
     "metadata": {},
     "output_type": "execute_result"
    }
   ],
   "source": [
    "\n",
    "def custom_legend_fn(plt):\n",
    "#     plt.legend(bbox_to_anchor=(1.025, .8), loc='upper left', borderaxespad=0.)\n",
    "    plt.legend(bbox_to_anchor=(1, .8), loc='upper left', frameon=False)\n",
    "\n",
    "save_filename=f'{script_n}_xy.svg'\n",
    "import seaborn as sns\n",
    "importlib.reload(my_plot); my_plot.my_relplot(\n",
    "    mpd,\n",
    "    context='paper',\n",
    "    font_scale=.65,\n",
    "    kind='scatter',\n",
    "    x=\"x\",\n",
    "    y=\"y\",\n",
    "    s=20,\n",
    "    linewidth=0,\n",
    "    alpha=.9,\n",
    "    aspect=2.9,\n",
    "    width=3.5,\n",
    "    xlim=(None, x_max-x_min+10),\n",
    "    hue=\"claw_count\",\n",
    "    palette=sns.color_palette(\"rocket_r\", as_cmap=True),\n",
    "    # alpha=.9,\n",
    "    save_filename=save_filename,\n",
    "    y_axis_label='Y (μm)',\n",
    "#     title='Mossy Fiber Rosette Locations',\n",
    "    custom_legend_fn=custom_legend_fn,\n",
    "    show=True,\n",
    "    )\n"
   ]
  },
  {
   "cell_type": "code",
   "execution_count": null,
   "metadata": {},
   "outputs": [],
   "source": [
    "\n",
    "\n",
    "save_filename=f'{script_n}_xz.svg'\n",
    "import seaborn as sns\n",
    "importlib.reload(my_plot); my_plot.my_relplot(\n",
    "    mpd,\n",
    "    kind='scatter',\n",
    "    x=\"x\",\n",
    "    y=\"z\",\n",
    "    aspect=3,\n",
    "    width=10,\n",
    "    xlim=(None, x_max-x_min+10),\n",
    "#     size=\"claw_count\",\n",
    "    hue=\"claw_count\",\n",
    "    palette=sns.color_palette(\"rocket_r\", as_cmap=True),\n",
    "    # alpha=.9,\n",
    "    y_axis_label='Z (μm)',\n",
    "    x_axis_label='X (μm)',\n",
    "    save_filename=save_filename,\n",
    "    custom_legend_fn=custom_legend_fn,\n",
    "    show=True,\n",
    "    )\n"
   ]
  }
 ],
 "metadata": {
  "kernelspec": {
   "display_name": "Python 3",
   "language": "python",
   "name": "python3"
  },
  "language_info": {
   "codemirror_mode": {
    "name": "ipython",
    "version": 3
   },
   "file_extension": ".py",
   "mimetype": "text/x-python",
   "name": "python",
   "nbconvert_exporter": "python",
   "pygments_lexer": "ipython3",
   "version": "3.8.5"
  }
 },
 "nbformat": 4,
 "nbformat_minor": 4
}
