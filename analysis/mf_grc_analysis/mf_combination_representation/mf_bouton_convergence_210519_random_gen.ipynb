{
 "cells": [
  {
   "cell_type": "code",
   "execution_count": 4,
   "metadata": {},
   "outputs": [],
   "source": [
    "import collections\n",
    "from collections import defaultdict\n",
    "import sys\n",
    "import json\n",
    "import random\n",
    "from jsmin import jsmin\n",
    "from io import StringIO\n",
    "import numpy as np\n",
    "import copy\n",
    "import importlib\n",
    "from functools import partial\n",
    "import math\n",
    "import os\n",
    "import compress_pickle\n",
    "import itertools\n",
    "\n",
    "script_n = 'mf_bouton_convergence_210519_random_gen'\n",
    "\n",
    "sys.path.insert(0, '/n/groups/htem/Segmentation/shared-nondev/cb2_segmentation/analysis_mf_grc')\n",
    "import my_plot\n",
    "importlib.reload(my_plot)\n",
    "from my_plot import MyPlotData\n",
    "\n",
    "import tools_mf_graph\n",
    "importlib.reload(tools_mf_graph)\n",
    "\n",
    "fname = ('/n/groups/htem/Segmentation/shared-nondev/cb2_segmentation/analysis_mf_grc/' \\\n",
    "         'gen_db/mf_grc/input_graph_210520_all_100_2.gz')\n",
    "input_graph = compress_pickle.load(fname)\n",
    "\n",
    "# z_min = 19800-10000\n",
    "# z_max = 29800+10000\n",
    "# z_min = 19800\n",
    "# z_max = 29800\n",
    "z_min = 19800-5000\n",
    "z_max = 29800+5000\n",
    "# GrCs are fully reconstructed and proofread from 90k to 150k\n",
    "x_min = 320*1000\n",
    "x_max = 560*1000\n",
    "\n",
    "\n",
    "# pair_reps = defaultdict(int)\n",
    "# mfs_within_box = set()\n",
    "# loc_to_mf = dict()\n",
    "mf_locs_within_box = set()\n",
    "\n",
    "for mf_id, mf in input_graph.mfs.items():\n",
    "    rosette_loc_size = {}\n",
    "    mf.get_all_mf_locs_size(rosette_loc_size)\n",
    "    for rosette_loc, size in rosette_loc_size.items():\n",
    "        x, y, z = rosette_loc\n",
    "        if x < x_min or x > x_max:\n",
    "            continue\n",
    "        if z < z_min or z > z_max:\n",
    "            continue\n",
    "        mf_locs_within_box.add(rosette_loc)\n",
    "#         mfs_within_box.add(mf_id)\n",
    "#         loc_to_mf[rosette_loc] = mf_id\n",
    "\n",
    "\n",
    "def get_convergence_pairs(graph):\n",
    "    convergence_pairs = defaultdict(int)\n",
    "    for grc_id in graph.grcs:\n",
    "        grc = graph.grcs[grc_id]\n",
    "#         connected_edge_count = 0\n",
    "        connected_locs = []\n",
    "        for edge in grc.edges:\n",
    "            mf_id, mf_loc = edge\n",
    "            if mf_loc not in mf_locs_within_box:\n",
    "                continue\n",
    "            connected_locs.append(mf_loc)\n",
    "        # count\n",
    "        for pair in itertools.combinations(connected_locs, 2):\n",
    "            convergence_pairs[tuple(sorted(pair))] += 1\n",
    "    return convergence_pairs\n",
    "\n"
   ]
  },
  {
   "cell_type": "code",
   "execution_count": 8,
   "metadata": {},
   "outputs": [
    {
     "name": "stdout",
     "output_type": "stream",
     "text": [
      "...................................................................................................."
     ]
    }
   ],
   "source": [
    "\n",
    "n_random = 100\n",
    "rounds = []\n",
    "for n in range(n_random):\n",
    "    print('', end='.')\n",
    "    input_observed = input_graph\n",
    "    # input_observed = copy.deepcopy(input_graph)\n",
    "    # input_observed.remove_dendrites(min_len=max_dendrite, max_len=None)\n",
    "\n",
    "    input_observed.randomize_graph_by_grc2(\n",
    "        constant_dendrite_length=22000,\n",
    "        mf_dist_margin=10000,\n",
    "        seed=n,\n",
    "    )\n",
    "    \n",
    "    data = get_convergence_pairs(input_observed)\n",
    "\n",
    "#     connected_grcs = set()\n",
    "#     mf_connections = defaultdict(set)\n",
    "#     mf_size = defaultdict(int)\n",
    "#     for grc_id in input_observed.grcs:\n",
    "#         grc = input_observed.grcs[grc_id]\n",
    "#         connected_edge_count = 0\n",
    "#         for edge in grc.edges:\n",
    "#             mf_id, mf_loc = edge\n",
    "#             if mf_loc not in mf_locs_within_box:\n",
    "#                 continue\n",
    "#             mf_connections[mf_id].add(grc_id)\n",
    "#             mf_size[mf_loc] += 1\n",
    "#             connected_edge_count += 1\n",
    "#         connected_grcs.add((grc_id, connected_edge_count))\n",
    "\n",
    "#     mf_size_sorted = []\n",
    "#     for mf_id in mf_locs_within_box:\n",
    "#         mf_size_sorted.append((mf_id, mf_size[mf_id]))\n",
    "\n",
    "# #     mf_size_sorted.sort(key=lambda x: x[1])\n",
    "\n",
    "#     l = []\n",
    "#     for mf_id in mf_size_sorted:\n",
    "#         mf_id, size = mf_id\n",
    "#         l.append(size)\n",
    "    rounds.append(data)\n"
   ]
  },
  {
   "cell_type": "code",
   "execution_count": 9,
   "metadata": {},
   "outputs": [
    {
     "name": "stdout",
     "output_type": "stream",
     "text": [
      "mf_bouton_convergence_210519_random_gen_circle_22000_14800_34800_100.gz\n"
     ]
    }
   ],
   "source": [
    "import compress_pickle\n",
    "fname = f'{script_n}_circle_22000_{z_min}_{z_max}_{n_random}.gz'\n",
    "print(fname)\n",
    "compress_pickle.dump(rounds, fname)"
   ]
  }
 ],
 "metadata": {
  "kernelspec": {
   "display_name": "Python 3",
   "language": "python",
   "name": "python3"
  },
  "language_info": {
   "codemirror_mode": {
    "name": "ipython",
    "version": 3
   },
   "file_extension": ".py",
   "mimetype": "text/x-python",
   "name": "python",
   "nbconvert_exporter": "python",
   "pygments_lexer": "ipython3",
   "version": "3.8.10"
  }
 },
 "nbformat": 4,
 "nbformat_minor": 4
}
