{
 "cells": [
  {
   "cell_type": "code",
   "execution_count": 6,
   "metadata": {},
   "outputs": [
    {
     "name": "stdout",
     "output_type": "stream",
     "text": [
      "Height: 4.0, Aspect: 1\n"
     ]
    },
    {
     "data": {
      "image/png": "[encoded data removed]",
      "text/plain": [
       "<Figure size 288x288 with 1 Axes>"
      ]
     },
     "metadata": {},
     "output_type": "display_data"
    }
   ],
   "source": [
    "\n",
    "import os\n",
    "import sys\n",
    "import importlib\n",
    "from collections import defaultdict\n",
    "sys.path.insert(0, '/n/groups/htem/Segmentation/shared-nondev/cb2_segmentation/analysis_mf_grc')\n",
    "\n",
    "from tools_pattern import get_eucledean_dist\n",
    "\n",
    "import my_plot\n",
    "importlib.reload(my_plot)\n",
    "from my_plot import MyPlotData, my_box_plot\n",
    "\n",
    "import compress_pickle\n",
    "\n",
    "script_n = 'same_mf_prob_201109_all_plot'\n",
    "import compress_pickle\n",
    "\n",
    "mpd = compress_pickle.load(f\"same_mf_prob_201109_all_data.gz\")\n",
    "mpd = mpd[0]\n",
    "\n",
    "importlib.reload(my_plot); my_plot.my_catplot(\n",
    "    mpd, y='n',\n",
    "    kind='box',\n",
    "    # y='ratio', y_lims=[.25, .75],\n",
    "    context='paper',\n",
    "    # kind='violin',\n",
    "    # font_scale=1.5,\n",
    "    width=4,\n",
    "    aspect=1,\n",
    "    y_axis_label='Count',\n",
    "    x_axis_label='GrCs per Mossy Fiber',\n",
    "    # save_filename=f'{script_n}_bar.svg',\n",
    "    )\n"
   ]
  },
  {
   "cell_type": "code",
   "execution_count": null,
   "metadata": {},
   "outputs": [],
   "source": []
  }
 ],
 "metadata": {
  "kernelspec": {
   "display_name": "Python 3",
   "language": "python",
   "name": "python3"
  },
  "language_info": {
   "codemirror_mode": {
    "name": "ipython",
    "version": 3
   },
   "file_extension": ".py",
   "mimetype": "text/x-python",
   "name": "python",
   "nbconvert_exporter": "python",
   "pygments_lexer": "ipython3",
   "version": "3.8.5"
  }
 },
 "nbformat": 4,
 "nbformat_minor": 4
}
