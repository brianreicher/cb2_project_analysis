{
 "cells": [
  {
   "cell_type": "code",
   "execution_count": 1,
   "metadata": {},
   "outputs": [
    {
     "name": "stdout",
     "output_type": "stream",
     "text": [
      "same_mf_count: 20\n",
      "num_connections: 8076\n",
      "same_mf_pair: [('grc_1993', ['mf_51']), ('grc_2367', ['mf_183']), ('grc_128', ['mf_268']), ('grc_2236', ['mf_230']), ('grc_1345', ['mf_150']), ('grc_1089', ['mf_329']), ('grc_273', ['mf_45']), ('grc_2653', ['mf_560']), ('grc_1703', ['mf_268']), ('grc_2654', ['mf_560']), ('grc_147', ['mf_329']), ('grc_2023', ['mf_73']), ('grc_2532', ['mf_227']), ('grc_395', ['mf_364']), ('grc_2133', ['mf_512']), ('grc_290', ['mf_63']), ('grc_2257', ['mf_56']), ('grc_1085', ['mf_150']), ('grc_1818', ['mf_560']), ('grc_1570', ['mf_198'])]\n"
     ]
    }
   ],
   "source": [
    "\n",
    "import os\n",
    "import sys\n",
    "import importlib\n",
    "from collections import defaultdict\n",
    "sys.path.insert(0, '/n/groups/htem/Segmentation/shared-nondev/cb2_segmentation/analysis_mf_grc')\n",
    "\n",
    "from tools_pattern import get_eucledean_dist\n",
    "\n",
    "'''Load data'''\n",
    "import compress_pickle\n",
    "fname = '/n/groups/htem/Segmentation/shared-nondev/cb2_segmentation/analysis_mf_grc/mf_grc_model/input_graph_201114.gz'\n",
    "input_graph = compress_pickle.load(fname)\n",
    "# min_pattern_len, true_data, fake_data_list = data\n",
    "\n",
    "import my_plot\n",
    "importlib.reload(my_plot)\n",
    "from my_plot import MyPlotData, my_box_plot\n",
    "\n",
    "def to_ng_coord(coord):\n",
    "    return (\n",
    "        int(coord[0]/4),\n",
    "        int(coord[1]/4),\n",
    "        int(coord[2]/40),\n",
    "        )\n",
    "\n",
    "import compress_pickle\n",
    "# input_graph = compress_pickle.load('/n/groups/htem/Segmentation/shared-nondev/cb2_segmentation/analysis_mf_grc/mf_grc_model/input_graph_201114_restricted_z.gz')\n",
    "input_graph = compress_pickle.load('/n/groups/htem/Segmentation/shared-nondev/cb2_segmentation/analysis_mf_grc/mf_grc_model/input_graph_201114.gz')\n",
    "grcs = [k for k in input_graph.grcs.keys()]\n",
    "\n",
    "# z_min = 15\n",
    "# z_max = 35\n",
    "z_min = 20000\n",
    "z_max = 30000\n",
    "x_min = 360000\n",
    "x_max = 520000\n",
    "mpd = MyPlotData()\n",
    "\n",
    "# for mf_id, mf in input_graph.mfs.items():\n",
    "#     rosette_capacities = mf.get_rosette_loc_capacity()\n",
    "#     for rosette_loc, claw_count in rosette_capacities.items():\n",
    "#         x, y, z = rosette_loc\n",
    "#         if x < 360000 or x > 520000:\n",
    "#             continue\n",
    "#         if z < z_min*1000 or z > z_max*1000:\n",
    "#             continue\n",
    "#         mpd.add_data_point(\n",
    "#             x=x/1000,\n",
    "#             y=y/1000,\n",
    "#             z=z/1000,\n",
    "#             claw_count=claw_count,\n",
    "#             )\n",
    "\n",
    "\n",
    "def get_prob(in_graph):\n",
    "    same_mf_pair = []\n",
    "    same_mf_count = 0\n",
    "    num_connections = 0\n",
    "    for grc_id in in_graph.grcs:\n",
    "        grc = in_graph.grcs[grc_id]\n",
    "        soma_loc = grc.soma_loc\n",
    "        x, y, z = soma_loc\n",
    "        # if x < x_min or x > x_max:\n",
    "        #     continue\n",
    "        # if z < z_min or z > z_max:\n",
    "        #     continue\n",
    "        mfs = [mf[0] for mf in grc.edges]\n",
    "        same_mf_count += len(mfs) - len(set(mfs))\n",
    "        num_connections += len(mfs)\n",
    "        for k in set(mfs):\n",
    "            mfs.remove(k)\n",
    "        if len(mfs):\n",
    "            same_mf_pair.append((grc_id, mfs))\n",
    "    print(f'same_mf_count: {same_mf_count}')\n",
    "    print(f'num_connections: {num_connections}')\n",
    "    print(f'same_mf_pair: {same_mf_pair}')\n",
    "    return same_mf_count\n",
    "\n",
    "# mpd = get_claw_lengths(input_graph)\n",
    "mpd = get_prob(input_graph)\n"
   ]
  },
  {
   "cell_type": "code",
   "execution_count": 3,
   "metadata": {},
   "outputs": [
    {
     "name": "stdout",
     "output_type": "stream",
     "text": [
      "2500\n"
     ]
    }
   ],
   "source": [
    "print(len(input_graph.grcs))"
   ]
  },
  {
   "cell_type": "code",
   "execution_count": 5,
   "metadata": {},
   "outputs": [
    {
     "name": "stdout",
     "output_type": "stream",
     "text": [
      "grc_1993\n",
      "{'mf_155', 'mf_51', 'mf_73'}\n",
      "grc_1988\n",
      "{'mf_155', 'mf_73'}\n",
      "grc_1270\n",
      "{'mf_155', 'mf_73'}\n",
      "grc_2647\n",
      "{'mf_51', 'mf_73'}\n",
      "grc_141\n",
      "{'mf_51', 'mf_73'}\n",
      "grc_1016\n",
      "{'mf_51', 'mf_73'}\n",
      "grc_1714\n",
      "{'mf_155', 'mf_73'}\n",
      "grc_125\n",
      "{'mf_51', 'mf_73'}\n"
     ]
    }
   ],
   "source": [
    "# get 2 shares of grc pairs\n",
    "\n",
    "grc_id0 = 'grc_1993'\n",
    "\n",
    "grc0 = input_graph.grcs[grc_id0]\n",
    "mfs0 = set([mf[0] for mf in grc0.edges])\n",
    "for grc_id1 in input_graph.grcs:\n",
    "    grc1 = input_graph.grcs[grc_id1]\n",
    "    mfs1 = set([mf[0] for mf in grc1.edges])\n",
    "    if len(mfs0 & mfs1) >= 2:\n",
    "        print(grc_id1)\n",
    "        print(mfs0 & mfs1)\n",
    "\n"
   ]
  }
 ],
 "metadata": {
  "kernelspec": {
   "display_name": "Python 3",
   "language": "python",
   "name": "python3"
  },
  "language_info": {
   "codemirror_mode": {
    "name": "ipython",
    "version": 3
   },
   "file_extension": ".py",
   "mimetype": "text/x-python",
   "name": "python",
   "nbconvert_exporter": "python",
   "pygments_lexer": "ipython3",
   "version": "3.8.5"
  }
 },
 "nbformat": 4,
 "nbformat_minor": 4
}
