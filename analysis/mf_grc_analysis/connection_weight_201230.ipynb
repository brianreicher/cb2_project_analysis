{
 "cells": [
  {
   "cell_type": "code",
   "execution_count": 5,
   "metadata": {},
   "outputs": [],
   "source": [
    "import collections\n",
    "from collections import defaultdict\n",
    "import sys\n",
    "import json\n",
    "import random\n",
    "from jsmin import jsmin\n",
    "from io import StringIO\n",
    "import numpy as np\n",
    "import copy\n",
    "import importlib\n",
    "from functools import partial\n",
    "import math\n",
    "import os\n",
    "\n",
    "# script_n = os.path.basename(__file__).split('.')[0]\n",
    "script_n = 'connection_weight_201230'\n",
    "\n",
    "sys.path.insert(0, '/n/groups/htem/Segmentation/shared-nondev/cb2_segmentation/analysis_mf_grc')\n",
    "import my_plot\n",
    "importlib.reload(my_plot)\n",
    "from my_plot import MyPlotData\n",
    "\n",
    "from weight_database import WeightDatabase\n",
    "weightdb = WeightDatabase()\n",
    "\n",
    "def weight_fn(syn):\n",
    "    z_len = syn['z_length'] - 40\n",
    "    major_axis_length = syn['major_axis_length'] * .9\n",
    "    diameter = max(z_len, major_axis_length)\n",
    "    diameter = int(diameter/40+.5)\n",
    "    diameter *= 40\n",
    "    r = diameter/2\n",
    "    area = math.pi*r*r\n",
    "    return area\n",
    "\n",
    "weightdb.load_syn_db('/n/groups/htem/Segmentation/shared-nondev/cb2_segmentation/analysis_mf_grc/gen_db/mf_grc/gen_201229_setup01_syndb_threshold_20_coalesced.gz',\n",
    "    weight_fn=weight_fn)\n",
    "\n",
    "mpd = MyPlotData()\n",
    "mpd_raw = MyPlotData()\n",
    "hist = defaultdict(int)\n",
    "weights_db = weightdb.get_weights()\n",
    "raw_data = []\n",
    "\n",
    "n_connections = 0\n",
    "n_synapses = 0\n",
    "\n",
    "for neuron, pc_weights in weights_db.items():\n",
    "    # print(n)\n",
    "    for pc, weights in pc_weights.items():\n",
    "        if len(weights) <= 1:\n",
    "            continue\n",
    "        connection_weight = 0\n",
    "        for w in weights:\n",
    "            n_synapses += 1\n",
    "            connection_weight += w\n",
    "        connection_weight /= 1000000\n",
    "        hist[connection_weight] += 1\n",
    "        n_connections += 1\n",
    "        raw_data.append(connection_weight)\n",
    "        mpd_raw.add_data_point(\n",
    "            cleft_area=connection_weight)\n",
    "\n",
    "for k in sorted([k for k in hist.keys()]):\n",
    "#     print(f'{k}: {hist[k]}')\n",
    "    mpd.add_data_point(\n",
    "        count=hist[k],\n",
    "        cleft_area=k)\n",
    "\n",
    "mpd_cdf = mpd.to_pdf('count', cumulative=False)\n"
   ]
  },
  {
   "cell_type": "code",
   "execution_count": 4,
   "metadata": {},
   "outputs": [
    {
     "name": "stdout",
     "output_type": "stream",
     "text": [
      "Height: 4, Aspect: 1.33\n"
     ]
    },
    {
     "data": {
      "image/png": "[encoded data removed]",
      "text/plain": [
       "<Figure size 383.04x288 with 1 Axes>"
      ]
     },
     "metadata": {},
     "output_type": "display_data"
    }
   ],
   "source": [
    "\n",
    "\n",
    "importlib.reload(my_plot); my_plot.my_displot(\n",
    "    mpd_raw,\n",
    "    x=\"cleft_area\",\n",
    "    # y=\"count\",\n",
    "    # xlim=[None, .6],\n",
    "    # s=100,\n",
    "    kind='hist',\n",
    "    # binwidth=.0399,\n",
    "    # kde=True,\n",
    "    # kde_kws={'bw_adjust': 3.5},\n",
    "    context='paper',\n",
    "    height=4,\n",
    "    y_axis_label='Distribution',\n",
    "    x_axis_label='Area (µm2)',\n",
    "    show=True,\n",
    "    save_filename=f'{script_n}_hist.svg',\n",
    "    )\n",
    "\n"
   ]
  },
  {
   "cell_type": "code",
   "execution_count": 15,
   "metadata": {},
   "outputs": [
    {
     "name": "stdout",
     "output_type": "stream",
     "text": [
      "Height: 4, Aspect: 1.33\n"
     ]
    },
    {
     "data": {
      "image/png": "[encoded data removed]",
      "text/plain": [
       "<Figure size 383.04x288 with 1 Axes>"
      ]
     },
     "metadata": {},
     "output_type": "display_data"
    }
   ],
   "source": [
    "# fit lognormal\n",
    "from scipy.stats import lognorm\n",
    "\n",
    "s, loc, scale = lognorm.fit(raw_data)\n",
    "\n",
    "r = lognorm.rvs(s, loc=loc, scale=scale, size=len(raw_data))\n",
    "\n",
    "mpd_fit = MyPlotData()\n",
    "for v in r:\n",
    "    mpd_fit.add_data_point(\n",
    "        cleft_area=v,\n",
    "        type='Fit')\n",
    "\n",
    "importlib.reload(my_plot); my_plot.my_displot(\n",
    "    mpd_fit,\n",
    "    x=\"cleft_area\",\n",
    "    # y=\"count\",\n",
    "    xlim=[None, 3],\n",
    "    # s=100,\n",
    "    kind='hist',\n",
    "    # binwidth=.0399,\n",
    "    # kde=True,\n",
    "    # kde_kws={'bw_adjust': 3.5},\n",
    "    context='paper',\n",
    "    height=4,\n",
    "    y_axis_label='Distribution',\n",
    "    x_axis_label='Area (µm2)',\n",
    "    show=True,\n",
    "    save_filename=f'{script_n}_hist_fit2.svg',\n",
    "    )"
   ]
  },
  {
   "cell_type": "code",
   "execution_count": 11,
   "metadata": {},
   "outputs": [
    {
     "data": {
      "text/plain": [
       "array([0.86921802, 0.54495736, 0.71947258, ..., 0.60779678, 0.39456718,\n",
       "       1.03940138])"
      ]
     },
     "execution_count": 11,
     "metadata": {},
     "output_type": "execute_result"
    }
   ],
   "source": [
    "mpd_all = MyPlotData()\n",
    "mpd_all.append(mpd_raw)\n",
    "mpd_all.append(mpd_fit)\n",
    "importlib.reload(my_plot); my_plot.my_displot(\n",
    "    mpd_all,\n",
    "    x=\"cleft_area\",\n",
    "    # y=\"count\",\n",
    "    xlim=[None, 50],\n",
    "    # xlim=[-1.5, None],\n",
    "    # s=100,\n",
    "    hue='type',\n",
    "    kind='hist',\n",
    "    discrete=True,\n",
    "    # log_scale_x=True,\n",
    "    # binwidth=.0399,\n",
    "    # kde=True,\n",
    "    # kde_kws={'bw_adjust': 3.5},\n",
    "    stat='probability',\n",
    "    context='paper',\n",
    "    height=4,\n",
    "    aspect=1,\n",
    "    y_axis_label='Frequency',\n",
    "    x_axis_label='Synapses per Connection',\n",
    "    show=True,\n",
    "    save_filename=f'{script_n}_hist_fit.svg',\n",
    "    )\n",
    "print(f'n={len(mpd_raw.data)} connections')"
   ]
  }
 ],
 "metadata": {
  "kernelspec": {
   "display_name": "Python 3",
   "language": "python",
   "name": "python3"
  },
  "language_info": {
   "codemirror_mode": {
    "name": "ipython",
    "version": 3
   },
   "file_extension": ".py",
   "mimetype": "text/x-python",
   "name": "python",
   "nbconvert_exporter": "python",
   "pygments_lexer": "ipython3",
   "version": "3.8.5"
  }
 },
 "nbformat": 4,
 "nbformat_minor": 4
}
