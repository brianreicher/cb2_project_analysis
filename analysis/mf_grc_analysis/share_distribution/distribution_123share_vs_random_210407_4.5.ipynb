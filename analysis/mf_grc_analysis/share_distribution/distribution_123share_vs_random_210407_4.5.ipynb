{
 "cells": [
  {
   "cell_type": "code",
   "execution_count": 1,
   "metadata": {},
   "outputs": [
    {
     "name": "stdout",
     "output_type": "stream",
     "text": [
      "142\n",
      "defaultdict(<class 'int'>, {0: 212629, 1: 11630, 2: 651, 3: 18})\n"
     ]
    }
   ],
   "source": [
    "\n",
    "import os\n",
    "import sys\n",
    "import importlib\n",
    "import copy\n",
    "from collections import defaultdict\n",
    "sys.path.insert(0, '/n/groups/htem/Segmentation/shared-nondev/cb2_segmentation/analysis_mf_grc')\n",
    "\n",
    "from tools_pattern import get_eucledean_dist\n",
    "\n",
    "# script_n = os.path.basename(__file__).split('.')[0]\n",
    "script_n = 'distribution_123share_vs_random_210407'\n",
    "\n",
    "import my_plot\n",
    "importlib.reload(my_plot)\n",
    "from my_plot import MyPlotData, my_box_plot\n",
    "\n",
    "def to_ng_coord(coord):\n",
    "    return (\n",
    "        int(coord[0]/4),\n",
    "        int(coord[1]/4),\n",
    "        int(coord[2]/40),\n",
    "        )\n",
    "\n",
    "import compress_pickle\n",
    "\n",
    "# input_graph = compress_pickle.load('/n/groups/htem/Segmentation/shared-nondev/cb2_segmentation/analysis_mf_grc/'\\\n",
    "#                                    'mf_grc_model/input_graph_201114_restricted_z.gz')\n",
    "fname = ('/n/groups/htem/Segmentation/shared-nondev/cb2_segmentation/analysis_mf_grc/'\\\n",
    "                                   'mf_grc_model/input_graph_210407_xlim_90_140_zlim_0.0_44.0.gz')\n",
    "input_graph = compress_pickle.load(fname)\n",
    "\n",
    "# z_min = 19800\n",
    "# z_max = 29800\n",
    "z_min = 19800\n",
    "z_max = 29800\n",
    "x_min = 105*1000*4\n",
    "x_max = 125*1000*4\n",
    "# radius = 200\n",
    "\n",
    "n_randoms = 5\n",
    "\n",
    "def get_prob(in_graph, unique_count=False, count_within_box=True, return_counted=False):\n",
    "    n_common_pairs = 0\n",
    "    processed = set()\n",
    "    total_n_pairs = 0\n",
    "    hist = defaultdict(int)\n",
    "    n = 0\n",
    "    counted_grcs = 0\n",
    "    for grc_i_id in in_graph.grcs:\n",
    "        n += 1\n",
    "        grc_i = in_graph.grcs[grc_i_id]\n",
    "        x, y, z = grc_i.soma_loc\n",
    "        if count_within_box:\n",
    "            if x < x_min or x > x_max:\n",
    "                continue\n",
    "            if z < z_min or z > z_max:\n",
    "                continue\n",
    "        counted_grcs += 1\n",
    "        rosettes_i = set([mf[0] for mf in grc_i.edges])\n",
    "        for grc_j_id in in_graph.grcs:\n",
    "            if grc_i_id == grc_j_id:\n",
    "                continue\n",
    "            if unique_count and (grc_i_id, grc_j_id) in processed:\n",
    "                continue\n",
    "            processed.add((grc_i_id, grc_j_id))\n",
    "            processed.add((grc_j_id, grc_i_id))\n",
    "            grc_j = in_graph.grcs[grc_j_id]\n",
    "            common_rosettes = set([mf[0] for mf in grc_j.edges])\n",
    "            common_rosettes = common_rosettes & rosettes_i\n",
    "            hist[len(common_rosettes)] += 1\n",
    "    for k in hist:\n",
    "        # fix 0 datapoint plots\n",
    "        if hist[k] == 0:\n",
    "            hist[k] = 1\n",
    "    if return_counted:\n",
    "        return hist, counted_grcs\n",
    "    else:\n",
    "        return hist\n",
    "\n",
    "input_observed = copy.deepcopy(input_graph)\n",
    "hist_data, n_grcs = get_prob(input_observed, count_within_box=True, return_counted=True)\n",
    "\n",
    "print(n_grcs)\n",
    "print(hist_data)\n",
    "# n_grcs = len(input_graph.grcs)"
   ]
  },
  {
   "cell_type": "code",
   "execution_count": 2,
   "metadata": {},
   "outputs": [
    {
     "name": "stdout",
     "output_type": "stream",
     "text": [
      "Average num_claw_per_grc: 3.315457413249211\n",
      "Average num_claw_per_grc: 3.315457413249211\n",
      "Average num_claw_per_grc: 3.315457413249211\n",
      "Average num_claw_per_grc: 3.315457413249211\n",
      "Average num_claw_per_grc: 3.315457413249211\n"
     ]
    }
   ],
   "source": [
    "\n",
    "# import tools_mf_graph\n",
    "# importlib.reload(tools_mf_graph)\n",
    "\n",
    "# input_graph = compress_pickle.load('/n/groups/htem/Segmentation/shared-nondev/cb2_segmentation/analysis_mf_grc/'\\\n",
    "# #                                    'mf_grc_model/input_graph_210407_xlim_90_140_zlim_17_27.gz')\n",
    "#                                    'mf_grc_model/input_graph_210407_xlim_90_140_zlim_2.5_41.5.gz')\n",
    "\n",
    "n_randoms = 5\n",
    "hist_random_21 = []\n",
    "\n",
    "for n in range(n_randoms):\n",
    "    # input_graph.randomize_graph(random_model=True)\n",
    "    input_graph.randomize_graph_by_grc(\n",
    "        single_connection_per_pair=True,\n",
    "        constant_grc_degree=4.5,\n",
    "        constant_dendrite_length=21000,\n",
    "#         always_pick_closest_rosette=True,\n",
    "        )\n",
    "    hist_random = get_prob(input_graph)\n",
    "    hist_random_21.append(hist_random)\n"
   ]
  },
  {
   "cell_type": "code",
   "execution_count": 3,
   "metadata": {},
   "outputs": [
    {
     "name": "stdout",
     "output_type": "stream",
     "text": [
      "Average num_claw_per_grc: 3.315457413249211\n",
      "Average num_claw_per_grc: 3.315457413249211\n",
      "Average num_claw_per_grc: 3.315457413249211\n",
      "Average num_claw_per_grc: 3.315457413249211\n",
      "Average num_claw_per_grc: 3.315457413249211\n"
     ]
    }
   ],
   "source": [
    "\n",
    "n_randoms = 5\n",
    "hist_random_17 = []\n",
    "\n",
    "for n in range(n_randoms):\n",
    "    # input_graph.randomize_graph(random_model=True)\n",
    "    input_graph.randomize_graph_by_grc(\n",
    "        single_connection_per_pair=True,\n",
    "        constant_grc_degree=4.5,\n",
    "        constant_dendrite_length=17000,\n",
    "#         always_pick_closest_rosette=True,\n",
    "        )\n",
    "    hist_random = get_prob(input_graph)\n",
    "    hist_random_17.append(hist_random)\n"
   ]
  },
  {
   "cell_type": "code",
   "execution_count": 4,
   "metadata": {},
   "outputs": [],
   "source": [
    "\n",
    "\n",
    "global_random_n_grcs, hist_global_random = compress_pickle.load('/n/groups/htem/Segmentation/shared-nondev/cb2_segmentation/analysis_mf_grc/mf_grc_analysis/share_distribution/gen_global_random_7k_204k_data_2000.gz')\n",
    "\n",
    "import compress_pickle\n",
    "compress_pickle.dump((\n",
    "    hist_data,\n",
    "    hist_random,\n",
    "    global_random_n_grcs,\n",
    "    hist_global_random,\n",
    "    ), f\"{script_n}_data.gz\")\n",
    "# normalize\n",
    "\n",
    "# total_n_pairs = hist_data[0] + hist_data[1] + hist_data[2] + hist_data[3]\n",
    "# global_random_n_grcs = 204000\n"
   ]
  },
  {
   "cell_type": "code",
   "execution_count": 5,
   "metadata": {},
   "outputs": [
    {
     "name": "stdout",
     "output_type": "stream",
     "text": [
      "Height: 2.142857142857143, Aspect: 1.4\n"
     ]
    },
    {
     "data": {
      "image/png": "[encoded data removed]",
      "text/plain": [
       "<Figure size 324.18x154.286 with 1 Axes>"
      ]
     },
     "metadata": {},
     "output_type": "display_data"
    },
    {
     "data": {
      "text/plain": [
       "<seaborn.axisgrid.FacetGrid at 0x7fd95537e0d0>"
      ]
     },
     "execution_count": 5,
     "metadata": {},
     "output_type": "execute_result"
    }
   ],
   "source": [
    "\n",
    "mpd_data = MyPlotData()\n",
    "for n_share in [1, 2, 3]:\n",
    "    if n_share in hist_data:\n",
    "        mpd_data.add_data_point(\n",
    "            n_share=n_share,\n",
    "            count=hist_data[n_share]/n_grcs,\n",
    "            type='Observation',\n",
    "            )\n",
    "    for hist_random in hist_random_17:\n",
    "        if n_share in hist_random:\n",
    "            mpd_data.add_data_point(\n",
    "                n_share=n_share,\n",
    "                count=hist_random[n_share]/n_grcs,\n",
    "                type='Local Random',\n",
    "                )\n",
    "    for hist_random in hist_random_21:\n",
    "        if n_share in hist_random:\n",
    "            mpd_data.add_data_point(\n",
    "                n_share=n_share,\n",
    "                count=hist_random[n_share]/n_grcs,\n",
    "                type='Local Random 21',\n",
    "                )\n",
    "    if n_share in hist_global_random:\n",
    "        mpd_data.add_data_point(\n",
    "            n_share=n_share,\n",
    "            # need to divide by 2 because we're sampling only 2/200 grcs\n",
    "            # (or multiply others by 2)\n",
    "#             count=hist_global_random[n_share]/global_random_n_grcs/2,\n",
    "            count=hist_global_random[n_share]/global_random_n_grcs,\n",
    "            type='Global Random',\n",
    "            )\n",
    "\n",
    "def custom_legend_fn(plt):\n",
    "#     plt.legend(bbox_to_anchor=(1.025, .8), loc='upper left', borderaxespad=0.)\n",
    "    plt.legend(loc='upper right', frameon=False, markerscale=2, prop={'size': 8})\n",
    "\n",
    "\n",
    "# importlib.reload(my_plot); my_plot.my_relplot(\n",
    "#     mpd_data,\n",
    "#     x='n_share',\n",
    "#     y='count',\n",
    "#     hue='type',\n",
    "#     # hue_order=['Data', 'Random Model'],\n",
    "#     kind='scatter',\n",
    "#     context='paper',\n",
    "#     # ylim=[.005, 50],\n",
    "#     ylim=[.005, 2000],\n",
    "#     xlim=[.7, 3.3],\n",
    "#     log_scale_y=True,\n",
    "#     s=150,\n",
    "#     # xticklabels=['', 1, '', 2, '', 3, ''],\n",
    "#     xticks=[1, 2, 3],\n",
    "#     height=4,\n",
    "#     aspect=1.1,\n",
    "#     custom_legend_fn=custom_legend_fn,\n",
    "#     y_axis_label='GrC pairs / # GrCs',\n",
    "#     x_axis_label='Shared Inputs',\n",
    "#     # save_filename=f'{script_n}.pdf',\n",
    "#     save_filename=f'{script_n}.svg',\n",
    "#     show=True,\n",
    "#     )\n",
    "\n",
    "\n",
    "importlib.reload(my_plot); my_plot.my_relplot(\n",
    "    mpd_data,\n",
    "    x='n_share',\n",
    "    y='count',\n",
    "    hue='type',\n",
    "    # hue_order=['Data', 'Random Model'],\n",
    "    kind='line',\n",
    "    err_style=\"bars\",\n",
    "    ci=68,\n",
    "    markers=True,\n",
    "    dashes=False,\n",
    "#     s=150,\n",
    "    context='paper',\n",
    "    # ylim=[.005, 50],\n",
    "    ylim=[.005, 2000],\n",
    "    xlim=[.9, 3.1],\n",
    "    log_scale_y=True,\n",
    "#     s=150,\n",
    "    # xticklabels=['', 1, '', 2, '', 3, ''],\n",
    "    xticks=[1, 2, 3],\n",
    "#     height=4,\n",
    "    width=3,\n",
    "    aspect=1.4,\n",
    "    font_scale=1,\n",
    "    custom_legend_fn=custom_legend_fn,\n",
    "    y_axis_label='GrC pairs / # GrCs',\n",
    "    x_axis_label='Shared MF inputs',\n",
    "    # save_filename=f'{script_n}.pdf',\n",
    "    save_filename=f'{script_n}_line.svg',\n",
    "    show=True,\n",
    "    )\n"
   ]
  },
  {
   "cell_type": "code",
   "execution_count": 10,
   "metadata": {},
   "outputs": [
    {
     "name": "stdout",
     "output_type": "stream",
     "text": [
      "Height: 3, Aspect: 1.1666666666666667\n"
     ]
    },
    {
     "data": {
      "image/png": "[encoded data removed]",
      "text/plain": [
       "<Figure size 414.52x216 with 1 Axes>"
      ]
     },
     "metadata": {},
     "output_type": "display_data"
    },
    {
     "data": {
      "text/plain": [
       "<seaborn.axisgrid.FacetGrid at 0x7fd8e6583d00>"
      ]
     },
     "execution_count": 10,
     "metadata": {},
     "output_type": "execute_result"
    }
   ],
   "source": [
    "n_grcs=142\n",
    "\n",
    "mpd_data = MyPlotData()\n",
    "for n_share in [1, 2, 3]:\n",
    "    if n_share in hist_data:\n",
    "        mpd_data.add_data_point(\n",
    "            n_share=n_share,\n",
    "            count=hist_data[n_share]/n_grcs,\n",
    "            type='Observation',\n",
    "            )\n",
    "    for hist_random in hist_random_17:\n",
    "        if n_share in hist_random:\n",
    "            mpd_data.add_data_point(\n",
    "                n_share=n_share,\n",
    "                count=hist_random[n_share]/n_grcs,\n",
    "                type='Local Random',\n",
    "                )\n",
    "    for hist_random in hist_random_21:\n",
    "        if n_share in hist_random:\n",
    "            mpd_data.add_data_point(\n",
    "                n_share=n_share,\n",
    "                count=hist_random[n_share]/n_grcs,\n",
    "                type='Local Random 21',\n",
    "                )\n",
    "\n",
    "def custom_legend_fn(plt):\n",
    "#     plt.legend(bbox_to_anchor=(1.025, .8), loc='upper left', borderaxespad=0.)\n",
    "    plt.legend(loc='upper right', frameon=False, markerscale=2, prop={'size': 8})\n",
    "\n",
    "importlib.reload(my_plot); my_plot.my_relplot(\n",
    "    mpd_data,\n",
    "    x='n_share',\n",
    "    y='count',\n",
    "    hue='type',\n",
    "    # hue_order=['Data', 'Random Model'],\n",
    "    kind='line',\n",
    "    err_style=\"bars\",\n",
    "#     ci=68,\n",
    "    markers=True,\n",
    "    dashes=False,\n",
    "#     s=150,\n",
    "    context='paper',\n",
    "    # ylim=[.005, 50],\n",
    "#     ylim=[None, 100],\n",
    "#     ylim=[0, 5],\n",
    "    xlim=[.7, 3.3],\n",
    "    linewidth=2.5,\n",
    "#     log_scale_y=True,\n",
    "#     s=150,\n",
    "    # xticklabels=['', 1, '', 2, '', 3, ''],\n",
    "    xticks=[1, 2, 3],\n",
    "    width=3.5,\n",
    "    height=3,\n",
    "#     aspect=1.1,\n",
    "    custom_legend_fn=custom_legend_fn,\n",
    "#     y_axis_label='GrC pairs / # GrCs',\n",
    "    y_axis_label='Average pairs per GrC',\n",
    "    x_axis_label='Shared MF inputs',\n",
    "    # save_filename=f'{script_n}.pdf',\n",
    "    save_filename=f'{script_n}_line_linear.svg',\n",
    "    show=True,\n",
    "    )\n"
   ]
  },
  {
   "cell_type": "code",
   "execution_count": 7,
   "metadata": {},
   "outputs": [
    {
     "name": "stdout",
     "output_type": "stream",
     "text": [
      "defaultdict(<class 'int'>, {0: 212629, 1: 11630, 2: 651, 3: 18})\n",
      "defaultdict(<class 'int'>, {0: 217830, 1: 6795, 2: 294, 4: 4, 3: 5})\n",
      "4.584507042253521\n",
      "2.035211267605634\n",
      "3.0140845070422535\n",
      "81.90140845070422\n",
      "47.61267605633803\n",
      "66.64788732394366\n"
     ]
    }
   ],
   "source": [
    "n_grcs=142\n",
    "print(hist_data)\n",
    "print(hist_random_17[0])\n",
    "print(hist_data[2]/n_grcs)\n",
    "print(hist_random_17[2][2]/n_grcs)\n",
    "print(hist_random_21[2][2]/n_grcs)\n",
    "print(hist_data[1]/n_grcs)\n",
    "print(hist_random_17[2][1]/n_grcs)\n",
    "print(hist_random_21[2][1]/n_grcs)"
   ]
  }
 ],
 "metadata": {
  "kernelspec": {
   "display_name": "Python 3",
   "language": "python",
   "name": "python3"
  },
  "language_info": {
   "codemirror_mode": {
    "name": "ipython",
    "version": 3
   },
   "file_extension": ".py",
   "mimetype": "text/x-python",
   "name": "python",
   "nbconvert_exporter": "python",
   "pygments_lexer": "ipython3",
   "version": "3.8.5"
  }
 },
 "nbformat": 4,
 "nbformat_minor": 4
}
