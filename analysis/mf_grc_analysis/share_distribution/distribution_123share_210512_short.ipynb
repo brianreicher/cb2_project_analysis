{
 "cells": [
  {
   "cell_type": "code",
   "execution_count": 1,
   "metadata": {},
   "outputs": [
    {
     "name": "stdout",
     "output_type": "stream",
     "text": [
      "206\n",
      "defaultdict(<class 'int'>, {0: 508255, 1: 6158, 2: 171, 3: 4})\n"
     ]
    }
   ],
   "source": [
    "\n",
    "import os\n",
    "import sys\n",
    "import importlib\n",
    "import copy\n",
    "from collections import defaultdict\n",
    "sys.path.insert(0, '/n/groups/htem/Segmentation/shared-nondev/cb2_segmentation/analysis_mf_grc')\n",
    "\n",
    "from tools_pattern import get_eucledean_dist\n",
    "\n",
    "# script_n = os.path.basename(__file__).split('.')[0]\n",
    "script_n = 'distribution_123share_210512_random_test'\n",
    "\n",
    "import my_plot\n",
    "importlib.reload(my_plot)\n",
    "from my_plot import MyPlotData, my_box_plot\n",
    "\n",
    "def to_ng_coord(coord):\n",
    "    return (\n",
    "        int(coord[0]/4),\n",
    "        int(coord[1]/4),\n",
    "        int(coord[2]/40),\n",
    "        )\n",
    "\n",
    "import compress_pickle\n",
    "\n",
    "# input_graph = compress_pickle.load('/n/groups/htem/Segmentation/shared-nondev/cb2_segmentation/analysis_mf_grc/'\\\n",
    "#                                    'mf_grc_model/input_graph_201114_restricted_z.gz')\n",
    "fname = ('/n/groups/htem/Segmentation/shared-nondev/cb2_segmentation/analysis_mf_grc/'\\\n",
    "#                                    'mf_grc_model/input_graph_210407_xlim_90_140_zlim_0.0_44.0.gz')\n",
    "                                   'mf_grc_model/input_graph_210407_all.gz')\n",
    "input_graph = compress_pickle.load(fname)\n",
    "\n",
    "# z_min = 19800\n",
    "# z_max = 29800\n",
    "z_min = 19800\n",
    "z_max = 29800\n",
    "# GrCs are fully reconstructed and proofread from 90k to 150k\n",
    "x_min = 105*1000*4\n",
    "x_max = 135*1000*4\n",
    "# radius = 200\n",
    "\n",
    "n_randoms = 5\n",
    "replication_hist2 = defaultdict(int)\n",
    "grc_ids = set()\n",
    "mf_ids = set()\n",
    "replicated_2shares = defaultdict(int)\n",
    "\n",
    "def filter_by_len(edges, soma_loc, dendrite_len_threshold):\n",
    "    if dendrite_len_threshold is None:\n",
    "        return edges\n",
    "    ret = []\n",
    "    for e in edges:\n",
    "        mf_id, mf_loc = e\n",
    "        if get_eucledean_dist(soma_loc, mf_loc) <= dendrite_len_threshold:\n",
    "            ret.append(e)\n",
    "    return ret\n",
    "\n",
    "def get_connected_mfs(grc, max_len):\n",
    "    edges = filter_by_len(grc.edges, grc.soma_loc, max_len)\n",
    "    mfs = set()\n",
    "    locs = set()\n",
    "    for e in edges:\n",
    "        mfs.add(e[0])\n",
    "        locs.add(e[1])\n",
    "    return mfs, locs\n",
    "\n",
    "def get_prob(in_graph, unique_count=False, count_within_box=True, return_counted=False,\n",
    "            dendrite_len_threshold=None):\n",
    "    n_common_pairs = 0\n",
    "    processed = set()\n",
    "    total_n_pairs = 0\n",
    "    hist = defaultdict(int)\n",
    "    n = 0\n",
    "    counted_grcs = 0\n",
    "    for grc_i_id in in_graph.grcs:\n",
    "        n += 1\n",
    "        grc_i = in_graph.grcs[grc_i_id]\n",
    "        x, y, z = grc_i.soma_loc\n",
    "        if count_within_box:\n",
    "            if x < x_min or x > x_max:\n",
    "                continue\n",
    "            if z < z_min or z > z_max:\n",
    "                continue\n",
    "        counted_grcs += 1\n",
    "        grc_ids.add(grc_i_id)\n",
    "        mfs_i, _ = get_connected_mfs(grc_i, dendrite_len_threshold)\n",
    "        for grc_j_id in in_graph.grcs:\n",
    "            if grc_i_id == grc_j_id:\n",
    "                continue\n",
    "            if unique_count and (grc_i_id, grc_j_id) in processed:\n",
    "                continue\n",
    "            processed.add((grc_i_id, grc_j_id))\n",
    "            processed.add((grc_j_id, grc_i_id))\n",
    "            grc_j = in_graph.grcs[grc_j_id]\n",
    "            x, y, z = grc_j.soma_loc\n",
    "            mfs_j, _ = get_connected_mfs(grc_j, dendrite_len_threshold)\n",
    "            common_mfs = mfs_i & mfs_j\n",
    "            hist[len(common_mfs)] += 1\n",
    "            if len(common_mfs) == 2:\n",
    "                replication_hist2[grc_i_id] += 1\n",
    "                common_mfs = tuple(sorted(list(common_mfs)))\n",
    "                replicated_2shares[common_mfs] += 1\n",
    "    for k in hist:\n",
    "        # fix 0 datapoint plots\n",
    "        if hist[k] == 0:\n",
    "            hist[k] = 1\n",
    "    if return_counted:\n",
    "        return hist, counted_grcs\n",
    "    else:\n",
    "        return hist\n",
    "\n",
    "input_observed = copy.deepcopy(input_graph)\n",
    "\n",
    "input_observed.remove_dendrites(min_len=None, max_len=22000)\n",
    "\n",
    "# input_graph.randomize_graph_by_grc2(\n",
    "# #     constant_dendrite_length='depth',\n",
    "#     mf_dist_margin=5000,\n",
    "#     seed=1,\n",
    "# )\n",
    "    \n",
    "# input_observed.edge_probabilities_by_pos = None\n",
    "# input_observed.shuffle_edges(\n",
    "#     seed=0,\n",
    "#     max_edge_len=60000,\n",
    "# #     mf_dist_margin=10000,\n",
    "#     )\n",
    "\n",
    "hist_data, n_grcs = get_prob(input_observed, count_within_box=True, return_counted=True,\n",
    "#                             dendrite_len_threshold=25000,\n",
    "                            )\n",
    "\n",
    "print(n_grcs)\n",
    "print(hist_data)\n",
    "# n_grcs = len(input_graph.grcs)\n",
    "\n",
    "replication_hist2_list = []\n",
    "for grc in grc_ids:\n",
    "    if grc in replication_hist2:\n",
    "        replication_hist2_list.append((grc, replication_hist2[grc]))\n",
    "    else:\n",
    "        replication_hist2_list.append((grc, 0))\n",
    "\n",
    "replication_hist2_list_sorted = sorted(replication_hist2_list, key=lambda x: x[1])\n",
    "\n",
    "mpd = MyPlotData()\n",
    "mpd_count = MyPlotData()\n",
    "i = 0\n",
    "for grc_id, count in replication_hist2_list_sorted:\n",
    "    mpd_count.add_data_point(\n",
    "        count=count,\n",
    "        grc_id=grc_id,\n",
    "        i=i,\n",
    "        model='Random',\n",
    "    )\n",
    "    i += 1\n"
   ]
  },
  {
   "cell_type": "code",
   "execution_count": 2,
   "metadata": {},
   "outputs": [
    {
     "name": "stdout",
     "output_type": "stream",
     "text": [
      "Height: 4, Aspect: 2\n"
     ]
    },
    {
     "data": {
      "image/png": "[encoded data removed]",
      "text/plain": [
       "<Figure size 576x288 with 1 Axes>"
      ]
     },
     "metadata": {},
     "output_type": "display_data"
    },
    {
     "data": {
      "text/plain": [
       "<seaborn.axisgrid.FacetGrid at 0x7fde182211f0>"
      ]
     },
     "execution_count": 2,
     "metadata": {},
     "output_type": "execute_result"
    }
   ],
   "source": [
    "\n",
    "importlib.reload(my_plot); my_plot.my_relplot(\n",
    "    mpd_count,\n",
    "    x='i',\n",
    "    y='count',\n",
    "#     kind='hist',\n",
    "    context='paper',\n",
    "    linewidth=2.5,\n",
    "#     kde=True,\n",
    "#     stat='density',\n",
    "    height=4,\n",
    "    aspect=2,\n",
    "    y_axis_label='# of 2-share GrC partners',\n",
    "    x_axis_label='Sorted GrCs',\n",
    "    save_filename=f'{script_n}_line.svg',\n",
    "    show=True,\n",
    "    )"
   ]
  },
  {
   "cell_type": "code",
   "execution_count": 4,
   "metadata": {},
   "outputs": [
    {
     "name": "stdout",
     "output_type": "stream",
     "text": [
      "Height: 4, Aspect: 2\n"
     ]
    },
    {
     "data": {
      "image/png": "[encoded data removed]",
      "text/plain": [
       "<Figure size 692.77x288 with 1 Axes>"
      ]
     },
     "metadata": {},
     "output_type": "display_data"
    },
    {
     "data": {
      "text/plain": [
       "<seaborn.axisgrid.FacetGrid at 0x7fdda6a38f10>"
      ]
     },
     "execution_count": 4,
     "metadata": {},
     "output_type": "execute_result"
    }
   ],
   "source": [
    "\n",
    "# mpd_count_random = compress_pickle.load('distribution_123share_210512_random.gz')\n",
    "# mpd_count_random = compress_pickle.load('distribution_123share_210512_random_test.gz')\n",
    "# mpd_count_random2 = compress_pickle.load('distribution_123share_210512_random_test.gz')\n",
    "\n",
    "mpd_all = MyPlotData()\n",
    "mpd_all.append(mpd_count)\n",
    "# mpd_all.append(compress_pickle.load(\n",
    "#     'distribution_123share_210512_random_22000_5000.gz').add_key_value('model', '22000_5000'))\n",
    "\n",
    "mpd_all.append(compress_pickle.load(\n",
    "    'distribution_123share_210512_random_test_test_X_420000_540000_Z_19800_29800.gz').add_key_value(\n",
    "    'model', 'sphere_22'))\n",
    "\n",
    "# mpd_all.append(compress_pickle.load(\n",
    "#     'sharedist_bouton_210514_random_sphere_15000_X_420000_540000_Z_19800_29800.gz').add_key_value(\n",
    "#     'model', 'sphere_15'))\n",
    "\n",
    "# mpd_all.append(compress_pickle.load(\n",
    "#     'sharedist_bouton_210514_random_sphere_30000_X_420000_540000_Z_19800_29800.gz').add_key_value(\n",
    "#     'model', 'sphere_30'))\n",
    "\n",
    "importlib.reload(my_plot); my_plot.my_relplot(\n",
    "    mpd_all,\n",
    "    x='i',\n",
    "    y='count',\n",
    "    hue='model',\n",
    "    context='paper',\n",
    "    linewidth=2.5,\n",
    "#     kde=True,\n",
    "#     stat='density',\n",
    "    height=4,\n",
    "    aspect=2,\n",
    "    y_axis_label='# of 2-share GrC partners',\n",
    "    x_axis_label='Sorted GrCs',\n",
    "    save_filename=f'{script_n}_line.svg',\n",
    "    show=True,\n",
    "    )"
   ]
  }
 ],
 "metadata": {
  "kernelspec": {
   "display_name": "Python 3",
   "language": "python",
   "name": "python3"
  },
  "language_info": {
   "codemirror_mode": {
    "name": "ipython",
    "version": 3
   },
   "file_extension": ".py",
   "mimetype": "text/x-python",
   "name": "python",
   "nbconvert_exporter": "python",
   "pygments_lexer": "ipython3",
   "version": "3.8.5"
  }
 },
 "nbformat": 4,
 "nbformat_minor": 4
}
