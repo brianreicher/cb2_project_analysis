{
 "cells": [
  {
   "cell_type": "code",
   "execution_count": 1,
   "metadata": {},
   "outputs": [
    {
     "name": "stdout",
     "output_type": "stream",
     "text": [
      "2499\n",
      "defaultdict(<class 'int'>, {0: 6061972, 1: 173518, 2: 6822, 3: 186, 4: 4})\n"
     ]
    }
   ],
   "source": [
    "\n",
    "import os\n",
    "import sys\n",
    "import importlib\n",
    "import copy\n",
    "from collections import defaultdict\n",
    "sys.path.insert(0, '/n/groups/htem/Segmentation/shared-nondev/cb2_segmentation/analysis_mf_grc')\n",
    "\n",
    "from tools_pattern import get_eucledean_dist\n",
    "\n",
    "# script_n = os.path.basename(__file__).split('.')[0]\n",
    "script_n = 'distribution_123share_210512_all'\n",
    "\n",
    "import my_plot\n",
    "importlib.reload(my_plot)\n",
    "from my_plot import MyPlotData, my_box_plot\n",
    "\n",
    "def to_ng_coord(coord):\n",
    "    return (\n",
    "        int(coord[0]/4),\n",
    "        int(coord[1]/4),\n",
    "        int(coord[2]/40),\n",
    "        )\n",
    "\n",
    "import compress_pickle\n",
    "\n",
    "# input_graph = compress_pickle.load('/n/groups/htem/Segmentation/shared-nondev/cb2_segmentation/analysis_mf_grc/'\\\n",
    "#                                    'mf_grc_model/input_graph_201114_restricted_z.gz')\n",
    "fname = ('/n/groups/htem/Segmentation/shared-nondev/cb2_segmentation/analysis_mf_grc/'\\\n",
    "#                                    'mf_grc_model/input_graph_210407_xlim_90_140_zlim_0.0_44.0.gz')\n",
    "                                   'mf_grc_model/input_graph_210407_all.gz')\n",
    "input_graph = compress_pickle.load(fname)\n",
    "\n",
    "# z_min = 19800\n",
    "# z_max = 29800\n",
    "z_min = 19800-2500\n",
    "z_max = 29800+2500\n",
    "# GrCs are fully reconstructed and proofread from 90k to 150k\n",
    "# MFs are from 70k to 160k\n",
    "x_min = 95*1000*4\n",
    "x_max = 145*1000*4\n",
    "# radius = 200\n",
    "\n",
    "n_randoms = 5\n",
    "replication_hist2 = defaultdict(int)\n",
    "grc_ids = set()\n",
    "mf_ids = set()\n",
    "replicated_2shares = defaultdict(int)\n",
    "\n",
    "def get_prob(in_graph, unique_count=False, count_within_box=True, return_counted=False):\n",
    "    n_common_pairs = 0\n",
    "    processed = set()\n",
    "    total_n_pairs = 0\n",
    "    hist = defaultdict(int)\n",
    "    n = 0\n",
    "    counted_grcs = 0\n",
    "    for grc_i_id in in_graph.grcs:\n",
    "        n += 1\n",
    "        grc_i = in_graph.grcs[grc_i_id]\n",
    "        x, y, z = grc_i.soma_loc\n",
    "        if count_within_box:\n",
    "            if x < x_min or x > x_max:\n",
    "                continue\n",
    "            if z < z_min or z > z_max:\n",
    "                continue\n",
    "        counted_grcs += 1\n",
    "        grc_ids.add(grc_i_id)\n",
    "        rosettes_i = set([mf[0] for mf in grc_i.edges])\n",
    "        for r in rosettes_i:\n",
    "            mf_ids.add(r)\n",
    "        for grc_j_id in in_graph.grcs:\n",
    "            if grc_i_id == grc_j_id:\n",
    "                continue\n",
    "            if unique_count and (grc_i_id, grc_j_id) in processed:\n",
    "                continue\n",
    "            processed.add((grc_i_id, grc_j_id))\n",
    "            processed.add((grc_j_id, grc_i_id))\n",
    "            grc_j = in_graph.grcs[grc_j_id]\n",
    "            x, y, z = grc_j.soma_loc\n",
    "#             if count_within_box:\n",
    "#                 if x < x_min or x > x_max:\n",
    "#                     continue\n",
    "#                 if z < z_min or z > z_max:\n",
    "#                     continue\n",
    "            common_rosettes = set([mf[0] for mf in grc_j.edges])\n",
    "            common_rosettes = common_rosettes & rosettes_i\n",
    "            hist[len(common_rosettes)] += 1\n",
    "            if len(common_rosettes) == 2:\n",
    "                replication_hist2[grc_i_id] += 1\n",
    "                common_rosettes = tuple(sorted(list(common_rosettes)))\n",
    "                replicated_2shares[common_rosettes] += 1\n",
    "    for k in hist:\n",
    "        # fix 0 datapoint plots\n",
    "        if hist[k] == 0:\n",
    "            hist[k] = 1\n",
    "    if return_counted:\n",
    "        return hist, counted_grcs\n",
    "    else:\n",
    "        return hist\n",
    "\n",
    "input_observed = copy.deepcopy(input_graph)\n",
    "hist_data, n_grcs = get_prob(input_observed, count_within_box=False, return_counted=True)\n",
    "\n",
    "print(n_grcs)\n",
    "print(hist_data)\n",
    "# n_grcs = len(input_graph.grcs)"
   ]
  },
  {
   "cell_type": "code",
   "execution_count": 2,
   "metadata": {},
   "outputs": [
    {
     "name": "stdout",
     "output_type": "stream",
     "text": [
      "564\n"
     ]
    }
   ],
   "source": [
    "print(len(mf_ids))"
   ]
  },
  {
   "cell_type": "code",
   "execution_count": 3,
   "metadata": {},
   "outputs": [],
   "source": [
    "replication_hist2_list = []\n",
    "for grc in grc_ids:\n",
    "    if grc in replication_hist2:\n",
    "        replication_hist2_list.append((grc, replication_hist2[grc]))\n",
    "    else:\n",
    "        replication_hist2_list.append((grc, 0))\n",
    "\n",
    "replication_hist2_list_sorted = sorted(replication_hist2_list, key=lambda x: x[1])"
   ]
  },
  {
   "cell_type": "code",
   "execution_count": 4,
   "metadata": {},
   "outputs": [],
   "source": [
    "mpd = MyPlotData()\n",
    "mpd_count = MyPlotData()\n",
    "i = 0\n",
    "for grc_id, count in replication_hist2_list_sorted:\n",
    "    mpd_count.add_data_point(\n",
    "        count=count,\n",
    "        grc_id=grc_id,\n",
    "        i=i,\n",
    "        model='Observed',\n",
    "    )\n",
    "    i += 1"
   ]
  },
  {
   "cell_type": "code",
   "execution_count": 5,
   "metadata": {},
   "outputs": [
    {
     "name": "stdout",
     "output_type": "stream",
     "text": [
      "Height: 4, Aspect: 2\n"
     ]
    },
    {
     "data": {
      "image/png": "[encoded data removed]",
      "text/plain": [
       "<Figure size 576x288 with 1 Axes>"
      ]
     },
     "metadata": {},
     "output_type": "display_data"
    },
    {
     "data": {
      "text/plain": [
       "<seaborn.axisgrid.FacetGrid at 0x7f11135a0d00>"
      ]
     },
     "execution_count": 5,
     "metadata": {},
     "output_type": "execute_result"
    }
   ],
   "source": [
    "\n",
    "importlib.reload(my_plot); my_plot.my_relplot(\n",
    "    mpd_count,\n",
    "    x='i',\n",
    "    y='count',\n",
    "#     kind='hist',\n",
    "    context='paper',\n",
    "    linewidth=2.5,\n",
    "#     kde=True,\n",
    "#     stat='density',\n",
    "    height=4,\n",
    "    aspect=2,\n",
    "    y_axis_label='# of 2-share GrC partners',\n",
    "    x_axis_label='Sorted GrCs',\n",
    "    save_filename=f'{script_n}_line.svg',\n",
    "    show=True,\n",
    "    )"
   ]
  },
  {
   "cell_type": "code",
   "execution_count": 7,
   "metadata": {},
   "outputs": [],
   "source": [
    "replicated_2shares_list = [(k, v) for k, v in replicated_2shares.items()]\n",
    "replicated_2shares_list.sort(key=lambda x: x[1])\n",
    "mf_2share_representation = defaultdict(int)\n",
    "for mfs, count in replicated_2shares_list:\n",
    "#     print(i)\n",
    "    for mf in mfs:\n",
    "        mf_2share_representation[mf] += count"
   ]
  },
  {
   "cell_type": "code",
   "execution_count": 9,
   "metadata": {},
   "outputs": [],
   "source": [
    "# mf_2share_representation\n",
    "compress_pickle.dump(mf_2share_representation, 'distribution_123share_210512_all_mfs_rep.gz')"
   ]
  },
  {
   "cell_type": "code",
   "execution_count": 2,
   "metadata": {},
   "outputs": [
    {
     "name": "stdout",
     "output_type": "stream",
     "text": [
      "Average num_claw_per_grc: 3.3192161820480406\n",
      "Average num_claw_per_grc: 3.3192161820480406\n",
      "Average num_claw_per_grc: 3.3192161820480406\n",
      "Average num_claw_per_grc: 3.3192161820480406\n",
      "Average num_claw_per_grc: 3.3192161820480406\n"
     ]
    }
   ],
   "source": [
    "\n",
    "import tools_mf_graph\n",
    "importlib.reload(tools_mf_graph)\n",
    "from tools_mf_graph import GCLGraph\n",
    "fname = ('/n/groups/htem/Segmentation/shared-nondev/cb2_segmentation/analysis_mf_grc/'\\\n",
    "                                   'mf_grc_model/input_graph_210407_xlim_90_140_zlim_0.0_44.0.gz')\n",
    "input_graph = compress_pickle.load(fname)\n",
    "input_graph.avg_edge_count_by_depth = None\n",
    "\n",
    "n_randoms = 5\n",
    "hist_random_21 = []\n",
    "\n",
    "for n in range(n_randoms):\n",
    "    # input_graph.randomize_graph(random_model=True)\n",
    "    input_graph.randomize_graph_by_grc2(\n",
    "        single_connection_per_pair=True,\n",
    "        constant_grc_degree='depth',\n",
    "        constant_dendrite_length=21000,\n",
    "#         always_pick_closest_rosette=True,\n",
    "        )\n",
    "    hist_random = get_prob(input_graph)\n",
    "    hist_random_21.append(hist_random)\n"
   ]
  },
  {
   "cell_type": "code",
   "execution_count": 3,
   "metadata": {},
   "outputs": [
    {
     "name": "stdout",
     "output_type": "stream",
     "text": [
      "Average num_claw_per_grc: 3.3192161820480406\n",
      "Average num_claw_per_grc: 3.3192161820480406\n",
      "Average num_claw_per_grc: 3.3192161820480406\n",
      "Average num_claw_per_grc: 3.3192161820480406\n",
      "Average num_claw_per_grc: 3.3192161820480406\n"
     ]
    }
   ],
   "source": [
    "\n",
    "n_randoms = 5\n",
    "hist_random_17 = []\n",
    "\n",
    "for n in range(n_randoms):\n",
    "    # input_graph.randomize_graph(random_model=True)\n",
    "    input_graph.randomize_graph_by_grc2(\n",
    "        single_connection_per_pair=True,\n",
    "        constant_grc_degree='depth',\n",
    "        constant_dendrite_length=21000,\n",
    "#         always_pick_closest_rosette=True,\n",
    "        )\n",
    "    hist_random = get_prob(input_graph)\n",
    "    hist_random_17.append(hist_random)\n"
   ]
  },
  {
   "cell_type": "code",
   "execution_count": 4,
   "metadata": {},
   "outputs": [
    {
     "name": "stdout",
     "output_type": "stream",
     "text": [
      "Average num_claw_per_grc: 3.3192161820480406\n",
      "Average dendrite len: 21843\n",
      "21843\n",
      "Average num_claw_per_grc: 3.3192161820480406\n",
      "21843\n",
      "Average num_claw_per_grc: 3.3192161820480406\n",
      "21843\n",
      "Average num_claw_per_grc: 3.3192161820480406\n",
      "21843\n",
      "Average num_claw_per_grc: 3.3192161820480406\n",
      "21843\n"
     ]
    }
   ],
   "source": [
    "\n",
    "import tools_mf_graph\n",
    "importlib.reload(tools_mf_graph)\n",
    "from tools_mf_graph import GCLGraph\n",
    "fname = ('/n/groups/htem/Segmentation/shared-nondev/cb2_segmentation/analysis_mf_grc/'\\\n",
    "                                   'mf_grc_model/input_graph_210407_xlim_90_140_zlim_0.0_44.0.gz')\n",
    "input_graph = compress_pickle.load(fname)\n",
    "input_graph.avg_edge_count_by_depth = None\n",
    "input_graph.avg_dendrite_len = None\n",
    "\n",
    "n_randoms = 5\n",
    "hist_random_avg = []\n",
    "\n",
    "for n in range(n_randoms):\n",
    "    # input_graph.randomize_graph(random_model=True)\n",
    "    input_graph.randomize_graph_by_grc2(\n",
    "        single_connection_per_pair=True,\n",
    "        constant_grc_degree='depth',\n",
    "        constant_dendrite_length=True,\n",
    "#         always_pick_closest_rosette=True,\n",
    "        )\n",
    "    hist = get_prob(input_graph)\n",
    "    hist_random_avg.append(hist)\n"
   ]
  },
  {
   "cell_type": "code",
   "execution_count": 5,
   "metadata": {},
   "outputs": [],
   "source": [
    "\n",
    "n_randoms = 5\n",
    "hist_shuffle = []\n",
    "\n",
    "for n in range(n_randoms):\n",
    "    input_graph.randomize_graph_by_grc(\n",
    "        mf_dist_margin=4000,\n",
    "        single_connection_per_pair=True,\n",
    "        )\n",
    "    hist = get_prob(input_graph)\n",
    "    hist_shuffle.append(hist)\n"
   ]
  },
  {
   "cell_type": "code",
   "execution_count": 6,
   "metadata": {},
   "outputs": [],
   "source": [
    "\n",
    "\n",
    "global_random_n_grcs, hist_global_random = compress_pickle.load('/n/groups/htem/Segmentation/shared-nondev/cb2_segmentation/analysis_mf_grc/mf_grc_analysis/share_distribution/gen_global_random_7k_204k_data_2000.gz')\n",
    "\n",
    "import compress_pickle\n",
    "compress_pickle.dump((\n",
    "    hist_data,\n",
    "    hist_random,\n",
    "    global_random_n_grcs,\n",
    "    hist_global_random,\n",
    "    ), f\"{script_n}_data.gz\")\n",
    "# normalize\n",
    "\n",
    "# total_n_pairs = hist_data[0] + hist_data[1] + hist_data[2] + hist_data[3]\n",
    "# global_random_n_grcs = 204000\n"
   ]
  },
  {
   "cell_type": "code",
   "execution_count": 7,
   "metadata": {},
   "outputs": [
    {
     "name": "stdout",
     "output_type": "stream",
     "text": [
      "Height: 2.142857142857143, Aspect: 1.4\n"
     ]
    },
    {
     "data": {
      "image/png": "[encoded data removed]",
      "text/plain": [
       "<Figure size 315.305x154.286 with 1 Axes>"
      ]
     },
     "metadata": {},
     "output_type": "display_data"
    },
    {
     "data": {
      "text/plain": [
       "<seaborn.axisgrid.FacetGrid at 0x7ff48c34be50>"
      ]
     },
     "execution_count": 7,
     "metadata": {},
     "output_type": "execute_result"
    }
   ],
   "source": [
    "\n",
    "mpd_data = MyPlotData()\n",
    "for n_share in [1, 2, 3]:\n",
    "    if n_share in hist_data:\n",
    "        mpd_data.add_data_point(\n",
    "            n_share=n_share,\n",
    "            count=hist_data[n_share]/n_grcs,\n",
    "            type='Observation',\n",
    "            )\n",
    "    for hist_random in hist_random_avg:\n",
    "        if n_share in hist_random:\n",
    "            mpd_data.add_data_point(\n",
    "                n_share=n_share,\n",
    "                count=hist_random[n_share]/n_grcs,\n",
    "                type='Local Random',\n",
    "                )\n",
    "    if n_share in hist_global_random:\n",
    "        mpd_data.add_data_point(\n",
    "            n_share=n_share,\n",
    "            # need to divide by 2 because we're sampling only 2/200 grcs\n",
    "            # (or multiply others by 2)\n",
    "#             count=hist_global_random[n_share]/global_random_n_grcs/2,\n",
    "            count=hist_global_random[n_share]/global_random_n_grcs,\n",
    "            type='Global Random',\n",
    "            )\n",
    "\n",
    "def custom_legend_fn(plt):\n",
    "#     plt.legend(bbox_to_anchor=(1.025, .8), loc='upper left', borderaxespad=0.)\n",
    "    plt.legend(loc='upper right', frameon=False, markerscale=2, prop={'size': 8})\n",
    "\n",
    "\n",
    "# importlib.reload(my_plot); my_plot.my_relplot(\n",
    "#     mpd_data,\n",
    "#     x='n_share',\n",
    "#     y='count',\n",
    "#     hue='type',\n",
    "#     # hue_order=['Data', 'Random Model'],\n",
    "#     kind='scatter',\n",
    "#     context='paper',\n",
    "#     # ylim=[.005, 50],\n",
    "#     ylim=[.005, 2000],\n",
    "#     xlim=[.7, 3.3],\n",
    "#     log_scale_y=True,\n",
    "#     s=150,\n",
    "#     # xticklabels=['', 1, '', 2, '', 3, ''],\n",
    "#     xticks=[1, 2, 3],\n",
    "#     height=4,\n",
    "#     aspect=1.1,\n",
    "#     custom_legend_fn=custom_legend_fn,\n",
    "#     y_axis_label='GrC pairs / # GrCs',\n",
    "#     x_axis_label='Shared Inputs',\n",
    "#     # save_filename=f'{script_n}.pdf',\n",
    "#     save_filename=f'{script_n}.svg',\n",
    "#     show=True,\n",
    "#     )\n",
    "\n",
    "\n",
    "importlib.reload(my_plot); my_plot.my_relplot(\n",
    "    mpd_data,\n",
    "    x='n_share',\n",
    "    y='count',\n",
    "    hue='type',\n",
    "    # hue_order=['Data', 'Random Model'],\n",
    "    kind='line',\n",
    "    err_style=\"bars\",\n",
    "    ci=68,\n",
    "    markers=True,\n",
    "    dashes=False,\n",
    "#     s=150,\n",
    "    context='paper',\n",
    "    # ylim=[.005, 50],\n",
    "    ylim=[.005, 2000],\n",
    "    xlim=[.9, 3.1],\n",
    "    log_scale_y=True,\n",
    "    linewidth=2.5,\n",
    "#     s=150,\n",
    "    # xticklabels=['', 1, '', 2, '', 3, ''],\n",
    "    xticks=[1, 2, 3],\n",
    "#     height=4,\n",
    "    width=3,\n",
    "    aspect=1.4,\n",
    "    font_scale=1,\n",
    "    custom_legend_fn=custom_legend_fn,\n",
    "    y_axis_label='GrC pairs / # GrCs',\n",
    "    x_axis_label='Shared MF inputs',\n",
    "    # save_filename=f'{script_n}.pdf',\n",
    "    save_filename=f'{script_n}_line.svg',\n",
    "    show=True,\n",
    "    )\n"
   ]
  },
  {
   "cell_type": "code",
   "execution_count": 31,
   "metadata": {},
   "outputs": [
    {
     "name": "stdout",
     "output_type": "stream",
     "text": [
      "Height: 2.142857142857143, Aspect: 1.4\n"
     ]
    },
    {
     "data": {
      "image/png": "[encoded data removed]",
      "text/plain": [
       "<Figure size 329.266x154.286 with 1 Axes>"
      ]
     },
     "metadata": {},
     "output_type": "display_data"
    },
    {
     "data": {
      "text/plain": [
       "<seaborn.axisgrid.FacetGrid at 0x7ff499949af0>"
      ]
     },
     "execution_count": 31,
     "metadata": {},
     "output_type": "execute_result"
    }
   ],
   "source": [
    "n_grcs=142\n",
    "\n",
    "mpd_data = MyPlotData()\n",
    "for n_share in [1, 2, 3]:\n",
    "    if n_share in hist_data:\n",
    "        mpd_data.add_data_point(\n",
    "            n_share=n_share,\n",
    "            count=hist_data[n_share]/n_grcs,\n",
    "            type='Observation',\n",
    "            )\n",
    "#     for hist_random in hist_random_17:\n",
    "#         if n_share in hist_random:\n",
    "#             mpd_data.add_data_point(\n",
    "#                 n_share=n_share,\n",
    "#                 count=hist_random[n_share]/n_grcs,\n",
    "#                 type='Local Random',\n",
    "#                 )\n",
    "    for hist_random in hist_random_avg:\n",
    "        if n_share in hist_random:\n",
    "            mpd_data.add_data_point(\n",
    "                n_share=n_share,\n",
    "                count=hist_random[n_share]/n_grcs,\n",
    "                type='Local Random',\n",
    "                )\n",
    "#     for hist_random in hist_shuffle:\n",
    "#         if n_share in hist_random:\n",
    "#             mpd_data.add_data_point(\n",
    "#                 n_share=n_share,\n",
    "#                 count=hist_random[n_share]/n_grcs,\n",
    "#                 type='Shuffle',\n",
    "#                 )\n",
    "\n",
    "palette = {\n",
    "    'Observation': 'black',\n",
    "    'Local Random': '#00a79d',\n",
    "}\n",
    "\n",
    "def custom_legend_fn(plt):\n",
    "#     plt.legend(bbox_to_anchor=(1.025, .8), loc='upper left', borderaxespad=0.)\n",
    "    plt.legend(loc='upper right', frameon=False, markerscale=2, prop={'size': 11})\n",
    "\n",
    "importlib.reload(my_plot); my_plot.my_relplot(\n",
    "    mpd_data,\n",
    "    x='n_share',\n",
    "    y='count',\n",
    "    hue='type',\n",
    "    # hue_order=['Data', 'Random Model'],\n",
    "    kind='line',\n",
    "    err_style=\"bars\",\n",
    "#     ci=68,\n",
    "    markers=True,\n",
    "    dashes=False,\n",
    "#     s=150,\n",
    "    context='paper',\n",
    "    # ylim=[.005, 50],\n",
    "#     ylim=[None, 100],\n",
    "#     ylim=[None, 20],\n",
    "    xlim=[.7, 3.3],\n",
    "    linewidth=1.5,\n",
    "    palette=palette,\n",
    "#     log_scale_y=True,\n",
    "#     s=150,\n",
    "    # xticklabels=['', 1, '', 2, '', 3, ''],\n",
    "    xticks=[1, 2, 3],\n",
    "#     width=3.1,\n",
    "#     height=3,\n",
    "    width=3,\n",
    "    aspect=1.4,\n",
    "    font_scale=1.2,\n",
    "#     aspect=1.1,\n",
    "    custom_legend_fn=custom_legend_fn,\n",
    "#     y_axis_label='GrC pairs / # GrCs',\n",
    "    y_axis_label='Avg. pairs per GrC',\n",
    "    x_axis_label='Shared MF inputs',\n",
    "    # save_filename=f'{script_n}.pdf',\n",
    "    save_filename=f'{script_n}_line_linear.svg',\n",
    "    show=True,\n",
    "    )\n"
   ]
  },
  {
   "cell_type": "code",
   "execution_count": 30,
   "metadata": {},
   "outputs": [
    {
     "name": "stdout",
     "output_type": "stream",
     "text": [
      "Height: 2.142857142857143, Aspect: 1.4\n"
     ]
    },
    {
     "data": {
      "image/png": "[encoded data removed]",
      "text/plain": [
       "<Figure size 335.641x154.286 with 1 Axes>"
      ]
     },
     "metadata": {},
     "output_type": "display_data"
    },
    {
     "data": {
      "text/plain": [
       "<seaborn.axisgrid.FacetGrid at 0x7ff49a2fa4f0>"
      ]
     },
     "execution_count": 30,
     "metadata": {},
     "output_type": "execute_result"
    }
   ],
   "source": [
    "n_grcs=142\n",
    "\n",
    "mpd_data = MyPlotData()\n",
    "for n_share in [1, 2, 3]:\n",
    "    if n_share in hist_data:\n",
    "        mpd_data.add_data_point(\n",
    "            n_share=n_share,\n",
    "            count=hist_data[n_share]/n_grcs,\n",
    "            type='Observation',\n",
    "            )\n",
    "#     for hist_random in hist_random_17:\n",
    "#         if n_share in hist_random:\n",
    "#             mpd_data.add_data_point(\n",
    "#                 n_share=n_share,\n",
    "#                 count=hist_random[n_share]/n_grcs,\n",
    "#                 type='Local Random',\n",
    "#                 )\n",
    "    for hist_random in hist_random_avg:\n",
    "        if n_share in hist_random:\n",
    "            mpd_data.add_data_point(\n",
    "                n_share=n_share,\n",
    "                count=hist_random[n_share]/n_grcs,\n",
    "                type='Local Random',\n",
    "                )\n",
    "#     for hist_random in hist_shuffle:\n",
    "#         if n_share in hist_random:\n",
    "#             mpd_data.add_data_point(\n",
    "#                 n_share=n_share,\n",
    "#                 count=hist_random[n_share]/n_grcs,\n",
    "#                 type='Shuffle',\n",
    "#                 )\n",
    "    if n_share in hist_global_random:\n",
    "        mpd_data.add_data_point(\n",
    "            n_share=n_share,\n",
    "            # need to divide by 2 because we're sampling only 2/200 grcs\n",
    "            # (or multiply others by 2)\n",
    "#             count=hist_global_random[n_share]/global_random_n_grcs/2,\n",
    "            count=hist_global_random[n_share]/global_random_n_grcs,\n",
    "            type='Global Random',\n",
    "            )\n",
    "\n",
    "palette = {\n",
    "    'Observation': 'black',\n",
    "    'Local Random': '#00a79d',\n",
    "    'Global Random': '#92278f',\n",
    "}\n",
    "\n",
    "def custom_legend_fn(plt):\n",
    "#     plt.legend(bbox_to_anchor=(1.025, .8), loc='upper left', borderaxespad=0.)\n",
    "    plt.legend(loc='upper right', frameon=False, markerscale=2, prop={'size': 11})\n",
    "\n",
    "importlib.reload(my_plot); my_plot.my_relplot(\n",
    "    mpd_data,\n",
    "    x='n_share',\n",
    "    y='count',\n",
    "    hue='type',\n",
    "    # hue_order=['Data', 'Random Model'],\n",
    "    kind='line',\n",
    "    err_style=\"bars\",\n",
    "#     ci=68,\n",
    "    markers=True,\n",
    "    dashes=False,\n",
    "#     s=150,\n",
    "    context='paper',\n",
    "    # ylim=[.005, 50],\n",
    "#     ylim=[None, 100],\n",
    "#     ylim=[None, 20],\n",
    "    xlim=[.7, 3.3],\n",
    "    linewidth=1.5,\n",
    "    palette=palette,\n",
    "    log_scale_y=True,\n",
    "#     s=150,\n",
    "    # xticklabels=['', 1, '', 2, '', 3, ''],\n",
    "    xticks=[1, 2, 3],\n",
    "#     width=3.1,\n",
    "#     height=3,\n",
    "    width=3,\n",
    "    aspect=1.4,\n",
    "    font_scale=1.2,\n",
    "#     aspect=1.1,\n",
    "#     custom_legend_fn=custom_legend_fn,\n",
    "#     y_axis_label='GrC pairs / # GrCs',\n",
    "    y_axis_label='Avg. pairs per GrC',\n",
    "    x_axis_label='Shared MF inputs',\n",
    "    # save_filename=f'{script_n}.pdf',\n",
    "    save_filename=f'{script_n}_line_log.svg',\n",
    "    show=True,\n",
    "    )\n"
   ]
  },
  {
   "cell_type": "code",
   "execution_count": 9,
   "metadata": {},
   "outputs": [
    {
     "name": "stdout",
     "output_type": "stream",
     "text": [
      "defaultdict(<class 'int'>, {0: 212209, 1: 11624, 2: 651, 3: 18})\n",
      "defaultdict(<class 'int'>, {0: 217047, 1: 7272, 2: 179, 3: 4})\n",
      "4.584507042253521\n",
      "1.3591549295774648\n",
      "1.704225352112676\n",
      "2.5492957746478875\n",
      "\n",
      "81.85915492957747\n",
      "50.41549295774648\n",
      "54.04225352112676\n",
      "68.80985915492958\n"
     ]
    }
   ],
   "source": [
    "n_grcs=142\n",
    "print(hist_data)\n",
    "print(hist_random_17[0])\n",
    "print(hist_data[2]/n_grcs)\n",
    "print(hist_random_17[2][2]/n_grcs)\n",
    "print(hist_random_avg[2][2]/n_grcs)\n",
    "print(hist_shuffle[2][2]/n_grcs)\n",
    "print()\n",
    "print(hist_data[1]/n_grcs)\n",
    "print(hist_random_17[2][1]/n_grcs)\n",
    "print(hist_random_avg[2][1]/n_grcs)\n",
    "print(hist_shuffle[2][1]/n_grcs)"
   ]
  }
 ],
 "metadata": {
  "kernelspec": {
   "display_name": "Python 3",
   "language": "python",
   "name": "python3"
  },
  "language_info": {
   "codemirror_mode": {
    "name": "ipython",
    "version": 3
   },
   "file_extension": ".py",
   "mimetype": "text/x-python",
   "name": "python",
   "nbconvert_exporter": "python",
   "pygments_lexer": "ipython3",
   "version": "3.8.5"
  }
 },
 "nbformat": 4,
 "nbformat_minor": 4
}
