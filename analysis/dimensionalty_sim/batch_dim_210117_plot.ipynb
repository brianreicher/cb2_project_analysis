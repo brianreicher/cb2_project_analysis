{
 "cells": [
  {
   "cell_type": "code",
   "execution_count": 33,
   "metadata": {},
   "outputs": [
    {
     "name": "stdout",
     "output_type": "stream",
     "text": [
      "Height: 4, Aspect: 1.5\n"
     ]
    },
    {
     "data": {
      "image/png": "[encoded data removed]",
      "text/plain": [
       "<Figure size 432x288 with 1 Axes>"
      ]
     },
     "metadata": {},
     "output_type": "display_data"
    }
   ],
   "source": [
    "import random\n",
    "import copy\n",
    "import logging\n",
    "import sys\n",
    "\n",
    "from run_tests_201204 import *\n",
    "\n",
    "import os\n",
    "import sys\n",
    "import importlib\n",
    "from collections import defaultdict\n",
    "sys.path.insert(0, '/n/groups/htem/Segmentation/shared-nondev/cb2_segmentation/analysis_mf_grc')\n",
    "from tools_pattern import get_eucledean_dist\n",
    "import compress_pickle\n",
    "import my_plot\n",
    "from my_plot import MyPlotData, my_box_plot\n",
    "\n",
    "# script_n = os.path.basename(__file__).split('.')[0]\n",
    "script_n = 'batch_dim_210117_plot'\n",
    "\n",
    "# show=False\n",
    "# if '--show' in sys.argv:\n",
    "#     show = True\n",
    "\n",
    "db = compress_pickle.load('/n/groups/htem/Segmentation/shared-nondev/cb2_segmentation/analysis_mf_grc/dimensionality_sim/data/batch_dim_210117_db.gz')\n",
    "db = db[0]\n",
    "\n",
    "db_global_random = compress_pickle.load('/n/groups/htem/Segmentation/shared-nondev/cb2_segmentation/analysis_mf_grc/dimensionality_sim/batch_dim_210117_global_random_global_random_4096.gz')\n",
    "db['global_random'] = db_global_random\n",
    "\n",
    "mpd = MyPlotData()\n",
    "\n",
    "def get_plot_name(model_name):\n",
    "    if 'data' in model_name:\n",
    "        return 'Observation'\n",
    "    if 'classic_random' in model_name:\n",
    "        return 'Classic Random'\n",
    "#     if 'naive_random_17_4' in model_name:\n",
    "#         return 'Local\\nRandom14'\n",
    "    if 'naive_random' in model_name:\n",
    "        return 'Local\\nRandom'\n",
    "        # return model_name\n",
    "    if 'expanded_random_30' in model_name:\n",
    "        return 'LocalEx30\\nRandom'\n",
    "    if 'expanded_random_50' in model_name:\n",
    "        return 'LocalEx50\\nRandom'\n",
    "    if 'global_random' in model_name:\n",
    "        return 'Global\\nRandom'\n",
    "\n",
    "\n",
    "for model_name in [\n",
    "#         'naive_random_17_1',\n",
    "        # 'naive_random_17_1',\n",
    "        # 'naive_random_17_1',\n",
    "        # 'naive_random_17_2',\n",
    "        # 'naive_random_17_3',\n",
    "        'naive_random_17_4',\n",
    "        # 'naive_random_17_5',\n",
    "        # 'naive_random_15_1',\n",
    "        # 'naive_random_16_1',\n",
    "        # 'naive_random_17_1',\n",
    "        # 'naive_random_18_1',\n",
    "#         'naive_random_19_1',\n",
    "        # 'naive_random_20_1',\n",
    "        'expanded_random_30',\n",
    "#         'expanded_random_50',\n",
    "        'data',\n",
    "        'global_random',\n",
    "#         'classic_random',\n",
    "        ]:\n",
    "    res = db[model_name]\n",
    "    mpd.add_data_point(\n",
    "        model=get_plot_name(model_name),\n",
    "        mf_dim=res[0]['mf_dim'],\n",
    "        grc_dim=res[0]['grc_dim'],\n",
    "        grc_dim_norm=res[0]['grc_dim']/572.5242247256178,\n",
    "        pct_grc=res[0]['pct_grc']/100,\n",
    "        pct_mfs=res[0]['pct_mfs']/100,\n",
    "        pct_mf_dim=res[0]['pct_mf_dim']/100,\n",
    "        num_grcs=res[0]['num_grcs'],\n",
    "        num_mfs=res[0]['num_mfs'],\n",
    "        )\n",
    "\n",
    "importlib.reload(my_plot); my_plot.my_catplot(\n",
    "    mpd,\n",
    "    x='model',\n",
    "    y='pct_grc',\n",
    "    context='paper',\n",
    "    height=4,\n",
    "    aspect=1.5,\n",
    "    y_axis_label='Normalized Dimensionality',\n",
    "#     y_axis_label='Dim / # of GrCs',\n",
    "#     x_axis_label='Normalized Dimensionality',\n",
    "    save_filename=f'{script_n}_norm_dim_grc.svg',\n",
    "    show=True,\n",
    "    )\n",
    "\n",
    "# importlib.reload(my_plot); my_plot.my_catplot(\n",
    "#     mpd,\n",
    "#     x='model',\n",
    "#     y='pct_mfs',\n",
    "#     context='paper',\n",
    "#     height=4,\n",
    "#     aspect=1.33,\n",
    "#     y_axis_label='Dim / MF dim',\n",
    "#     x_axis_label='Normalized Dimensionality',\n",
    "#     save_filename=f'{script_n}_pct_mfs.svg',\n",
    "#     show=True,\n",
    "#     )\n",
    "\n",
    "# importlib.reload(my_plot); my_plot.my_catplot(\n",
    "#     mpd,\n",
    "#     x='model',\n",
    "#     y='pct_mf_dim',\n",
    "#     context='paper',\n",
    "#     height=4,\n",
    "#     aspect=2.33,\n",
    "#     y_axis_label='Dim / MF dim',\n",
    "#     x_axis_label='Normalized Dimensionality',\n",
    "#     save_filename=f'{script_n}_pct_mf_dim.svg',\n",
    "#     show=True,\n",
    "#     )\n",
    "\n"
   ]
  },
  {
   "cell_type": "code",
   "execution_count": 27,
   "metadata": {},
   "outputs": [
    {
     "data": {
      "text/plain": [
       "[{'model': 'Local\\nRandom',\n",
       "  'mf_dim': 414.05600382650914,\n",
       "  'grc_dim': 572.5242247256178,\n",
       "  'pct_grc': 0.47200000000000003,\n",
       "  'pct_mfs': 1.2409999999999999,\n",
       "  'pct_mf_dim': 1.382,\n",
       "  'num_grcs': 1211,\n",
       "  'num_mfs': 461},\n",
       " {'model': 'LocalEx30\\nRandom',\n",
       "  'mf_dim': 438.5370036705424,\n",
       "  'grc_dim': 656.5114131903176,\n",
       "  'pct_grc': 0.542,\n",
       "  'pct_mfs': 1.337,\n",
       "  'pct_mf_dim': 1.4969999999999999,\n",
       "  'num_grcs': 1211,\n",
       "  'num_mfs': 491},\n",
       " {'model': 'LocalEx50\\nRandom',\n",
       "  'mf_dim': 474.7653773986999,\n",
       "  'grc_dim': 681.5008632400699,\n",
       "  'pct_grc': 0.562,\n",
       "  'pct_mfs': 1.2690000000000001,\n",
       "  'pct_mf_dim': 1.435,\n",
       "  'num_grcs': 1211,\n",
       "  'num_mfs': 537},\n",
       " {'model': 'Observation',\n",
       "  'mf_dim': 474.7653773986999,\n",
       "  'grc_dim': 681.5008632400699,\n",
       "  'pct_grc': 0.562,\n",
       "  'pct_mfs': 1.2690000000000001,\n",
       "  'pct_mf_dim': 1.435,\n",
       "  'num_grcs': 1211,\n",
       "  'num_mfs': 537},\n",
       " {'model': 'Global\\nRandom',\n",
       "  'mf_dim': 882.7527456323102,\n",
       "  'grc_dim': 838.959083986529,\n",
       "  'pct_grc': 0.6920000000000001,\n",
       "  'pct_mfs': 0.745,\n",
       "  'pct_mf_dim': 0.95,\n",
       "  'num_grcs': 1211,\n",
       "  'num_mfs': 1126}]"
      ]
     },
     "execution_count": 27,
     "metadata": {},
     "output_type": "execute_result"
    }
   ],
   "source": [
    "mpd.data"
   ]
  },
  {
   "cell_type": "code",
   "execution_count": 34,
   "metadata": {},
   "outputs": [
    {
     "name": "stdout",
     "output_type": "stream",
     "text": [
      "Height: 4, Aspect: 1.5\n"
     ]
    },
    {
     "data": {
      "image/png": "[encoded data removed]",
      "text/plain": [
       "<Figure size 432x288 with 1 Axes>"
      ]
     },
     "metadata": {},
     "output_type": "display_data"
    }
   ],
   "source": [
    "\n",
    "importlib.reload(my_plot); my_plot.my_catplot(\n",
    "    mpd,\n",
    "    x='model',\n",
    "    y='grc_dim_norm',\n",
    "    context='paper',\n",
    "    height=4,\n",
    "    aspect=1.5,\n",
    "    y_axis_label='Normalized Dimensionality',\n",
    "#     y_axis_label='Dim / # of GrCs',\n",
    "#     x_axis_label='Normalized Dimensionality',\n",
    "    save_filename=f'{script_n}_norm_dim_grc_by_local.svg',\n",
    "    show=True,\n",
    "    )\n"
   ]
  }
 ],
 "metadata": {
  "kernelspec": {
   "display_name": "Python 3",
   "language": "python",
   "name": "python3"
  },
  "language_info": {
   "codemirror_mode": {
    "name": "ipython",
    "version": 3
   },
   "file_extension": ".py",
   "mimetype": "text/x-python",
   "name": "python",
   "nbconvert_exporter": "python",
   "pygments_lexer": "ipython3",
   "version": "3.8.5"
  }
 },
 "nbformat": 4,
 "nbformat_minor": 4
}
