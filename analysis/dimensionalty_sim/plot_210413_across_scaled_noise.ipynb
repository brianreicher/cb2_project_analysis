{
 "cells": [
  {
   "cell_type": "code",
   "execution_count": 30,
   "metadata": {},
   "outputs": [],
   "source": [
    "import random\n",
    "import copy\n",
    "import logging\n",
    "import sys\n",
    "\n",
    "from run_tests_201204 import *\n",
    "\n",
    "import os\n",
    "import sys\n",
    "import importlib\n",
    "from collections import defaultdict\n",
    "sys.path.insert(0, '/n/groups/htem/Segmentation/shared-nondev/cb2_segmentation/analysis_mf_grc')\n",
    "from tools_pattern import get_eucledean_dist\n",
    "import compress_pickle\n",
    "import my_plot\n",
    "from my_plot import MyPlotData, my_box_plot\n",
    "import seaborn as sns\n",
    "\n",
    "script_n = 'plot_210413_across_scaled_noise'\n",
    "\n",
    "data_script = 'batch_210413_across_noise'\n",
    "db_path = '/n/groups/htem/Segmentation/shared-nondev/cb2_segmentation/analysis_mf_grc/dimensionality_sim/' \\\n",
    "            f'{data_script}/'\n",
    "\n",
    "\n",
    "scaled_noise = 1\n",
    "core_noise = 0\n",
    "n_mfs = 400\n",
    "n_grcs = 2400\n",
    "\n",
    "db = {}\n",
    "model = 'scaleup4'\n",
    "db[model] = compress_pickle.load(\n",
    "    db_path+f'{data_script}_{model}_{n_grcs}_{n_mfs}_scaled_noise_{scaled_noise}_core_noise_{core_noise}_0.3_512_100.gz')\n",
    "# model = 'global_random'\n",
    "# db[model] = compress_pickle.load(\n",
    "#     db_path+f'{data_script}_{model}_scaled_noise_{scaled_noise}_core_noise_{core_noise}_0.3_512_10.gz')\n",
    "# model = 'random'\n",
    "# db[model] = compress_pickle.load(\n",
    "#     db_path+f'{data_script}_{model}_{n_grcs}_{n_mfs}_scaled_noise_{scaled_noise}_core_noise_{core_noise}_0.3_512_10.gz')\n",
    "model = 'naive_random4'\n",
    "db[model] = compress_pickle.load(\n",
    "    db_path+f'{data_script}_{model}_{n_grcs}_{n_mfs}_scaled_noise_{scaled_noise}_core_noise_{core_noise}_0.3_512_100.gz')\n",
    "\n",
    "avg_grc_dim_list = defaultdict(list)\n",
    "for ress in db['naive_random4']:\n",
    "    ress_tries = ress\n",
    "    for ress in ress_tries:\n",
    "#         print(ress)\n",
    "        for noise in ress:\n",
    "            res = ress[noise]\n",
    "            grc_dim = res['grc_dim']\n",
    "            avg_grc_dim_list[noise].append(grc_dim)\n",
    "\n",
    "avg_grc_dim = {}\n",
    "for noise in avg_grc_dim_list:\n",
    "    avg_grc_dim[noise] = sum(avg_grc_dim_list[noise])/len(avg_grc_dim_list[noise])\n",
    "    \n",
    "\n",
    "name_map = {\n",
    "        'scaleup4': \"Reconstructed\",\n",
    "        'global_random': \"Global Random\",\n",
    "        'random': \"Global Random\",\n",
    "#         'naive_random_17': \"Local Random\",\n",
    "        'naive_random4': \"Random\",\n",
    "}\n",
    "\n",
    "palette = {\n",
    "    name_map['scaleup4']: sns.color_palette()[0],\n",
    "    name_map['global_random']: sns.color_palette()[1],\n",
    "    name_map['random']: sns.color_palette()[1],\n",
    "    name_map['naive_random4']: sns.color_palette()[2],\n",
    "#     name_map['naive_random_21']: sns.color_palette()[2],\n",
    "}\n",
    "\n",
    "\n",
    "mpd = MyPlotData()\n",
    "ress_ref = db['naive_random4'][0][0]\n",
    "resss_ref2 = db['naive_random4'][0]\n",
    "for model_name in [\n",
    "#         'global_random',\n",
    "#         'naive_random_17',\n",
    "        'scaleup4',\n",
    "        'naive_random4',\n",
    "#         'random',\n",
    "        ]:\n",
    "    ress = db[model_name]\n",
    "#     print(ress)\n",
    "    ress_tries = ress[0]  # get the first element in tuple\n",
    "#     ress = ress[0]  # get the first try\n",
    "    for n_try, ress in enumerate(ress_tries):\n",
    "#         print(resss_ref2[0])\n",
    "#         print(resss_ref2.keys())\n",
    "        if n_try >= len(resss_ref2):\n",
    "            print(n_try)\n",
    "            continue\n",
    "        ress_ref2 = resss_ref2[n_try]\n",
    "        for noise in ress:\n",
    "    #         print(noise)\n",
    "            res = ress[noise]\n",
    "#             res_ref = ress_ref[noise]\n",
    "            res_ref2 = ress_ref2[noise]\n",
    "    #         hamming_distance_norm = res['hamming_distance']/res['num_grcs']\n",
    "            mpd.add_data_point(\n",
    "                model=name_map[model_name],\n",
    "                noise=noise*100,\n",
    "                grc_dim=res['grc_dim'],\n",
    "                grc_dim_norm=res['grc_dim']/res_ref2['grc_dim'],\n",
    "                grc_dim_norm2=res['grc_dim']/avg_grc_dim[noise],\n",
    "                grc_by_mf_dim=res['grc_dim']/res['mf_dim'],\n",
    "#                 grc_by_mf_dim_ref=res['grc_dim']/res_ref['mf_dim'],\n",
    "                num_grcs=res['num_grcs'],\n",
    "                num_mfs=res['num_mfs'],\n",
    "                voi=res['voi'],\n",
    "                grc_pop_corr=res['grc_pop_corr'],\n",
    "                grc_pop_corr_norm=res['grc_pop_corr']/res_ref2['grc_pop_corr'],\n",
    "                binary_similarity=res['binary_similarity'],\n",
    "                hamming_distance=res['hamming_distance'],\n",
    "                normalized_mse=res['normalized_mse'],\n",
    "                )\n",
    "\n",
    "# importlib.reload(my_plot); my_plot.my_relplot(\n",
    "#     mpd,\n",
    "#     x='noise',\n",
    "#     y='grc_dim',\n",
    "#     hue='model',\n",
    "#     context='paper',\n",
    "#     palette=palette,\n",
    "#     linewidth=1,\n",
    "#     log_scale_y=True,\n",
    "#     width=10,\n",
    "# #     ylim=[0, None],\n",
    "#     y_axis_label='Dim. Expansion ($x$)',\n",
    "#     x_axis_label='MF Input Variation (%)',\n",
    "#     title='noise',\n",
    "#     save_filename=f'{script_n}_act_30.svg',\n",
    "#     show=True,\n",
    "#     )\n"
   ]
  },
  {
   "cell_type": "code",
   "execution_count": 21,
   "metadata": {},
   "outputs": [
    {
     "name": "stdout",
     "output_type": "stream",
     "text": [
      "Height: 1.5, Aspect: 2.3333333333333335\n"
     ]
    },
    {
     "data": {
      "image/png": "[encoded data removed]",
      "text/plain": [
       "<Figure size 385.02x108 with 1 Axes>"
      ]
     },
     "metadata": {},
     "output_type": "display_data"
    },
    {
     "data": {
      "text/plain": [
       "<seaborn.axisgrid.FacetGrid at 0x7f3b1a3254c0>"
      ]
     },
     "execution_count": 21,
     "metadata": {},
     "output_type": "execute_result"
    }
   ],
   "source": [
    "\n",
    "importlib.reload(my_plot); my_plot.my_relplot(\n",
    "    mpd,\n",
    "    x='noise',\n",
    "    y='grc_dim_norm2',\n",
    "    hue='model',\n",
    "    context='paper',\n",
    "    palette=palette,\n",
    "    linewidth=2,\n",
    "#     log_scale_y=True,\n",
    "#     ci='sd',\n",
    "#     ci=68,\n",
    "    width=3.5,\n",
    "    height=1.5,\n",
    "    ylim=[.8, 1.05],\n",
    "    y_axis_label='Rel. Noise Dim. ($x$)',\n",
    "    x_axis_label='Stochastic Noise (%)',\n",
    "#     title='noise',\n",
    "    save_filename=f'{script_n}_stochastic_noise.svg',\n",
    "    show=True,\n",
    "    )\n"
   ]
  },
  {
   "cell_type": "code",
   "execution_count": 29,
   "metadata": {},
   "outputs": [
    {
     "name": "stdout",
     "output_type": "stream",
     "text": [
      "Height: 3.1, Aspect: 1.129032258064516\n"
     ]
    },
    {
     "data": {
      "image/png": "[encoded data removed]",
      "text/plain": [
       "<Figure size 385.02x223.2 with 1 Axes>"
      ]
     },
     "metadata": {},
     "output_type": "display_data"
    },
    {
     "data": {
      "text/plain": [
       "<seaborn.axisgrid.FacetGrid at 0x7f3b1a1c2a60>"
      ]
     },
     "execution_count": 29,
     "metadata": {},
     "output_type": "execute_result"
    }
   ],
   "source": [
    "\n",
    "# script_n = 'plot_210413_across_noise_210908'\n",
    "palette = {\n",
    "    name_map['scaleup4']: 'red',\n",
    "    name_map['naive_random4']: 'black',\n",
    "}\n",
    "\n",
    "def custom_legend_fn(plt):\n",
    "#     plt.legend(bbox_to_anchor=(1.025, .8), loc='upper left', borderaxespad=0.)\n",
    "    plt.legend(loc='upper right', frameon=False, fontsize=12)\n",
    "\n",
    "importlib.reload(my_plot); my_plot.my_relplot(\n",
    "    mpd,\n",
    "    x='noise',\n",
    "#     y='grc_by_mf_dim',\n",
    "    y='grc_dim_norm2',\n",
    "    hue='model',\n",
    "    context='paper',\n",
    "    palette=palette,\n",
    "    linewidth=2,\n",
    "#     log_scale_y=True,\n",
    "#     ci='sd',\n",
    "    ci=68,\n",
    "    width=3.5,\n",
    "    height=3.1,\n",
    "    ylim=[.9, 1.05],\n",
    "    y_axis_label='Normalized\\nDimensionality ($x$)',\n",
    "    x_axis_label='Difference Between\\nInput Patterns (%)',\n",
    "#     title='noise',\n",
    "    save_filename=f'{script_n}_norm.svg',\n",
    "    show=True,\n",
    "    custom_legend_fn=custom_legend_fn,\n",
    "    )\n"
   ]
  }
 ],
 "metadata": {
  "kernelspec": {
   "display_name": "Python 3",
   "language": "python",
   "name": "python3"
  },
  "language_info": {
   "codemirror_mode": {
    "name": "ipython",
    "version": 3
   },
   "file_extension": ".py",
   "mimetype": "text/x-python",
   "name": "python",
   "nbconvert_exporter": "python",
   "pygments_lexer": "ipython3",
   "version": "3.8.10"
  }
 },
 "nbformat": 4,
 "nbformat_minor": 4
}
