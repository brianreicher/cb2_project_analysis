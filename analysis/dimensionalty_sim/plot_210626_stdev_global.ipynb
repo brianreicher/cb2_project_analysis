{
 "cells": [
  {
   "cell_type": "code",
   "execution_count": 19,
   "metadata": {},
   "outputs": [],
   "source": [
    "import random\n",
    "import copy\n",
    "import logging\n",
    "import sys\n",
    "\n",
    "# from run_tests_201204 import *\n",
    "\n",
    "import os\n",
    "import sys\n",
    "import importlib\n",
    "from collections import defaultdict\n",
    "sys.path.insert(0, '/n/groups/htem/Segmentation/shared-nondev/cb2_segmentation/analysis_mf_grc')\n",
    "from tools_pattern import get_eucledean_dist\n",
    "import compress_pickle\n",
    "import my_plot\n",
    "from my_plot import MyPlotData, my_box_plot\n",
    "import seaborn as sns\n",
    "\n",
    "script_n = 'plot_210626_stdev_global'\n",
    "\n",
    "data_script = 'batch_210626_stdev_global_random'\n",
    "db_path = '/n/groups/htem/Segmentation/shared-nondev/cb2_segmentation/analysis_mf_grc/dimensionality_sim2/' \\\n",
    "            f'{data_script}/'\n",
    "\n",
    "\n",
    "scaled_noise = 0\n",
    "core_noise = 0\n",
    "n_mfs = 497\n",
    "n_grcs = 1847*8\n",
    "\n",
    "pattern_type = 'binary'\n",
    "db = {}\n",
    "\n",
    "# for model in ['observed', 'local_random', 'global_random']:\n",
    "for model in ['global_random']:\n",
    "    for scale in [.5]:\n",
    "        for fail in [1.0, .5]:\n",
    "            model_name = f'{model}_{scale}_{fail}'\n",
    "            db[model_name] = compress_pickle.load(\n",
    "                db_path + \\\n",
    "                    f'{data_script}_{model}_{pattern_type}_{n_grcs}_{n_mfs}_'\n",
    "                    f'scale_{scale}_fail_{fail}_'\n",
    "                    f'0.3_512_40.gz')\n"
   ]
  },
  {
   "cell_type": "code",
   "execution_count": 3,
   "metadata": {},
   "outputs": [
    {
     "data": {
      "text/plain": [
       "dict_keys(['global_random_0.5_1.0', 'global_random_0.5_0.5'])"
      ]
     },
     "execution_count": 3,
     "metadata": {},
     "output_type": "execute_result"
    }
   ],
   "source": [
    "db.keys()"
   ]
  },
  {
   "cell_type": "code",
   "execution_count": 21,
   "metadata": {},
   "outputs": [
    {
     "name": "stdout",
     "output_type": "stream",
     "text": [
      "Height: 3.7593984962406015, Aspect: 1.33\n"
     ]
    },
    {
     "data": {
      "image/png": "[encoded data removed]",
      "text/plain": [
       "<Figure size 360x270.677 with 1 Axes>"
      ]
     },
     "metadata": {},
     "output_type": "display_data"
    },
    {
     "data": {
      "text/plain": [
       "<seaborn.axisgrid.FacetGrid at 0x7ffb7d205d90>"
      ]
     },
     "execution_count": 21,
     "metadata": {},
     "output_type": "execute_result"
    }
   ],
   "source": [
    "\n",
    "name_map = {\n",
    "        'observed_1.0': \"Observed\",\n",
    "        'observed_0.5': \"w/ half GrC-PC conn.\",\n",
    "}\n",
    "\n",
    "palette = {\n",
    "#     name_map['scaleup4']: sns.color_palette()[0],\n",
    "#     name_map['global_random']: sns.color_palette()[1],\n",
    "#     name_map['random']: sns.color_palette()[1],\n",
    "#     name_map['local_random']: sns.color_palette()[2],\n",
    "}\n",
    "\n",
    "\n",
    "mpd = MyPlotData()\n",
    "# ress_ref = db['local_random'][0][0]\n",
    "# resss_ref2 = db['local_random'][0]\n",
    "for model_name in [\n",
    "#         'global_random_0.5_1.0',\n",
    "        'global_random_0.5_0.5',\n",
    "        ]:\n",
    "    resss = db[model_name]\n",
    "    ress_tries = resss[0]  # get the first element in tuple\n",
    "#     ress = ress[0]  # get the first try\n",
    "    for n_try, ress in enumerate(ress_tries):\n",
    "#         print(resss_ref2[0])\n",
    "#         print(resss_ref2.keys())\n",
    "#         if n_try >= len(resss_ref2):\n",
    "#             print(n_try)\n",
    "#             continue\n",
    "#         ress_ref2 = resss_ref2[n_try]\n",
    "#         noise = .3\n",
    "#         for noise in ress:\n",
    "    #         print(noise)\n",
    "        for noise in ress:\n",
    "            res = ress[noise]\n",
    "            grc_dim2 = 1/res['grc_pop_corr']\n",
    "            grc_pct = noise*100*8\n",
    "            if grc_pct < 40:\n",
    "                continue\n",
    "            if grc_pct > 300:\n",
    "                continue\n",
    "            mpd.add_data_point(\n",
    "#                 model=name_map[model_name],\n",
    "                model=model_name,\n",
    "                grc_pct=grc_pct,\n",
    "                grc_dim=res['grc_dim'],\n",
    "                grc_dim_norm=res['grc_dim']/79,\n",
    "                grc_dim2=grc_dim2,\n",
    "                grc_dim2_norm=grc_dim2/72,\n",
    "                grc_by_mf_dim=res['grc_dim']/res['mf_dim'],\n",
    "                num_grcs=res['num_grcs'],\n",
    "                num_mfs=res['num_mfs'],\n",
    "                voi=res['voi'],\n",
    "                grc_pop_corr=res['grc_pop_corr'],\n",
    "                binary_similarity=res['binary_similarity'],\n",
    "                hamming_distance=res['hamming_distance'],\n",
    "                normalized_mse=res['normalized_mse'],\n",
    "#                 grc_stdev_pct=1/res['grc_stdev_pct'],\n",
    "                grc_stdev_pct=res['grc_stdev_pct'],\n",
    "                grc_stdev_pct_norm=res['grc_stdev_pct'] / 0.071,\n",
    "                )\n",
    "\n",
    "importlib.reload(my_plot); my_plot.my_relplot(\n",
    "    mpd,\n",
    "    x='grc_pct',\n",
    "    y='grc_stdev_pct_norm',\n",
    "    hue='model',\n",
    "    context='paper',\n",
    "#     palette=palette,\n",
    "    linewidth=1,\n",
    "#     log_scale_y=True,\n",
    "    width=5,\n",
    "#     ylim=[0, None],\n",
    "    y_axis_label='Norm. SD / $\\mu F$',\n",
    "    x_axis_label='GrC (%)',\n",
    "#     title='noise',\n",
    "    legend=None,\n",
    "    save_filename=f'{script_n}_1823.svg',\n",
    "    show=True,\n",
    "    )\n"
   ]
  },
  {
   "cell_type": "code",
   "execution_count": 18,
   "metadata": {},
   "outputs": [
    {
     "name": "stdout",
     "output_type": "stream",
     "text": [
      "Height: 3.7593984962406015, Aspect: 1.33\n"
     ]
    },
    {
     "data": {
      "image/png": "[encoded data removed]",
      "text/plain": [
       "<Figure size 360x270.677 with 1 Axes>"
      ]
     },
     "metadata": {},
     "output_type": "display_data"
    },
    {
     "data": {
      "text/plain": [
       "<seaborn.axisgrid.FacetGrid at 0x7ffb7e559040>"
      ]
     },
     "execution_count": 18,
     "metadata": {},
     "output_type": "execute_result"
    }
   ],
   "source": [
    "\n",
    "name_map = {\n",
    "        'observed_1.0': \"Observed\",\n",
    "        'observed_0.5': \"w/ half GrC-PC conn.\",\n",
    "}\n",
    "\n",
    "palette = {\n",
    "#     name_map['scaleup4']: sns.color_palette()[0],\n",
    "#     name_map['global_random']: sns.color_palette()[1],\n",
    "#     name_map['random']: sns.color_palette()[1],\n",
    "#     name_map['local_random']: sns.color_palette()[2],\n",
    "}\n",
    "\n",
    "\n",
    "mpd = MyPlotData()\n",
    "# ress_ref = db['local_random'][0][0]\n",
    "# resss_ref2 = db['local_random'][0]\n",
    "for model_name in [\n",
    "#         'global_random_0.5_1.0',\n",
    "        'global_random_0.5_0.5',\n",
    "        ]:\n",
    "    resss = db[model_name]\n",
    "    ress_tries = resss[0]  # get the first element in tuple\n",
    "#     ress = ress[0]  # get the first try\n",
    "    for n_try, ress in enumerate(ress_tries):\n",
    "#         print(resss_ref2[0])\n",
    "#         print(resss_ref2.keys())\n",
    "#         if n_try >= len(resss_ref2):\n",
    "#             print(n_try)\n",
    "#             continue\n",
    "#         ress_ref2 = resss_ref2[n_try]\n",
    "#         noise = .3\n",
    "#         for noise in ress:\n",
    "    #         print(noise)\n",
    "        for noise in ress:\n",
    "            res = ress[noise]\n",
    "            grc_dim2 = 1/res['grc_pop_corr']\n",
    "            grc_pct = noise*100*8\n",
    "            if grc_pct < 50:\n",
    "                continue\n",
    "            if grc_pct > 400:\n",
    "                continue\n",
    "            mpd.add_data_point(\n",
    "#                 model=name_map[model_name],\n",
    "                model=model_name,\n",
    "                grc_pct=grc_pct,\n",
    "                grc_dim=res['grc_dim'],\n",
    "                grc_dim_norm=res['grc_dim']/79,\n",
    "                grc_dim2=grc_dim2,\n",
    "                grc_dim2_norm=grc_dim2/72,\n",
    "                grc_by_mf_dim=res['grc_dim']/res['mf_dim'],\n",
    "                num_grcs=res['num_grcs'],\n",
    "                num_mfs=res['num_mfs'],\n",
    "                voi=res['voi'],\n",
    "                grc_pop_corr=res['grc_pop_corr'],\n",
    "                binary_similarity=res['binary_similarity'],\n",
    "                hamming_distance=res['hamming_distance'],\n",
    "                normalized_mse=res['normalized_mse'],\n",
    "#                 grc_stdev_pct=1/res['grc_stdev_pct'],\n",
    "                grc_stdev_pct=res['grc_stdev_pct'],\n",
    "                grc_stdev_pct_norm=res['grc_stdev_pct'] / 0.071,\n",
    "                )\n",
    "\n",
    "importlib.reload(my_plot); my_plot.my_relplot(\n",
    "    mpd,\n",
    "    x='grc_pct',\n",
    "    y='grc_stdev_pct',\n",
    "    hue='model',\n",
    "    context='paper',\n",
    "#     palette=palette,\n",
    "    linewidth=1,\n",
    "#     log_scale_y=True,\n",
    "    width=5,\n",
    "#     ylim=[0, None],\n",
    "    y_axis_label='SD / $\\mu F$',\n",
    "    x_axis_label='GrC (%)',\n",
    "#     title='noise',\n",
    "    legend=None,\n",
    "    save_filename=f'{script_n}_1828.svg',\n",
    "    show=True,\n",
    "    )\n"
   ]
  }
 ],
 "metadata": {
  "kernelspec": {
   "display_name": "Python 3",
   "language": "python",
   "name": "python3"
  },
  "language_info": {
   "codemirror_mode": {
    "name": "ipython",
    "version": 3
   },
   "file_extension": ".py",
   "mimetype": "text/x-python",
   "name": "python",
   "nbconvert_exporter": "python",
   "pygments_lexer": "ipython3",
   "version": "3.8.5"
  }
 },
 "nbformat": 4,
 "nbformat_minor": 4
}
