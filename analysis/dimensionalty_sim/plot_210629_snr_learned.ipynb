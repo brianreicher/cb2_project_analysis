{
 "cells": [
  {
   "cell_type": "code",
   "execution_count": 12,
   "metadata": {},
   "outputs": [],
   "source": [
    "import random\n",
    "import copy\n",
    "import logging\n",
    "import sys\n",
    "\n",
    "# from run_tests_201204 import *\n",
    "\n",
    "import os\n",
    "import sys\n",
    "import importlib\n",
    "from collections import defaultdict\n",
    "sys.path.insert(0, '/n/groups/htem/Segmentation/shared-nondev/cb2_segmentation/analysis_mf_grc')\n",
    "from tools_pattern import get_eucledean_dist\n",
    "import compress_pickle\n",
    "import my_plot\n",
    "from my_plot import MyPlotData, my_box_plot\n",
    "import seaborn as sns\n",
    "\n",
    "script_n = 'plot_210629_snr_learned'\n",
    "\n",
    "data_script = 'batch_210627_snr'\n",
    "db_path = '/n/groups/htem/Segmentation/shared-nondev/cb2_segmentation/analysis_mf_grc/dimensionality_sim2/' \\\n",
    "            f'{data_script}/'\n",
    "\n",
    "\n",
    "scaled_noise = 0\n",
    "core_noise = 0\n",
    "n_mfs = 497\n",
    "n_grcs = 1847\n",
    "\n",
    "pattern_type = 'binary'\n",
    "db = {}\n",
    "\n",
    "zmargin = 0\n",
    "sub = 0\n",
    "\n",
    "# for model in ['observed', 'local_random', 'global_random']:\n",
    "for model in ['observed']:\n",
    "    for scale in [.5, 1.0]:\n",
    "        for learned in [0, 1]:\n",
    "            model_name = f'{model}_{scale}_learned_{learned}'\n",
    "            db[model_name] = compress_pickle.load(\n",
    "                db_path + \\\n",
    "                    f'{data_script}_{model}_{pattern_type}_{n_grcs}_{n_mfs}_'\n",
    "                    f'zmargin_{zmargin}_'\n",
    "                    f'scale_{scale}_'\n",
    "                    f'learned_{learned}_'\n",
    "                    f'sub_{sub}_'\n",
    "                    f'0.3_512_40.gz')\n"
   ]
  },
  {
   "cell_type": "code",
   "execution_count": 2,
   "metadata": {},
   "outputs": [
    {
     "data": {
      "text/plain": [
       "dict_keys(['observed_0.5_learned_0', 'observed_0.5_learned_1', 'observed_1.0_learned_0', 'observed_1.0_learned_1'])"
      ]
     },
     "execution_count": 2,
     "metadata": {},
     "output_type": "execute_result"
    }
   ],
   "source": [
    "db.keys()"
   ]
  },
  {
   "cell_type": "code",
   "execution_count": 23,
   "metadata": {},
   "outputs": [],
   "source": [
    "\n",
    "dbb = db['observed_0.5_learned_0'][0]\n",
    "baseline_hd_norm2 = defaultdict(int)\n",
    "for try_n in dbb:\n",
    "    for noise in try_n:\n",
    "        baseline_hd_norm2[noise] += try_n[noise]['hamming_distance']\n",
    "for k in baseline_hd_norm2:\n",
    "    baseline_hd_norm2[k] /= len(dbb)\n",
    "    baseline_hd_norm2[k] /= f_stdev[model_name]*2\n",
    "# print(s/len(dbb))"
   ]
  },
  {
   "cell_type": "code",
   "execution_count": 24,
   "metadata": {},
   "outputs": [
    {
     "data": {
      "text/plain": [
       "defaultdict(int,\n",
       "            {0.05: 0.7027324310535815,\n",
       "             0.1: 1.3561648228384193,\n",
       "             0.15: 1.9681178230775747,\n",
       "             0.2: 2.5427155731560536,\n",
       "             0.25: 3.083404521630219,\n",
       "             0.3: 3.590792296829497,\n",
       "             0.35: 4.085573294203957,\n",
       "             0.4: 4.538011173878582,\n",
       "             0.45: 4.965285026256467,\n",
       "             0.5: 5.372357350696023,\n",
       "             0.55: 5.762279576939054,\n",
       "             0.6: 6.133446261546583,\n",
       "             0.65: 6.491045801486564,\n",
       "             0.7: 6.842686234967191,\n",
       "             0.75: 7.16988865432401,\n",
       "             0.8: 7.485217557080589,\n",
       "             0.85: 7.790296506805011,\n",
       "             0.9: 8.083738709616204,\n",
       "             0.95: 8.369820515983681,\n",
       "             1.0: 8.659916534952911})"
      ]
     },
     "execution_count": 24,
     "metadata": {},
     "output_type": "execute_result"
    }
   ],
   "source": [
    "baseline_hd_norm2"
   ]
  },
  {
   "cell_type": "code",
   "execution_count": 27,
   "metadata": {},
   "outputs": [
    {
     "name": "stdout",
     "output_type": "stream",
     "text": [
      "Height: 3.7593984962406015, Aspect: 1.33\n"
     ]
    },
    {
     "data": {
      "image/png": "[encoded data removed]",
      "text/plain": [
       "<Figure size 360x270.677 with 1 Axes>"
      ]
     },
     "metadata": {},
     "output_type": "display_data"
    },
    {
     "data": {
      "text/plain": [
       "<seaborn.axisgrid.FacetGrid at 0x7fbf078c73a0>"
      ]
     },
     "execution_count": 27,
     "metadata": {},
     "output_type": "execute_result"
    }
   ],
   "source": [
    "\n",
    "name_map = {\n",
    "        'observed_1.0': \"Observed\",\n",
    "        'observed_0.5': \"w/ half GrC-PC conn.\",\n",
    "}\n",
    "\n",
    "palette = {\n",
    "#     name_map['scaleup4']: sns.color_palette()[0],\n",
    "#     name_map['global_random']: sns.color_palette()[1],\n",
    "#     name_map['random']: sns.color_palette()[1],\n",
    "#     name_map['local_random']: sns.color_palette()[2],\n",
    "}\n",
    "\n",
    "f_means = {\n",
    "    'observed_1.0_learned_0': n_grcs*.3,\n",
    "    'observed_0.5_learned_0': n_grcs*.3*.5,\n",
    "    'observed_0.5_learned_1': n_grcs*.3*.5,\n",
    "}\n",
    "\n",
    "f_stdev = {\n",
    "    'observed_1.0_learned_0': n_grcs*.3*.06458186634652402,\n",
    "    'observed_0.5_learned_0': n_grcs*.3*.5*0.07294774458805967,\n",
    "    'observed_0.5_learned_1': n_grcs*.3*.5*0.07294774458805967,\n",
    "}\n",
    "\n",
    "mpd = MyPlotData()\n",
    "# ress_ref = db['local_random'][0][0]\n",
    "# resss_ref2 = db['local_random'][0]\n",
    "for model_name in [\n",
    "        'observed_1.0_learned_0',\n",
    "        'observed_0.5_learned_0',\n",
    "        'observed_0.5_learned_1',\n",
    "#         'observed_1.0',\n",
    "        ]:\n",
    "    resss = db[model_name]\n",
    "    ress_tries = resss[0]  # get the first element in tuple\n",
    "#     ress = ress[0]  # get the first try\n",
    "    for n_try, ress in enumerate(ress_tries):\n",
    "#         print(resss_ref2[0])\n",
    "#         print(resss_ref2.keys())\n",
    "#         if n_try >= len(resss_ref2):\n",
    "#             print(n_try)\n",
    "#             continue\n",
    "#         ress_ref2 = resss_ref2[n_try]\n",
    "#         noise = .3\n",
    "#         for noise in ress:\n",
    "    #         print(noise)\n",
    "        for noise in ress:\n",
    "#             if noise >= 1:\n",
    "#                 continue\n",
    "#             if noise >= .85:\n",
    "#                 continue\n",
    "            res = ress[noise]\n",
    "            grc_dim2 = 1/res['grc_pop_corr']\n",
    "            mpd.add_data_point(\n",
    "#                 model=name_map[model_name],\n",
    "                model=model_name,\n",
    "                noise=noise*100,\n",
    "                grc_dim=res['grc_dim'],\n",
    "                grc_dim_norm=res['grc_dim']/79,\n",
    "                grc_dim2=grc_dim2,\n",
    "                grc_dim2_norm=grc_dim2/72,\n",
    "                grc_by_mf_dim=res['grc_dim']/res['mf_dim'],\n",
    "                num_grcs=res['num_grcs'],\n",
    "                num_mfs=res['num_mfs'],\n",
    "                voi=res['voi'],\n",
    "                grc_pop_corr=res['grc_pop_corr'],\n",
    "                binary_similarity=res['binary_similarity'],\n",
    "                hamming_distance=res['hamming_distance'],\n",
    "                hamming_distance_norm=res['hamming_distance']/f_means[model_name]/2,\n",
    "                hamming_distance_norm2=res['hamming_distance']/f_stdev[model_name]/2,\n",
    "                hamming_distance_norm3=res['hamming_distance']/f_stdev[model_name]/2/baseline_hd_norm2[noise],\n",
    "                normalized_mse=res['normalized_mse'],\n",
    "#                 grc_stdev_pct=1/res['grc_stdev_pct'],\n",
    "                grc_stdev_pct=res['grc_stdev_pct'],\n",
    "                grc_stdev_pct_norm=res['grc_stdev_pct'] / .0735,\n",
    "                )\n",
    "\n",
    "importlib.reload(my_plot); my_plot.my_relplot(\n",
    "    mpd,\n",
    "    x='noise',\n",
    "    y='hamming_distance_norm3',\n",
    "    hue='model',\n",
    "    context='paper',\n",
    "#     palette=palette,\n",
    "    linewidth=1,\n",
    "#     log_scale_y=True,\n",
    "    width=5,\n",
    "#     ylim=[0, None],\n",
    "    y_axis_label='F $\\Delta$ / SD',\n",
    "    x_axis_label='Input Feature Size (%)',\n",
    "#     title='noise',\n",
    "    legend=None,\n",
    "    save_filename=f'{script_n}_1559.svg',\n",
    "    show=True,\n",
    "    )\n"
   ]
  },
  {
   "cell_type": "code",
   "execution_count": 25,
   "metadata": {},
   "outputs": [
    {
     "name": "stdout",
     "output_type": "stream",
     "text": [
      "Height: 3.7593984962406015, Aspect: 1.33\n"
     ]
    },
    {
     "data": {
      "image/png": "[encoded data removed]",
      "text/plain": [
       "<Figure size 360x270.677 with 1 Axes>"
      ]
     },
     "metadata": {},
     "output_type": "display_data"
    },
    {
     "data": {
      "text/plain": [
       "<seaborn.axisgrid.FacetGrid at 0x7fbf07a75c10>"
      ]
     },
     "execution_count": 25,
     "metadata": {},
     "output_type": "execute_result"
    }
   ],
   "source": [
    "\n",
    "name_map = {\n",
    "        'observed_1.0': \"Observed\",\n",
    "        'observed_0.5': \"w/ half GrC-PC conn.\",\n",
    "}\n",
    "\n",
    "palette = {\n",
    "#     name_map['scaleup4']: sns.color_palette()[0],\n",
    "#     name_map['global_random']: sns.color_palette()[1],\n",
    "#     name_map['random']: sns.color_palette()[1],\n",
    "#     name_map['local_random']: sns.color_palette()[2],\n",
    "}\n",
    "\n",
    "f_means = {\n",
    "    'observed_1.0_learned_0': n_grcs*.3,\n",
    "    'observed_0.5_learned_0': n_grcs*.3*.5,\n",
    "    'observed_0.5_learned_1': n_grcs*.3*.5,\n",
    "}\n",
    "\n",
    "f_stdev = {\n",
    "    'observed_1.0_learned_0': n_grcs*.3*.06458186634652402,\n",
    "    'observed_0.5_learned_0': n_grcs*.3*.5*0.07294774458805967,\n",
    "    'observed_0.5_learned_1': n_grcs*.3*.5*0.07294774458805967,\n",
    "}\n",
    "\n",
    "mpd = MyPlotData()\n",
    "# ress_ref = db['local_random'][0][0]\n",
    "# resss_ref2 = db['local_random'][0]\n",
    "for model_name in [\n",
    "        'observed_1.0_learned_0',\n",
    "        'observed_0.5_learned_0',\n",
    "        'observed_0.5_learned_1',\n",
    "#         'observed_1.0',\n",
    "        ]:\n",
    "    resss = db[model_name]\n",
    "    ress_tries = resss[0]  # get the first element in tuple\n",
    "#     ress = ress[0]  # get the first try\n",
    "    for n_try, ress in enumerate(ress_tries):\n",
    "#         print(resss_ref2[0])\n",
    "#         print(resss_ref2.keys())\n",
    "#         if n_try >= len(resss_ref2):\n",
    "#             print(n_try)\n",
    "#             continue\n",
    "#         ress_ref2 = resss_ref2[n_try]\n",
    "#         noise = .3\n",
    "#         for noise in ress:\n",
    "    #         print(noise)\n",
    "        for noise in ress:\n",
    "#             if noise >= 1:\n",
    "#                 continue\n",
    "#             if noise >= .85:\n",
    "#                 continue\n",
    "            res = ress[noise]\n",
    "            grc_dim2 = 1/res['grc_pop_corr']\n",
    "            mpd.add_data_point(\n",
    "#                 model=name_map[model_name],\n",
    "                model=model_name,\n",
    "                noise=noise*100,\n",
    "                grc_dim=res['grc_dim'],\n",
    "                grc_dim_norm=res['grc_dim']/79,\n",
    "                grc_dim2=grc_dim2,\n",
    "                grc_dim2_norm=grc_dim2/72,\n",
    "                grc_by_mf_dim=res['grc_dim']/res['mf_dim'],\n",
    "                num_grcs=res['num_grcs'],\n",
    "                num_mfs=res['num_mfs'],\n",
    "                voi=res['voi'],\n",
    "                grc_pop_corr=res['grc_pop_corr'],\n",
    "                binary_similarity=res['binary_similarity'],\n",
    "                hamming_distance=res['hamming_distance'],\n",
    "                hamming_distance_norm=res['hamming_distance']/f_means[model_name]/2,\n",
    "                hamming_distance_norm2=res['hamming_distance']/f_stdev[model_name]/2,\n",
    "                normalized_mse=res['normalized_mse'],\n",
    "#                 grc_stdev_pct=1/res['grc_stdev_pct'],\n",
    "                grc_stdev_pct=res['grc_stdev_pct'],\n",
    "                grc_stdev_pct_norm=res['grc_stdev_pct'] / .0735,\n",
    "                )\n",
    "\n",
    "importlib.reload(my_plot); my_plot.my_relplot(\n",
    "    mpd,\n",
    "    x='noise',\n",
    "    y='hamming_distance_norm2',\n",
    "    hue='model',\n",
    "    context='paper',\n",
    "#     palette=palette,\n",
    "    linewidth=1,\n",
    "#     log_scale_y=True,\n",
    "    width=5,\n",
    "    ylim=[0, None],\n",
    "    y_axis_label='F $\\Delta$ / SD',\n",
    "    x_axis_label='Input Feature Size (%)',\n",
    "#     title='noise',\n",
    "    legend=None,\n",
    "    save_filename=f'{script_n}_1529.svg',\n",
    "    show=True,\n",
    "    )\n"
   ]
  },
  {
   "cell_type": "code",
   "execution_count": 11,
   "metadata": {},
   "outputs": [
    {
     "name": "stdout",
     "output_type": "stream",
     "text": [
      "Height: 3.7593984962406015, Aspect: 1.33\n"
     ]
    },
    {
     "data": {
      "image/png": "[encoded data removed]",
      "text/plain": [
       "<Figure size 360x270.677 with 1 Axes>"
      ]
     },
     "metadata": {},
     "output_type": "display_data"
    },
    {
     "data": {
      "text/plain": [
       "<seaborn.axisgrid.FacetGrid at 0x7fbf07d6af70>"
      ]
     },
     "execution_count": 11,
     "metadata": {},
     "output_type": "execute_result"
    }
   ],
   "source": [
    "\n",
    "name_map = {\n",
    "        'observed_1.0': \"Observed\",\n",
    "        'observed_0.5': \"w/ half GrC-PC conn.\",\n",
    "}\n",
    "\n",
    "palette = {\n",
    "#     name_map['scaleup4']: sns.color_palette()[0],\n",
    "#     name_map['global_random']: sns.color_palette()[1],\n",
    "#     name_map['random']: sns.color_palette()[1],\n",
    "#     name_map['local_random']: sns.color_palette()[2],\n",
    "}\n",
    "\n",
    "f_means = {\n",
    "    'observed_1.0_learned_0': n_grcs*.3,\n",
    "    'observed_0.5_learned_0': n_grcs*.3*.5,\n",
    "    'observed_0.5_learned_1': n_grcs*.3*.5,\n",
    "}\n",
    "\n",
    "mpd = MyPlotData()\n",
    "# ress_ref = db['local_random'][0][0]\n",
    "# resss_ref2 = db['local_random'][0]\n",
    "for model_name in [\n",
    "        'observed_1.0_learned_0',\n",
    "        'observed_0.5_learned_0',\n",
    "        'observed_0.5_learned_1',\n",
    "#         'observed_1.0',\n",
    "        ]:\n",
    "    resss = db[model_name]\n",
    "    ress_tries = resss[0]  # get the first element in tuple\n",
    "#     ress = ress[0]  # get the first try\n",
    "    for n_try, ress in enumerate(ress_tries):\n",
    "#         print(resss_ref2[0])\n",
    "#         print(resss_ref2.keys())\n",
    "#         if n_try >= len(resss_ref2):\n",
    "#             print(n_try)\n",
    "#             continue\n",
    "#         ress_ref2 = resss_ref2[n_try]\n",
    "#         noise = .3\n",
    "#         for noise in ress:\n",
    "    #         print(noise)\n",
    "        for noise in ress:\n",
    "#             if noise >= 1:\n",
    "#                 continue\n",
    "#             if noise >= .85:\n",
    "#                 continue\n",
    "            res = ress[noise]\n",
    "            grc_dim2 = 1/res['grc_pop_corr']\n",
    "            mpd.add_data_point(\n",
    "#                 model=name_map[model_name],\n",
    "                model=model_name,\n",
    "                noise=noise*100,\n",
    "                grc_dim=res['grc_dim'],\n",
    "                grc_dim_norm=res['grc_dim']/79,\n",
    "                grc_dim2=grc_dim2,\n",
    "                grc_dim2_norm=grc_dim2/72,\n",
    "                grc_by_mf_dim=res['grc_dim']/res['mf_dim'],\n",
    "                num_grcs=res['num_grcs'],\n",
    "                num_mfs=res['num_mfs'],\n",
    "                voi=res['voi'],\n",
    "                grc_pop_corr=res['grc_pop_corr'],\n",
    "                binary_similarity=res['binary_similarity'],\n",
    "                hamming_distance=res['hamming_distance'],\n",
    "                hamming_distance_norm=res['hamming_distance']/f_means[model_name]/2,\n",
    "                normalized_mse=res['normalized_mse'],\n",
    "#                 grc_stdev_pct=1/res['grc_stdev_pct'],\n",
    "                grc_stdev_pct=res['grc_stdev_pct'],\n",
    "                grc_stdev_pct_norm=res['grc_stdev_pct'] / .0735,\n",
    "                )\n",
    "\n",
    "importlib.reload(my_plot); my_plot.my_relplot(\n",
    "    mpd,\n",
    "    x='noise',\n",
    "    y='hamming_distance_norm',\n",
    "    hue='model',\n",
    "    context='paper',\n",
    "#     palette=palette,\n",
    "    linewidth=1,\n",
    "#     log_scale_y=True,\n",
    "    width=5,\n",
    "#     ylim=[0, None],\n",
    "    y_axis_label='Norm. SD / $\\mu F$',\n",
    "    x_axis_label='Synapse Failure Rate (%)',\n",
    "#     title='noise',\n",
    "    legend=None,\n",
    "    save_filename=f'{script_n}_1529.svg',\n",
    "    show=True,\n",
    "    )\n"
   ]
  }
 ],
 "metadata": {
  "kernelspec": {
   "display_name": "Python 3",
   "language": "python",
   "name": "python3"
  },
  "language_info": {
   "codemirror_mode": {
    "name": "ipython",
    "version": 3
   },
   "file_extension": ".py",
   "mimetype": "text/x-python",
   "name": "python",
   "nbconvert_exporter": "python",
   "pygments_lexer": "ipython3",
   "version": "3.8.5"
  }
 },
 "nbformat": 4,
 "nbformat_minor": 4
}
