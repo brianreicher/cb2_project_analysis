{
 "cells": [
  {
   "cell_type": "code",
   "execution_count": 68,
   "metadata": {},
   "outputs": [],
   "source": [
    "import random\n",
    "import copy\n",
    "import logging\n",
    "import sys\n",
    "\n",
    "from run_tests_201204 import *\n",
    "\n",
    "import os\n",
    "import sys\n",
    "import importlib\n",
    "from collections import defaultdict\n",
    "sys.path.insert(0, '/n/groups/htem/Segmentation/shared-nondev/cb2_segmentation/analysis_mf_grc')\n",
    "from tools_pattern import get_eucledean_dist\n",
    "import compress_pickle\n",
    "import my_plot\n",
    "from my_plot import MyPlotData, my_box_plot\n",
    "import seaborn as sns\n",
    "\n",
    "script_n = 'plot_dim_by_act_210330'\n",
    "\n",
    "db_path = '/n/groups/htem/Segmentation/shared-nondev/cb2_segmentation/analysis_mf_grc/dimensionality_sim/batch_similarity_by_activation_level_210329_data/'\n",
    "\n",
    "db = {}\n",
    "db['data'] = compress_pickle.load(\n",
    "    db_path+'batch_similarity_by_activation_level_210329_data_1_512_5.gz')\n",
    "db['global_random'] = compress_pickle.load(\n",
    "    db_path+'batch_similarity_by_activation_level_210329_global_random_1_512_5.gz')\n",
    "db['random'] = compress_pickle.load(\n",
    "    db_path+'batch_similarity_by_activation_level_210329_random_1_512_5.gz')\n",
    "db['naive_random_21'] = compress_pickle.load(\n",
    "    db_path+'batch_similarity_by_activation_level_210329_naive_random_21_1_512_5.gz')\n",
    "db['naive_random_15'] = compress_pickle.load(\n",
    "    db_path+'batch_similarity_by_activation_level_210329_naive_random_15_1_512_5.gz')\n",
    "db['naive_random_17'] = compress_pickle.load(\n",
    "    db_path+'batch_similarity_by_activation_level_210329_naive_random_17_1_512_5.gz')\n",
    "\n"
   ]
  },
  {
   "cell_type": "code",
   "execution_count": 69,
   "metadata": {},
   "outputs": [
    {
     "name": "stdout",
     "output_type": "stream",
     "text": [
      "Height: 3.15, Aspect: 1.1904761904761905\n"
     ]
    },
    {
     "data": {
      "image/png": "[encoded data removed]",
      "text/plain": [
       "<Figure size 419.52x226.8 with 1 Axes>"
      ]
     },
     "metadata": {},
     "output_type": "display_data"
    },
    {
     "data": {
      "text/plain": [
       "<seaborn.axisgrid.FacetGrid at 0x7fc3acc83f40>"
      ]
     },
     "execution_count": 69,
     "metadata": {},
     "output_type": "execute_result"
    }
   ],
   "source": [
    "\n",
    "name_map = {\n",
    "        'data': \"Observed\",\n",
    "        'global_random': \"Global Random\",\n",
    "        'random': \"Random\",\n",
    "        'naive_random_17': \"Local Random\",\n",
    "}\n",
    "\n",
    "palette = {\n",
    "    name_map['data']: sns.color_palette()[0],\n",
    "    name_map['global_random']: sns.color_palette()[1],\n",
    "    name_map['naive_random_17']: sns.color_palette()[2],\n",
    "    name_map['random']: sns.color_palette()[3],\n",
    "}\n",
    "\n",
    "mpd = MyPlotData()\n",
    "ress_ref = db['naive_random_17'][0][0]\n",
    "for model_name in [\n",
    "        'global_random',\n",
    "#         'random',\n",
    "        'naive_random_17',\n",
    "        'data',\n",
    "        ]:\n",
    "    ress = db[model_name]\n",
    "    ress = ress[0]  # get the first element in tuple\n",
    "    ress = ress[0]  # get the first try\n",
    "    for act in ress:\n",
    "        if act in [0.01, 0.99]:\n",
    "            continue\n",
    "        res = ress[act]\n",
    "        res_ref = ress_ref[act]\n",
    "        hamming_distance_norm = res['hamming_distance']/res['num_grcs']\n",
    "        mpd.add_data_point(\n",
    "            model=name_map[model_name],\n",
    "            # mf_dim=res[0]['mf_dim'],\n",
    "            activation_level=act*100,\n",
    "#             noise=noise*100,\n",
    "            grc_dim=res['grc_dim'],\n",
    "            grc_by_mf_dim=res['grc_dim']/res['mf_dim'],\n",
    "            grc_by_mf_dim_ref=res['grc_dim']/res_ref['mf_dim'],\n",
    "            grc_dim_normed=res['grc_dim']/355,\n",
    "            # pct_mf_dim=res['pct_mf_dim']/100,\n",
    "            num_grcs=res['num_grcs'],\n",
    "            num_mfs=res['num_mfs'],\n",
    "            voi=res['voi'],\n",
    "            grc_pop_corr=res['grc_pop_corr'],\n",
    "            binary_similarity=res['binary_similarity'],\n",
    "            hamming_distance=res['hamming_distance'],\n",
    "            hamming_distance_norm=hamming_distance_norm,\n",
    "            # hamming_distance_norm_max=hamming_distance_norm_max,\n",
    "            )\n",
    "\n",
    "importlib.reload(my_plot); my_plot.my_relplot(\n",
    "    mpd,\n",
    "    x='activation_level',\n",
    "#     y='grc_by_mf_dim',\n",
    "    y='grc_dim_normed',\n",
    "    hue='model',\n",
    "    palette=palette,\n",
    "    context='paper',\n",
    "    linewidth=2.5,\n",
    "    width=3.75,\n",
    "    height=3.15,\n",
    "    ylim=[0, None],\n",
    "#     custom_legend_loc='lower right',\n",
    "    y_axis_label='Normed. Dim. ($x$)',\n",
    "    x_axis_label='GrC Coding Level (%)',\n",
    "    save_filename=f'{script_n}_noise_1.svg',\n",
    "    show=True,\n",
    "    )\n"
   ]
  }
 ],
 "metadata": {
  "kernelspec": {
   "display_name": "Python 3",
   "language": "python",
   "name": "python3"
  },
  "language_info": {
   "codemirror_mode": {
    "name": "ipython",
    "version": 3
   },
   "file_extension": ".py",
   "mimetype": "text/x-python",
   "name": "python",
   "nbconvert_exporter": "python",
   "pygments_lexer": "ipython3",
   "version": "3.8.5"
  }
 },
 "nbformat": 4,
 "nbformat_minor": 4
}
