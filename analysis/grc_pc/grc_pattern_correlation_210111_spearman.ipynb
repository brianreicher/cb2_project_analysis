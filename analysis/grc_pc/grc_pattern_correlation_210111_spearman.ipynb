{
 "cells": [
  {
   "cell_type": "code",
   "execution_count": 2,
   "metadata": {},
   "outputs": [
    {
     "name": "stdout",
     "output_type": "stream",
     "text": [
      "Num samples: 35084\n",
      "Num samples: 2780\n",
      "Num samples: 227\n",
      "Num samples: 15\n"
     ]
    }
   ],
   "source": [
    "import collections\n",
    "from collections import defaultdict\n",
    "import sys\n",
    "import json\n",
    "import random\n",
    "from jsmin import jsmin\n",
    "from io import StringIO\n",
    "import numpy as np\n",
    "import copy\n",
    "import importlib\n",
    "from functools import partial\n",
    "import math\n",
    "import os\n",
    "import argparse\n",
    "import random\n",
    "import compress_pickle\n",
    "\n",
    "# script_n = os.path.basename(__file__).split('.')[0]\n",
    "script_n = 'grc_pattern_correlation_210111_spearman'\n",
    "\n",
    "sys.path.insert(0, '/n/groups/htem/Segmentation/shared-nondev/cb2_segmentation/analysis_mf_grc')\n",
    "import my_plot\n",
    "importlib.reload(my_plot)\n",
    "from my_plot_data import MyPlotData\n",
    "import tools2\n",
    "\n",
    "# ap = argparse.ArgumentParser()\n",
    "# ap.add_argument(\"--min_length\", type=int, default=4)\n",
    "# ap.add_argument(\"--max_dist\", type=int, default=125)\n",
    "# ap.add_argument(\"--n_random\", type=int, default=20)\n",
    "# config = ap.parse_args()\n",
    "min_length = 6\n",
    "max_dist = 150\n",
    "n_random = 20\n",
    "\n",
    "\n",
    "mf_grc_db = compress_pickle.load('/n/groups/htem/Segmentation/shared-nondev/cb2_segmentation/analysis_mf_grc/gen_db/mf_grc/gen_201229_setup01_syndb_threshold_20_coalesced.gz')\n",
    "\n",
    "from weight_database import WeightDatabase\n",
    "weightdb = WeightDatabase()\n",
    "\n",
    "weightdb.load_syn_db('/n/groups/htem/Segmentation/shared-nondev/cb2_segmentation/analysis_mf_grc/gen_db/grc_axons/gen_210111_setup01_syndb_threshold_10_coalesced_filtered_10.gz')\n",
    "weightdb.load_touch_db(\n",
    "#     '/n/groups/htem/Segmentation/shared-nondev/cb2_segmentation/analysis_mf_grc/purkinje/grc_pc_touches_201224.gz',\n",
    "    '/n/groups/htem/Segmentation/shared-nondev/cb2_segmentation/analysis_mf_grc/purkinje/grc_pc_touches_210111.gz',\n",
    "    max_dist=max_dist\n",
    "    )\n",
    "\n",
    "hist = defaultdict(list)\n",
    "\n",
    "def calc_pattern_correlation(weightdb, nids, type='Data',\n",
    "        skip_fn=None):\n",
    "    mpd = MyPlotData()\n",
    "    processed = set()\n",
    "    n = 0\n",
    "    random.seed(0)\n",
    "    # while n < n_sample:\n",
    "    #     nid0 = nids[int(random.random()*len(nids))]\n",
    "    #     nid1 = nids[int(random.random()*len(nids))]\n",
    "    for nid0 in nids:\n",
    "        for nid1 in nids:\n",
    "            if nid0 == nid1:\n",
    "                continue\n",
    "            if (nid0, nid1) in processed:\n",
    "                continue\n",
    "            if skip_fn and skip_fn(nid0, nid1):\n",
    "                continue\n",
    "            processed.add((nid0, nid1))\n",
    "            processed.add((nid1, nid0))\n",
    "            if len(weightdb.get_shared_presyns(nid0, nid1)) < min_length:\n",
    "                continue\n",
    "            score = weightdb.calc_pattern_correlation(nid0, nid1, spearman=True)\n",
    "            # if score >= 0.7:\n",
    "            #     print(f'{nid0} and {nid1}: {score}')\n",
    "            if math.isnan(score):\n",
    "                continue\n",
    "                score = 0\n",
    "            mpd.add_data_point(\n",
    "                score=score,\n",
    "                type=type,\n",
    "                )\n",
    "            n += 1\n",
    "            hist[type].append(score)\n",
    "    print(f'Num samples: {n}')\n",
    "    return mpd\n",
    "\n",
    "\n",
    "presyns = list(weightdb.get_presyn_ids())\n",
    "\n",
    "shares = tools2.compute_mf_share(presyns, mf_grc_db)\n",
    "\n",
    "def skip_for_share_x(nid0, nid1, share):\n",
    "    if nid1 in shares[nid0][share]:\n",
    "        return False\n",
    "    return True\n",
    "\n",
    "def skip_for_share_0(nid0, nid1):\n",
    "    for s in shares[nid0]:\n",
    "        if nid1 in shares[nid0][s]:\n",
    "            return True\n",
    "    return False\n",
    "\n",
    "mpd_data_share0 = calc_pattern_correlation(weightdb, presyns,\n",
    "    skip_fn=skip_for_share_0,\n",
    "    type='0-share')\n",
    "\n",
    "mpd_data_share1 = calc_pattern_correlation(weightdb, presyns,\n",
    "    skip_fn=partial(skip_for_share_x, share=1),\n",
    "    type='1-share')\n",
    "\n",
    "mpd_data_share2 = calc_pattern_correlation(weightdb, presyns,\n",
    "    skip_fn=partial(skip_for_share_x, share=2),\n",
    "    type='2-share')\n",
    "\n",
    "mpd_data_share3 = calc_pattern_correlation(weightdb, presyns,\n",
    "    skip_fn=partial(skip_for_share_x, share=3),\n",
    "    type='3-share')\n",
    "\n"
   ]
  },
  {
   "cell_type": "code",
   "execution_count": 7,
   "metadata": {},
   "outputs": [
    {
     "name": "stdout",
     "output_type": "stream",
     "text": [
      "Height: 4, Aspect: 1.5\n"
     ]
    },
    {
     "data": {
      "image/png": "[encoded data removed]",
      "text/plain": [
       "<Figure size 432x288 with 1 Axes>"
      ]
     },
     "metadata": {},
     "output_type": "display_data"
    }
   ],
   "source": [
    "\n",
    "# (mpd_pfs_data, mpd_random) = compress_pickle.load('/n/groups/htem/Segmentation/shared-nondev/cb2_segmentation/analysis_mf_grc/pfs_pc_analysis/pfs_pattern_similarity_210101_random_test_max_dist_125_min_length_4_db.gz')\n",
    "(mpd_pfs_data, _) = compress_pickle.load('/n/groups/htem/Segmentation/shared-nondev/cb2_segmentation/analysis_mf_grc/pfs_pc_analysis/pfs_pattern_correlation_210107_random_spearman_max_dist_150_min_length_6_db.gz')\n",
    "\n",
    "mpd_all = MyPlotData()\n",
    "# mpd_all.append(mpd_pfs_data, replace=[('type', 'remote pfs')])\n",
    "mpd_all.append(mpd_pfs_data, replace=[('type', 'remote pfs')])\n",
    "mpd_all.append(mpd_data_share0)\n",
    "mpd_all.append(mpd_data_share1)\n",
    "mpd_all.append(mpd_data_share2)\n",
    "mpd_all.append(mpd_data_share3)\n",
    "# # mpd_all.append(mpd_random)\n",
    "\n",
    "# # mpd_all.append(mpd_random)\n",
    "xticklabels = ['non-local\\npfs', 'local pfs\\n0-share', 'local pfs\\n1-share', 'local pfs\\n2-share', 'local pfs\\n3-share']\n",
    "\n",
    "# import compress_pickle\n",
    "# compress_pickle.dump(\n",
    "#     (mpd_data,\n",
    "#         mpd_random),\n",
    "#     f'{script_n}_max_dist_{config.max_dist}_min_length_{config.min_length}_db.gz',)\n",
    "\n",
    "\n",
    "importlib.reload(my_plot); my_plot.my_catplot(\n",
    "    mpd_all,\n",
    "    y=\"score\",\n",
    "    x=\"type\",\n",
    "    # ylim=[.30, .70],\n",
    "    context='paper',\n",
    "    kind='box',\n",
    "    # add_swarm=True,\n",
    "    height=4,\n",
    "    width=6,\n",
    "    y_axis_label='Correlation',\n",
    "    xticklabels=xticklabels,\n",
    "    # x_axis_label='# of synapses per connection',\n",
    "    save_filename=f'{script_n}_max_dist_{max_dist}_min_length_{min_length}.svg',\n",
    "    show=True,\n",
    "    )\n"
   ]
  },
  {
   "cell_type": "code",
   "execution_count": 14,
   "metadata": {},
   "outputs": [
    {
     "name": "stdout",
     "output_type": "stream",
     "text": [
      "Comparing share-0 to share-1\n",
      "Ttest_indResult(statistic=-0.4735321179603601, pvalue=0.6358363225321872)\n",
      "RanksumsResult(statistic=-0.5177615354723955, pvalue=0.6046246584219632)\n",
      "MannwhitneyuResult(statistic=48479526.5, pvalue=0.3022953966987326)\n",
      "KstestResult(statistic=0.012798922872874902, pvalue=0.7875886017803443)\n",
      "\n",
      "Comparing share-0 to share-2\n",
      "Ttest_indResult(statistic=-0.5296613114682321, pvalue=0.5963501067906676)\n",
      "RanksumsResult(statistic=-0.4053286205952803, pvalue=0.6852359713383196)\n",
      "MannwhitneyuResult(statistic=3919983.5, pvalue=0.3426046958711152)\n",
      "KstestResult(statistic=0.05664893870820792, pvalue=0.44654625697952677)\n",
      "\n",
      "Comparing share-0 to share-3\n",
      "Ttest_indResult(statistic=-2.781064703925117, pvalue=0.00542098185965933)\n",
      "RanksumsResult(statistic=-2.8036108026045516, pvalue=0.0050533865087001775)\n",
      "MannwhitneyuResult(statistic=153133.0, pvalue=0.0025246575119605825)\n",
      "KstestResult(statistic=0.3461691939345571, pvalue=0.041376440711443085)\n",
      "\n",
      "Comparing share-1 to share-2\n",
      "Ttest_indResult(statistic=-0.38108128175257144, pvalue=0.7031698757642164)\n",
      "RanksumsResult(statistic=-0.24011722932977483, pvalue=0.8102393778110603)\n",
      "MannwhitneyuResult(statistic=312510.0, pvalue=0.40512741180841044)\n",
      "KstestResult(statistic=0.04979558203657338, pvalue=0.6552197767632602)\n",
      "\n",
      "Comparing share-1 to share-3\n",
      "Ttest_indResult(statistic=-2.7726159723864203, pvalue=0.005597665085110695)\n",
      "RanksumsResult(statistic=-2.7630150271809497, pvalue=0.0057270129703407896)\n",
      "MannwhitneyuResult(statistic=12237.5, pvalue=0.002862923494838455)\n",
      "KstestResult(statistic=0.3431654676258993, pvalue=0.045139972086124414)\n",
      "\n",
      "Comparing share-2 to share-3\n",
      "Ttest_indResult(statistic=-2.7094602794577023, pvalue=0.007225150703455936)\n",
      "RanksumsResult(statistic=-2.766715777670832, pvalue=0.005662409831051878)\n",
      "MannwhitneyuResult(statistic=976.0, pvalue=0.0028426771072362065)\n",
      "KstestResult(statistic=0.34126284875183555, pvalue=0.05760493814986822)\n",
      "\n"
     ]
    }
   ],
   "source": [
    "\n",
    "hist = defaultdict(list)\n",
    "\n",
    "for i, mpd_data_i in enumerate([mpd_data_share0, mpd_data_share1, mpd_data_share2, mpd_data_share3]):\n",
    "    for e in mpd_data_i.data:\n",
    "        assert not math.isnan(float(e['score']))\n",
    "        hist[i].append(e['score'])\n",
    "\n",
    "import scipy\n",
    "fout_name = f'{script_n}_max_dist_{max_dist}_min_length_{min_length}_n_{n_random}'\n",
    "with open(f'{fout_name}_results', 'w') as fout:\n",
    "    for foutt in [fout, sys.stdout]:\n",
    "        for i in sorted(hist.keys()):\n",
    "            for j in sorted(hist.keys()):\n",
    "                if i >= j:\n",
    "                    continue\n",
    "                print(f'Comparing share-{i} to share-{j}', file=foutt)\n",
    "                print(scipy.stats.ttest_ind(hist[i], hist[j]), file=foutt)\n",
    "                print(scipy.stats.ranksums(hist[i], hist[j]), file=foutt)\n",
    "                print(scipy.stats.mannwhitneyu(hist[i], hist[j], alternative='less'), file=foutt)\n",
    "                print(scipy.stats.ks_2samp(hist[i], hist[j]), file=foutt)\n",
    "                print(file=foutt)\n",
    "                # print(scipy.stats.ks_2samp(hist[i], hist[j]), file=foutt)\n",
    "    "
   ]
  },
  {
   "cell_type": "code",
   "execution_count": 10,
   "metadata": {},
   "outputs": [
    {
     "data": {
      "text/plain": [
       "F_onewayResult(statistic=2.742357322741428, pvalue=0.041559273007881786)"
      ]
     },
     "execution_count": 10,
     "metadata": {},
     "output_type": "execute_result"
    }
   ],
   "source": [
    "import scipy.stats\n",
    "scipy.stats.f_oneway(hist[0], hist[1], hist[2], hist[3])"
   ]
  },
  {
   "cell_type": "code",
   "execution_count": 15,
   "metadata": {},
   "outputs": [
    {
     "name": "stdout",
     "output_type": "stream",
     "text": [
      "Comparing pfs to share-0\n",
      "Ttest_indResult(statistic=-0.7202673091254959, pvalue=0.4713641628216594)\n",
      "RanksumsResult(statistic=-0.7886159590145649, pvalue=0.43033650051692407)\n",
      "MannwhitneyuResult(statistic=174514589.5, pvalue=0.21514431414480362)\n",
      "KstestResult(statistic=0.3461691939345571, pvalue=0.041376440711443085)\n",
      "\n",
      "Comparing pfs to share-1\n",
      "Ttest_indResult(statistic=-0.8083921731259585, pvalue=0.41887990599960145)\n",
      "RanksumsResult(statistic=-0.886228441858791, pvalue=0.375494440235824)\n",
      "MannwhitneyuResult(statistic=13747503.5, pvalue=0.18771907102523322)\n",
      "KstestResult(statistic=0.3431654676258993, pvalue=0.045139972086124414)\n",
      "\n",
      "Comparing pfs to share-2\n",
      "Ttest_indResult(statistic=-0.6375494198552258, pvalue=0.5237813054981912)\n",
      "RanksumsResult(statistic=-0.520002539682922, pvalue=0.603061804974135)\n",
      "MannwhitneyuResult(statistic=1112127.0, pvalue=0.30150994044935464)\n",
      "KstestResult(statistic=0.34126284875183555, pvalue=0.05760493814986822)\n",
      "\n",
      "Comparing pfs to share-3\n",
      "Ttest_indResult(statistic=-2.765521212660986, pvalue=0.005693600478877383)\n",
      "RanksumsResult(statistic=-2.794192152366234, pvalue=0.005202955271237198)\n",
      "MannwhitneyuResult(statistic=43735.0, pvalue=0.0025987166361758195)\n",
      "KstestResult(statistic=0.0, pvalue=1.0)\n",
      "\n"
     ]
    }
   ],
   "source": [
    "\n",
    "hist_pfs = []\n",
    "\n",
    "for e in mpd_pfs_data.data:\n",
    "#     if not math.isnan(e['score']):\n",
    "        hist_pfs.append(float(e['score']))\n",
    "\n",
    "import scipy\n",
    "fout_name = f'{script_n}_max_dist_{max_dist}_min_length_{min_length}_n_{n_random}'\n",
    "with open(f'{fout_name}_results', 'a') as fout:\n",
    "    for foutt in [fout, sys.stdout]:\n",
    "        for i in sorted(hist.keys()):\n",
    "                print(f'Comparing pfs to share-{i}', file=foutt)\n",
    "                print(scipy.stats.ttest_ind(hist_pfs, hist[i]), file=foutt)\n",
    "                print(scipy.stats.ranksums(hist_pfs, hist[i]), file=foutt)\n",
    "                print(scipy.stats.mannwhitneyu(hist_pfs, hist[i], alternative='less'), file=foutt)\n",
    "                print(scipy.stats.ks_2samp(hist[i], hist[j]), file=foutt)\n",
    "                print(file=foutt)\n",
    "                # print(scipy.stats.ks_2samp(hist_pfs, hist[i]), file=foutt)\n",
    "    "
   ]
  },
  {
   "cell_type": "code",
   "execution_count": 18,
   "metadata": {},
   "outputs": [
    {
     "data": {
      "text/plain": [
       "F_onewayResult(statistic=2.2142954601565834, pvalue=0.06478677176217315)"
      ]
     },
     "execution_count": 18,
     "metadata": {},
     "output_type": "execute_result"
    }
   ],
   "source": [
    "import scipy.stats\n",
    "scipy.stats.f_oneway(hist_pfs, hist[0], hist[1], hist[2], hist[3])"
   ]
  },
  {
   "cell_type": "code",
   "execution_count": 17,
   "metadata": {},
   "outputs": [
    {
     "data": {
      "text/plain": [
       "KruskalResult(statistic=9.028494626655178, pvalue=0.06039118370521954)"
      ]
     },
     "execution_count": 17,
     "metadata": {},
     "output_type": "execute_result"
    }
   ],
   "source": [
    "import scipy.stats\n",
    "scipy.stats.kruskal(hist_pfs, hist[0], hist[1], hist[2], hist[3])"
   ]
  }
 ],
 "metadata": {
  "kernelspec": {
   "display_name": "Python 3",
   "language": "python",
   "name": "python3"
  },
  "language_info": {
   "codemirror_mode": {
    "name": "ipython",
    "version": 3
   },
   "file_extension": ".py",
   "mimetype": "text/x-python",
   "name": "python",
   "nbconvert_exporter": "python",
   "pygments_lexer": "ipython3",
   "version": "3.8.5"
  }
 },
 "nbformat": 4,
 "nbformat_minor": 4
}
