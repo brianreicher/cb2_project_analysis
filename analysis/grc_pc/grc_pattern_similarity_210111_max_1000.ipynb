{
 "cells": [
  {
   "cell_type": "code",
   "execution_count": 83,
   "metadata": {},
   "outputs": [
    {
     "name": "stdout",
     "output_type": "stream",
     "text": [
      "Num samples: 44232\n",
      "Num samples: 3510\n",
      "Num samples: 266\n",
      "Num samples: 20\n",
      "Comparing share-0 to share-1\n",
      "Ttest_indResult(statistic=-1.5805884086732178, pvalue=0.11397880273054078)\n",
      "RanksumsResult(statistic=-1.1098069324874085, pvalue=0.26708223134298603)\n",
      "MannwhitneyuResult(statistic=76754925.0, pvalue=0.13268078142372586)\n",
      "\n",
      "Comparing share-0 to share-2\n",
      "Ttest_indResult(statistic=-0.8360248544784356, pvalue=0.4031454101392894)\n",
      "RanksumsResult(statistic=-0.9000450334981239, pvalue=0.3680962856799789)\n",
      "MannwhitneyuResult(statistic=5694856.0, pvalue=0.18318057769253743)\n",
      "\n",
      "Comparing share-0 to share-3\n",
      "Ttest_indResult(statistic=-2.560316001010746, pvalue=0.010460991646024157)\n",
      "RanksumsResult(statistic=-2.4430193994060443, pvalue=0.014564954340005503)\n",
      "MannwhitneyuResult(statistic=302782.5, pvalue=0.007105485647651224)\n",
      "\n",
      "Comparing share-1 to share-2\n",
      "Ttest_indResult(statistic=-0.38049835836892815, pvalue=0.7035969289231175)\n",
      "RanksumsResult(statistic=-0.5807746369457886, pvalue=0.5613923510988779)\n",
      "MannwhitneyuResult(statistic=456874.0, pvalue=0.28006635039042804)\n",
      "\n",
      "Comparing share-1 to share-3\n",
      "Ttest_indResult(statistic=-2.4816153361404223, pvalue=0.013125065922795371)\n",
      "RanksumsResult(statistic=-2.367915475631252, pvalue=0.017888622187214792)\n",
      "MannwhitneyuResult(statistic=24338.0, pvalue=0.00876149243641629)\n",
      "\n",
      "Comparing share-2 to share-3\n",
      "Ttest_indResult(statistic=-2.2403802451574624, pvalue=0.025839518760644966)\n",
      "RanksumsResult(statistic=-2.1698755147584126, pvalue=0.030016277690148575)\n",
      "MannwhitneyuResult(statistic=1886.0, pvalue=0.014815632445991702)\n",
      "\n"
     ]
    }
   ],
   "source": [
    "import collections\n",
    "from collections import defaultdict\n",
    "import sys\n",
    "import json\n",
    "import random\n",
    "from jsmin import jsmin\n",
    "from io import StringIO\n",
    "import numpy as np\n",
    "import copy\n",
    "import importlib\n",
    "from functools import partial\n",
    "import math\n",
    "import os\n",
    "import argparse\n",
    "import random\n",
    "import compress_pickle\n",
    "\n",
    "# script_n = os.path.basename(__file__).split('.')[0]\n",
    "script_n = 'grc_pattern_similarity_210111'\n",
    "\n",
    "sys.path.insert(0, '/n/groups/htem/Segmentation/shared-nondev/cb2_segmentation/analysis_mf_grc')\n",
    "import my_plot\n",
    "importlib.reload(my_plot)\n",
    "from my_plot_data import MyPlotData\n",
    "import tools2\n",
    "\n",
    "# ap = argparse.ArgumentParser()\n",
    "# ap.add_argument(\"--min_length\", type=int, default=4)\n",
    "# ap.add_argument(\"--max_dist\", type=int, default=125)\n",
    "# ap.add_argument(\"--n_random\", type=int, default=20)\n",
    "# config = ap.parse_args()\n",
    "min_length = 6\n",
    "max_dist = 1000\n",
    "n_random = 20\n",
    "\n",
    "\n",
    "mf_grc_db = compress_pickle.load('/n/groups/htem/Segmentation/shared-nondev/cb2_segmentation/analysis_mf_grc/gen_db/mf_grc/gen_201229_setup01_syndb_threshold_20_coalesced.gz')\n",
    "\n",
    "# (mpd_pfs_data, mpd_random) = compress_pickle.load('/n/groups/htem/Segmentation/shared-nondev/cb2_segmentation/analysis_mf_grc/pfs_pc_analysis/pfs_pattern_similarity_210101_random_test_max_dist_125_min_length_4_db.gz')\n",
    "mpd_pfs_data = compress_pickle.load(f'/n/groups/htem/Segmentation/shared-nondev/cb2_segmentation/analysis_mf_grc/pfs_pc_analysis/pfs_pattern_similarity_210101_max_dist_{max_dist}_min_length_{min_length}_db.gz')\n",
    "\n",
    "from weight_database import WeightDatabase\n",
    "weightdb = WeightDatabase()\n",
    "\n",
    "weightdb.load_syn_db('/n/groups/htem/Segmentation/shared-nondev/cb2_segmentation/analysis_mf_grc/gen_db/grc_axons/gen_210111_setup01_syndb_threshold_10_coalesced_filtered_10.gz')\n",
    "weightdb.load_touch_db(\n",
    "#     '/n/groups/htem/Segmentation/shared-nondev/cb2_segmentation/analysis_mf_grc/purkinje/grc_pc_touches_201224.gz',\n",
    "    '/n/groups/htem/Segmentation/shared-nondev/cb2_segmentation/analysis_mf_grc/purkinje/grc_pc_touches_210111.gz',\n",
    "    max_dist=max_dist\n",
    "    )\n",
    "\n",
    "hist = defaultdict(list)\n",
    "\n",
    "def calc_pattern_similarity(weightdb, nids, type='Data',\n",
    "        skip_fn=None):\n",
    "    mpd = MyPlotData()\n",
    "    processed = set()\n",
    "    n = 0\n",
    "    random.seed(0)\n",
    "    # while n < n_sample:\n",
    "    #     nid0 = nids[int(random.random()*len(nids))]\n",
    "    #     nid1 = nids[int(random.random()*len(nids))]\n",
    "    for nid0 in nids:\n",
    "        for nid1 in nids:\n",
    "            if nid0 == nid1:\n",
    "                continue\n",
    "            if (nid0, nid1) in processed:\n",
    "                continue\n",
    "            if skip_fn and skip_fn(nid0, nid1):\n",
    "                continue\n",
    "            processed.add((nid0, nid1))\n",
    "            processed.add((nid1, nid0))\n",
    "            if len(weightdb.get_shared_presyns(nid0, nid1)) < min_length:\n",
    "                continue\n",
    "            score = weightdb.calc_pattern_similarity(nid0, nid1)\n",
    "            # if score >= 0.7:\n",
    "            #     print(f'{nid0} and {nid1}: {score}')\n",
    "            mpd.add_data_point(\n",
    "                score=score,\n",
    "                type=type,\n",
    "                )\n",
    "            n += 1\n",
    "            hist[type].append(score)\n",
    "    print(f'Num samples: {n}')\n",
    "    return mpd\n",
    "\n",
    "\n",
    "presyns = list(weightdb.get_presyn_ids())\n",
    "\n",
    "shares = tools2.compute_mf_share(presyns, mf_grc_db)\n",
    "\n",
    "def skip_for_share_x(nid0, nid1, share):\n",
    "    if nid1 in shares[nid0][share]:\n",
    "        return False\n",
    "    return True\n",
    "\n",
    "def skip_for_share_0(nid0, nid1):\n",
    "    for s in shares[nid0]:\n",
    "        if nid1 in shares[nid0][s]:\n",
    "            return True\n",
    "    return False\n",
    "\n",
    "mpd_data_share0 = calc_pattern_similarity(weightdb, presyns,\n",
    "    skip_fn=skip_for_share_0,\n",
    "    type='0-share')\n",
    "\n",
    "mpd_data_share1 = calc_pattern_similarity(weightdb, presyns,\n",
    "    skip_fn=partial(skip_for_share_x, share=1),\n",
    "    type='1-share')\n",
    "\n",
    "mpd_data_share2 = calc_pattern_similarity(weightdb, presyns,\n",
    "    skip_fn=partial(skip_for_share_x, share=2),\n",
    "    type='2-share')\n",
    "\n",
    "mpd_data_share3 = calc_pattern_similarity(weightdb, presyns,\n",
    "    skip_fn=partial(skip_for_share_x, share=3),\n",
    "    type='3-share')\n",
    "\n",
    "\n",
    "hist = defaultdict(list)\n",
    "\n",
    "for i, mpd_data_i in enumerate([mpd_data_share0, mpd_data_share1, mpd_data_share2, mpd_data_share3]):\n",
    "    for e in mpd_data_i.data:\n",
    "        hist[i].append(e['score'])\n",
    "\n",
    "import scipy\n",
    "fout_name = f'{script_n}_max_dist_{max_dist}_min_length_{min_length}_n_{n_random}'\n",
    "with open(f'{fout_name}_results', 'w') as fout:\n",
    "    for foutt in [fout, sys.stdout]:\n",
    "        for i in sorted(hist.keys()):\n",
    "            for j in sorted(hist.keys()):\n",
    "                if i >= j:\n",
    "                    continue\n",
    "                print(f'Comparing share-{i} to share-{j}', file=foutt)\n",
    "                print(scipy.stats.ttest_ind(hist[i], hist[j]), file=foutt)\n",
    "                print(scipy.stats.ranksums(hist[i], hist[j]), file=foutt)\n",
    "                print(scipy.stats.mannwhitneyu(hist[i], hist[j], alternative='less'), file=foutt)\n",
    "                print(file=foutt)\n",
    "                # print(scipy.stats.ks_2samp(hist[i], hist[j]), file=foutt)\n",
    "    \n",
    "\n"
   ]
  },
  {
   "cell_type": "code",
   "execution_count": 78,
   "metadata": {},
   "outputs": [
    {
     "name": "stdout",
     "output_type": "stream",
     "text": [
      "Height: 4, Aspect: 1.5\n"
     ]
    },
    {
     "data": {
      "image/png": "[encoded data removed]",
      "text/plain": [
       "<Figure size 432x288 with 1 Axes>"
      ]
     },
     "metadata": {},
     "output_type": "display_data"
    }
   ],
   "source": [
    "\n",
    "mpd_all = MyPlotData()\n",
    "mpd_all.append(mpd_pfs_data, replace=[('type', 'remote pfs')])\n",
    "mpd_all.append(mpd_data_share0)\n",
    "mpd_all.append(mpd_data_share1)\n",
    "mpd_all.append(mpd_data_share2)\n",
    "mpd_all.append(mpd_data_share3)\n",
    "# # mpd_all.append(mpd_random)\n",
    "xticklabels = ['remote', 'local\\n0-share', 'local\\n1-share', 'local\\n2-share', 'local\\n3-share']\n",
    "\n",
    "# import compress_pickle\n",
    "# compress_pickle.dump(\n",
    "#     (mpd_data,\n",
    "#         mpd_random),\n",
    "#     f'{script_n}_max_dist_{config.max_dist}_min_length_{config.min_length}_db.gz',)\n",
    "\n",
    "\n",
    "importlib.reload(my_plot); my_plot.my_catplot(\n",
    "    mpd_all,\n",
    "    y=\"score\",\n",
    "    x=\"type\",\n",
    "    # ylim=[.30, .70],\n",
    "    context='paper',\n",
    "    kind='box',\n",
    "    # add_swarm=True,\n",
    "    xticklabels=xticklabels,\n",
    "    height=4,\n",
    "    width=6,\n",
    "    y_axis_label='Similarity',\n",
    "    # x_axis_label='# of synapses per connection',\n",
    "    save_filename=f'{script_n}_max_dist_{max_dist}_min_length_{min_length}.svg',\n",
    "    show=True,\n",
    "    )\n"
   ]
  },
  {
   "cell_type": "code",
   "execution_count": 63,
   "metadata": {
    "scrolled": false
   },
   "outputs": [
    {
     "name": "stdout",
     "output_type": "stream",
     "text": [
      "Comparing share-0 to share-1\n",
      "Ttest_indResult(statistic=-3.0940239914744505, pvalue=0.0019760531106626338)\n",
      "RanksumsResult(statistic=-2.6362714272049574, pvalue=0.008382265179470496)\n",
      "MannwhitneyuResult(statistic=47304261.5, pvalue=0.0040415709011872416)\n",
      "\n",
      "Comparing share-0 to share-2\n",
      "Ttest_indResult(statistic=-0.8977728165352309, pvalue=0.3693128011944875)\n",
      "RanksumsResult(statistic=-0.8017831961614522, pvalue=0.4226783805599724)\n",
      "MannwhitneyuResult(statistic=3859291.5, pvalue=0.21024374752499791)\n",
      "\n",
      "Comparing share-0 to share-3\n",
      "Ttest_indResult(statistic=-2.279987800580119, pvalue=0.022614382777118084)\n",
      "RanksumsResult(statistic=-2.278429201400275, pvalue=0.022701018226261156)\n",
      "MannwhitneyuResult(statistic=173738.0, pvalue=0.011033603288045585)\n",
      "\n",
      "Comparing share-1 to share-2\n",
      "Ttest_indResult(statistic=0.016376084129598564, pvalue=0.9869354464321606)\n",
      "RanksumsResult(statistic=-0.017651001626228482, pvalue=0.9859172695877442)\n",
      "MannwhitneyuResult(statistic=315308.0, pvalue=0.4929469593378709)\n",
      "\n",
      "Comparing share-1 to share-3\n",
      "Ttest_indResult(statistic=-2.0693547658511924, pvalue=0.03860457536436911)\n",
      "RanksumsResult(statistic=-2.0870588399797585, pvalue=0.03688281608381095)\n",
      "MannwhitneyuResult(statistic=14344.5, pvalue=0.018084955418866875)\n",
      "\n",
      "Comparing share-2 to share-3\n",
      "Ttest_indResult(statistic=-1.977276868995339, pvalue=0.04915472646170797)\n",
      "RanksumsResult(statistic=-2.010772099945216, pvalue=0.044349534378368645)\n",
      "MannwhitneyuResult(statistic=1174.5, pvalue=0.021850068248562646)\n",
      "\n"
     ]
    }
   ],
   "source": [
    "\n",
    "hist = defaultdict(list)\n",
    "\n",
    "for i, mpd_data_i in enumerate([mpd_data_share0, mpd_data_share1, mpd_data_share2, mpd_data_share3]):\n",
    "    for e in mpd_data_i.data:\n",
    "        hist[i].append(e['score'])\n",
    "\n",
    "import scipy\n",
    "fout_name = f'{script_n}_max_dist_{max_dist}_min_length_{min_length}_n_{n_random}'\n",
    "with open(f'{fout_name}_results', 'w') as fout:\n",
    "    for foutt in [fout, sys.stdout]:\n",
    "        for i in sorted(hist.keys()):\n",
    "            for j in sorted(hist.keys()):\n",
    "                if i >= j:\n",
    "                    continue\n",
    "                print(f'Comparing share-{i} to share-{j}', file=foutt)\n",
    "                print(scipy.stats.ttest_ind(hist[i], hist[j]), file=foutt)\n",
    "                print(scipy.stats.ranksums(hist[i], hist[j]), file=foutt)\n",
    "                print(scipy.stats.mannwhitneyu(hist[i], hist[j], alternative='less'), file=foutt)\n",
    "                print(file=foutt)\n",
    "                # print(scipy.stats.ks_2samp(hist[i], hist[j]), file=foutt)\n",
    "    "
   ]
  },
  {
   "cell_type": "code",
   "execution_count": 7,
   "metadata": {},
   "outputs": [
    {
     "data": {
      "text/plain": [
       "F_onewayResult(statistic=5.129593251634804, pvalue=0.0015148937335596351)"
      ]
     },
     "execution_count": 7,
     "metadata": {},
     "output_type": "execute_result"
    }
   ],
   "source": [
    "import scipy.stats\n",
    "scipy.stats.f_oneway(hist[0], hist[1], hist[2], hist[3])"
   ]
  },
  {
   "cell_type": "code",
   "execution_count": 12,
   "metadata": {},
   "outputs": [
    {
     "data": {
      "text/plain": [
       "KruskalResult(statistic=12.746538861642122, pvalue=0.005218058454621554)"
      ]
     },
     "execution_count": 12,
     "metadata": {},
     "output_type": "execute_result"
    }
   ],
   "source": [
    "import scipy.stats\n",
    "scipy.stats.kruskal(hist[0], hist[1], hist[2], hist[3])"
   ]
  },
  {
   "cell_type": "code",
   "execution_count": 51,
   "metadata": {},
   "outputs": [
    {
     "name": "stdout",
     "output_type": "stream",
     "text": [
      "Comparing pfs to share-0\n",
      "Ttest_indResult(statistic=-24.810073521915463, pvalue=2.0765567089531398e-135)\n",
      "RanksumsResult(statistic=-24.678356958070154, pvalue=1.8264937002632816e-134)\n",
      "MannwhitneyuResult(statistic=844355689.5, pvalue=1.008351360335845e-135)\n",
      "\n",
      "Comparing pfs to share-1\n",
      "Ttest_indResult(statistic=-11.420805132650983, pvalue=3.63311046319827e-30)\n",
      "RanksumsResult(statistic=-11.067071711176196, pvalue=1.8122599267734507e-28)\n",
      "MannwhitneyuResult(statistic=65386094.5, pvalue=5.681140449669919e-29)\n",
      "\n",
      "Comparing pfs to share-2\n",
      "Ttest_indResult(statistic=-3.572944094283094, pvalue=0.00035340199699184687)\n",
      "RanksumsResult(statistic=-3.6724783707196478, pvalue=0.0002402094879315145)\n",
      "MannwhitneyuResult(statistic=4850487.0, pvalue=0.0001136413322962308)\n",
      "\n",
      "Comparing pfs to share-3\n",
      "Ttest_indResult(statistic=-3.459079029733305, pvalue=0.0005425898416009509)\n",
      "RanksumsResult(statistic=-3.2891912922718762, pvalue=0.001004757102377931)\n",
      "MannwhitneyuResult(statistic=245904.5, pvalue=0.0004802495708685131)\n",
      "\n"
     ]
    }
   ],
   "source": [
    "\n",
    "hist_pfs = []\n",
    "\n",
    "for e in mpd_pfs_data.data:\n",
    "    hist_pfs.append(float(e['score']))\n",
    "\n",
    "import scipy\n",
    "fout_name = f'{script_n}_max_dist_{max_dist}_min_length_{min_length}_n_{n_random}'\n",
    "with open(f'{fout_name}_results', 'a') as fout:\n",
    "    for foutt in [fout, sys.stdout]:\n",
    "        for i in sorted(hist.keys()):\n",
    "                print(f'Comparing pfs to share-{i}', file=foutt)\n",
    "                print(scipy.stats.ttest_ind(hist_pfs, hist[i]), file=foutt)\n",
    "                print(scipy.stats.ranksums(hist_pfs, hist[i]), file=foutt)\n",
    "                print(scipy.stats.mannwhitneyu(hist_pfs, hist[i], alternative='less'), file=foutt)\n",
    "                print(file=foutt)\n",
    "                # print(scipy.stats.ks_2samp(hist_pfs, hist[i]), file=foutt)\n",
    "    "
   ]
  },
  {
   "cell_type": "code",
   "execution_count": 86,
   "metadata": {},
   "outputs": [
    {
     "data": {
      "text/plain": [
       "F_onewayResult(statistic=212.9089278939017, pvalue=3.842477088168588e-182)"
      ]
     },
     "execution_count": 86,
     "metadata": {},
     "output_type": "execute_result"
    }
   ],
   "source": [
    "import scipy.stats\n",
    "scipy.stats.f_oneway(hist_pfs, hist[0], hist[1], hist[2], hist[3])"
   ]
  },
  {
   "cell_type": "code",
   "execution_count": 84,
   "metadata": {},
   "outputs": [
    {
     "data": {
      "text/plain": [
       "F_onewayResult(statistic=3.222320768086836, pvalue=0.021628530745413453)"
      ]
     },
     "execution_count": 84,
     "metadata": {},
     "output_type": "execute_result"
    }
   ],
   "source": [
    "import scipy.stats\n",
    "scipy.stats.f_oneway(hist[0], hist[1], hist[2], hist[3])"
   ]
  },
  {
   "cell_type": "code",
   "execution_count": 55,
   "metadata": {},
   "outputs": [
    {
     "data": {
      "text/plain": [
       "KruskalResult(statistic=nan, pvalue=nan)"
      ]
     },
     "execution_count": 55,
     "metadata": {},
     "output_type": "execute_result"
    }
   ],
   "source": [
    "import scipy.stats\n",
    "scipy.stats.kruskal(hist_pfs, hist[0], hist[1], hist[2], hist[3])"
   ]
  },
  {
   "cell_type": "code",
   "execution_count": 87,
   "metadata": {},
   "outputs": [
    {
     "data": {
      "text/plain": [
       "KruskalResult(statistic=7.998111542573707, pvalue=0.04605075053822958)"
      ]
     },
     "execution_count": 87,
     "metadata": {},
     "output_type": "execute_result"
    }
   ],
   "source": [
    "import scipy.stats\n",
    "scipy.stats.kruskal(hist[0], hist[1], hist[2], hist[3])"
   ]
  },
  {
   "cell_type": "code",
   "execution_count": 82,
   "metadata": {},
   "outputs": [
    {
     "data": {
      "text/plain": [
       "KruskalResult(statistic=2.2936134939680057, pvalue=0.31764948676873284)"
      ]
     },
     "execution_count": 82,
     "metadata": {},
     "output_type": "execute_result"
    }
   ],
   "source": [
    "import scipy.stats\n",
    "scipy.stats.kruskal(hist[0], hist[1], hist[2])"
   ]
  }
 ],
 "metadata": {
  "kernelspec": {
   "display_name": "Python 3",
   "language": "python",
   "name": "python3"
  },
  "language_info": {
   "codemirror_mode": {
    "name": "ipython",
    "version": 3
   },
   "file_extension": ".py",
   "mimetype": "text/x-python",
   "name": "python",
   "nbconvert_exporter": "python",
   "pygments_lexer": "ipython3",
   "version": "3.8.5"
  }
 },
 "nbformat": 4,
 "nbformat_minor": 4
}
