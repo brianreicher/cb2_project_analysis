{
 "cells": [
  {
   "cell_type": "code",
   "execution_count": 1,
   "metadata": {},
   "outputs": [
    {
     "name": "stdout",
     "output_type": "stream",
     "text": [
      "Num samples: 35084\n",
      "Num samples: 2780\n",
      "Num samples: 227\n",
      "('grc_386', 'grc_339', 0.8571428571428571)\n",
      "('grc_1782', 'grc_1988', 0.8571428571428571)\n",
      "('grc_1122', 'grc_1110', 0.5)\n",
      "('grc_208', 'grc_1093', 0.6666666666666666)\n",
      "('grc_396', 'grc_1988', 1.0)\n",
      "('grc_174', 'grc_321', 0.8333333333333334)\n",
      "('grc_174', 'grc_269', 0.5)\n",
      "('grc_1988', 'grc_1139', 0.7142857142857143)\n",
      "('grc_1988', 'grc_1993', 0.75)\n",
      "('grc_750', 'grc_417', 0.42857142857142855)\n",
      "('grc_1875', 'grc_2041', 0.6)\n",
      "('grc_2177', 'grc_1718', 0.3333333333333333)\n",
      "('grc_384', 'grc_229', 0.75)\n",
      "('grc_1153', 'grc_713', 0.8333333333333334)\n",
      "('grc_1035', 'grc_1096', 0.75)\n",
      "Num samples: 15\n"
     ]
    }
   ],
   "source": [
    "import collections\n",
    "from collections import defaultdict\n",
    "import sys\n",
    "import json\n",
    "import random\n",
    "from jsmin import jsmin\n",
    "from io import StringIO\n",
    "import numpy as np\n",
    "import copy\n",
    "import importlib\n",
    "from functools import partial\n",
    "import math\n",
    "import os\n",
    "import argparse\n",
    "import random\n",
    "import compress_pickle\n",
    "\n",
    "# script_n = os.path.basename(__file__).split('.')[0]\n",
    "script_n = 'grc_pattern_similarity_210111'\n",
    "\n",
    "sys.path.insert(0, '/n/groups/htem/Segmentation/shared-nondev/cb2_segmentation/analysis_mf_grc')\n",
    "import my_plot\n",
    "importlib.reload(my_plot)\n",
    "from my_plot_data import MyPlotData\n",
    "import tools2\n",
    "\n",
    "# ap = argparse.ArgumentParser()\n",
    "# ap.add_argument(\"--min_length\", type=int, default=4)\n",
    "# ap.add_argument(\"--max_dist\", type=int, default=125)\n",
    "# ap.add_argument(\"--n_random\", type=int, default=20)\n",
    "# config = ap.parse_args()\n",
    "min_length = 6\n",
    "max_dist = 150\n",
    "n_random = 20\n",
    "\n",
    "\n",
    "mf_grc_db = compress_pickle.load('/n/groups/htem/Segmentation/shared-nondev/cb2_segmentation/analysis_mf_grc/gen_db/mf_grc/gen_201229_setup01_syndb_threshold_20_coalesced.gz')\n",
    "\n",
    "# (mpd_pfs_data, mpd_random) = compress_pickle.load('/n/groups/htem/Segmentation/shared-nondev/cb2_segmentation/analysis_mf_grc/pfs_pc_analysis/pfs_pattern_similarity_210101_random_test_max_dist_125_min_length_4_db.gz')\n",
    "(mpd_pfs_data, mpd_random) = compress_pickle.load(f'/n/groups/htem/Segmentation/shared-nondev/cb2_segmentation/analysis_mf_grc/pfs_pc_analysis/pfs_pattern_similarity_210101_random_test_max_dist_{max_dist}_min_length_{min_length}_db.gz')\n",
    "\n",
    "from weight_database import WeightDatabase\n",
    "weightdb = WeightDatabase()\n",
    "\n",
    "weightdb.load_syn_db('/n/groups/htem/Segmentation/shared-nondev/cb2_segmentation/analysis_mf_grc/gen_db/grc_axons/gen_210111_setup01_syndb_threshold_10_coalesced_filtered_10.gz')\n",
    "weightdb.load_touch_db(\n",
    "#     '/n/groups/htem/Segmentation/shared-nondev/cb2_segmentation/analysis_mf_grc/purkinje/grc_pc_touches_201224.gz',\n",
    "    '/n/groups/htem/Segmentation/shared-nondev/cb2_segmentation/analysis_mf_grc/purkinje/grc_pc_touches_210111.gz',\n",
    "    max_dist=max_dist\n",
    "    )\n",
    "\n",
    "hist = defaultdict(list)\n",
    "\n",
    "def calc_pattern_similarity(weightdb, nids, type='Data',\n",
    "        skip_fn=None, print_pairs=False):\n",
    "    mpd = MyPlotData()\n",
    "    processed = set()\n",
    "    n = 0\n",
    "    random.seed(0)\n",
    "    # while n < n_sample:\n",
    "    #     nid0 = nids[int(random.random()*len(nids))]\n",
    "    #     nid1 = nids[int(random.random()*len(nids))]\n",
    "    for nid0 in nids:\n",
    "        for nid1 in nids:\n",
    "            if nid0 == nid1:\n",
    "                continue\n",
    "            if (nid0, nid1) in processed:\n",
    "                continue\n",
    "            if skip_fn and skip_fn(nid0, nid1):\n",
    "                continue\n",
    "            processed.add((nid0, nid1))\n",
    "            processed.add((nid1, nid0))\n",
    "            if len(weightdb.get_shared_presyns(nid0, nid1)) < min_length:\n",
    "                continue\n",
    "            score = weightdb.calc_pattern_similarity(nid0, nid1)\n",
    "            # if score >= 0.7:\n",
    "            #     print(f'{nid0} and {nid1}: {score}')\n",
    "            mpd.add_data_point(\n",
    "                score=score,\n",
    "                type=type,\n",
    "                )\n",
    "            n += 1\n",
    "            if print_pairs:\n",
    "                print((nid0, nid1, score))\n",
    "            hist[type].append(score)\n",
    "    print(f'Num samples: {n}')\n",
    "    return mpd\n",
    "\n",
    "\n",
    "presyns = list(weightdb.get_presyn_ids())\n",
    "\n",
    "shares = tools2.compute_mf_share(presyns, mf_grc_db)\n",
    "\n",
    "def skip_for_share_x(nid0, nid1, share):\n",
    "    if nid1 in shares[nid0][share]:\n",
    "        return False\n",
    "    return True\n",
    "\n",
    "def skip_for_share_0(nid0, nid1):\n",
    "    for s in shares[nid0]:\n",
    "        if nid1 in shares[nid0][s]:\n",
    "            return True\n",
    "    return False\n",
    "\n",
    "mpd_data_share0 = calc_pattern_similarity(weightdb, presyns,\n",
    "    skip_fn=skip_for_share_0,\n",
    "    type='0-share')\n",
    "\n",
    "mpd_data_share1 = calc_pattern_similarity(weightdb, presyns,\n",
    "    skip_fn=partial(skip_for_share_x, share=1),\n",
    "    type='1-share')\n",
    "\n",
    "mpd_data_share2 = calc_pattern_similarity(weightdb, presyns,\n",
    "    skip_fn=partial(skip_for_share_x, share=2),\n",
    "    type='2-share')\n",
    "\n",
    "mpd_data_share3 = calc_pattern_similarity(weightdb, presyns,\n",
    "    skip_fn=partial(skip_for_share_x, share=3),\n",
    "    type='3-share', print_pairs=True)\n",
    "\n"
   ]
  },
  {
   "cell_type": "code",
   "execution_count": 9,
   "metadata": {},
   "outputs": [
    {
     "name": "stdout",
     "output_type": "stream",
     "text": [
      "Height: 4, Aspect: 1.5\n"
     ]
    },
    {
     "data": {
      "image/png": "[encoded data removed]",
      "text/plain": [
       "<Figure size 432x288 with 1 Axes>"
      ]
     },
     "metadata": {},
     "output_type": "display_data"
    }
   ],
   "source": [
    "\n",
    "mpd_all = MyPlotData()\n",
    "mpd_all.append(mpd_pfs_data, replace=[('type', 'remote pfs')])\n",
    "mpd_all.append(mpd_data_share0)\n",
    "mpd_all.append(mpd_data_share1)\n",
    "mpd_all.append(mpd_data_share2)\n",
    "mpd_all.append(mpd_data_share3)\n",
    "# # mpd_all.append(mpd_random)\n",
    "xticklabels = ['remote', 'local\\n0-share', 'local\\n1-share', 'local\\n2-share', 'local\\n3-share']\n",
    "\n",
    "# import compress_pickle\n",
    "# compress_pickle.dump(\n",
    "#     (mpd_data,\n",
    "#         mpd_random),\n",
    "#     f'{script_n}_max_dist_{config.max_dist}_min_length_{config.min_length}_db.gz',)\n",
    "\n",
    "\n",
    "importlib.reload(my_plot); my_plot.my_catplot(\n",
    "    mpd_all,\n",
    "    y=\"score\",\n",
    "    x=\"type\",\n",
    "    # ylim=[.30, .70],\n",
    "    context='paper',\n",
    "    kind='box',\n",
    "    # add_swarm=True,\n",
    "    xticklabels=xticklabels,\n",
    "    height=4,\n",
    "    width=6,\n",
    "    y_axis_label='Similarity',\n",
    "    # x_axis_label='# of synapses per connection',\n",
    "    save_filename=f'{script_n}_max_dist_{max_dist}_min_length_{min_length}.svg',\n",
    "    show=True,\n",
    "    )\n"
   ]
  },
  {
   "cell_type": "code",
   "execution_count": 12,
   "metadata": {
    "scrolled": false
   },
   "outputs": [
    {
     "name": "stdout",
     "output_type": "stream",
     "text": [
      "Comparing share-0 to share-1\n",
      "Ttest_indResult(statistic=-3.0940239914744505, pvalue=0.0019760531106626338)\n",
      "RanksumsResult(statistic=-2.6362714272049574, pvalue=0.008382265179470496)\n",
      "MannwhitneyuResult(statistic=47304261.5, pvalue=0.0040415709011872416)\n",
      "\n",
      "Comparing share-0 to share-2\n",
      "Ttest_indResult(statistic=-0.897772816535222, pvalue=0.3693128011944923)\n",
      "RanksumsResult(statistic=-0.8017831961614522, pvalue=0.4226783805599724)\n",
      "MannwhitneyuResult(statistic=3859291.5, pvalue=0.21024374752499791)\n",
      "\n",
      "Comparing share-0 to share-3\n",
      "Ttest_indResult(statistic=-2.279987800580119, pvalue=0.022614382777118084)\n",
      "RanksumsResult(statistic=-2.278429201400275, pvalue=0.022701018226261156)\n",
      "MannwhitneyuResult(statistic=173738.0, pvalue=0.011033603288045585)\n",
      "\n",
      "Comparing share-1 to share-2\n",
      "Ttest_indResult(statistic=0.016376084129607192, pvalue=0.9869354464321536)\n",
      "RanksumsResult(statistic=-0.017651001626228482, pvalue=0.9859172695877442)\n",
      "MannwhitneyuResult(statistic=315308.0, pvalue=0.4929469593378709)\n",
      "\n",
      "Comparing share-1 to share-3\n",
      "Ttest_indResult(statistic=-2.0693547658511924, pvalue=0.03860457536436911)\n",
      "RanksumsResult(statistic=-2.0870588399797585, pvalue=0.03688281608381095)\n",
      "MannwhitneyuResult(statistic=14344.5, pvalue=0.018084955418866875)\n",
      "\n",
      "Comparing share-2 to share-3\n",
      "Ttest_indResult(statistic=-1.9772768689953413, pvalue=0.04915472646170776)\n",
      "RanksumsResult(statistic=-2.010772099945216, pvalue=0.044349534378368645)\n",
      "MannwhitneyuResult(statistic=1174.5, pvalue=0.021850068248562646)\n",
      "\n"
     ]
    }
   ],
   "source": [
    "hist = defaultdict(list)\n",
    "\n",
    "for i, mpd_data_i in enumerate([mpd_data_share0, mpd_data_share1, mpd_data_share2, mpd_data_share3]):\n",
    "    for e in mpd_data_i.data:\n",
    "        hist[i].append(e['score'])\n",
    "\n",
    "import scipy\n",
    "fout_name = f'{script_n}_max_dist_{max_dist}_min_length_{min_length}_n_{n_random}'\n",
    "with open(f'{fout_name}_results', 'w') as fout:\n",
    "    for foutt in [fout, sys.stdout]:\n",
    "        for i in sorted(hist.keys()):\n",
    "            for j in sorted(hist.keys()):\n",
    "                if i >= j:\n",
    "                    continue\n",
    "                print(f'Comparing share-{i} to share-{j}', file=foutt)\n",
    "                print(scipy.stats.ttest_ind(hist[i], hist[j]), file=foutt)\n",
    "                print(scipy.stats.ranksums(hist[i], hist[j]), file=foutt)\n",
    "                print(scipy.stats.mannwhitneyu(hist[i], hist[j], alternative='less'), file=foutt)\n",
    "                print(file=foutt)\n",
    "                # print(scipy.stats.ks_2samp(hist[i], hist[j]), file=foutt)\n",
    "    "
   ]
  },
  {
   "cell_type": "code",
   "execution_count": 11,
   "metadata": {},
   "outputs": [
    {
     "name": "stdout",
     "output_type": "stream",
     "text": [
      "Comparing share-0 to share-1\n",
      "0.0024937655860349127\n",
      "Comparing share-0 to share-2\n",
      "0.3690773067331671\n",
      "Comparing share-0 to share-3\n",
      "0.0199501246882793\n",
      "Comparing share-1 to share-2\n",
      "0.9925187032418953\n",
      "Comparing share-1 to share-3\n",
      "0.03740648379052369\n",
      "Comparing share-2 to share-3\n",
      "0.03740648379052369\n"
     ]
    }
   ],
   "source": [
    "from mlxtend.evaluate import permutation_test\n",
    "\n",
    "hist = defaultdict(list)\n",
    "\n",
    "for i, mpd_data_i in enumerate([mpd_data_share0, mpd_data_share1, mpd_data_share2, mpd_data_share3]):\n",
    "    for e in mpd_data_i.data:\n",
    "        hist[i].append(e['score'])\n",
    "\n",
    "import scipy\n",
    "fout_name = f'{script_n}_max_dist_{max_dist}_min_length_{min_length}_n_{n_random}'\n",
    "with open(f'{fout_name}_results', 'w') as fout:\n",
    "    for foutt in [fout, sys.stdout]:\n",
    "        for i in sorted(hist.keys()):\n",
    "            for j in sorted(hist.keys()):\n",
    "                if i >= j:\n",
    "                    continue\n",
    "                print(f'Comparing share-{i} to share-{j}', file=foutt)\n",
    "                print(permutation_test(hist[i], hist[j],\n",
    "                           method='approximate',\n",
    "                           num_rounds=400,\n",
    "                           seed=0)\n",
    "                     , file=foutt)\n",
    "                # print(scipy.stats.ks_2samp(hist[i], hist[j]), file=foutt)\n",
    "    "
   ]
  },
  {
   "cell_type": "code",
   "execution_count": 7,
   "metadata": {},
   "outputs": [
    {
     "data": {
      "text/plain": [
       "F_onewayResult(statistic=5.129593251634804, pvalue=0.0015148937335596351)"
      ]
     },
     "execution_count": 7,
     "metadata": {},
     "output_type": "execute_result"
    }
   ],
   "source": [
    "import scipy.stats\n",
    "scipy.stats.f_oneway(hist[0], hist[1], hist[2], hist[3])"
   ]
  },
  {
   "cell_type": "code",
   "execution_count": 12,
   "metadata": {},
   "outputs": [
    {
     "data": {
      "text/plain": [
       "KruskalResult(statistic=12.746538861642122, pvalue=0.005218058454621554)"
      ]
     },
     "execution_count": 12,
     "metadata": {},
     "output_type": "execute_result"
    }
   ],
   "source": [
    "import scipy.stats\n",
    "scipy.stats.kruskal(hist[0], hist[1], hist[2], hist[3])"
   ]
  },
  {
   "cell_type": "code",
   "execution_count": 2,
   "metadata": {},
   "outputs": [
    {
     "name": "stdout",
     "output_type": "stream",
     "text": [
      "Comparing pfs to share-0-share\n",
      "Ttest_indResult(statistic=-34.80972599058266, pvalue=5.231312126159796e-262)\n",
      "RanksumsResult(statistic=-33.86641997938603, pvalue=2.0804244165439676e-251)\n",
      "MannwhitneyuResult(statistic=136537941.0, pvalue=3.4290058285256174e-254)\n",
      "\n",
      "Comparing pfs to share-1-share\n",
      "Ttest_indResult(statistic=-20.943596338753135, pvalue=8.656547078835458e-96)\n",
      "RanksumsResult(statistic=-20.295105824881396, pvalue=1.420485708096993e-91)\n",
      "MannwhitneyuResult(statistic=10407748.5, pvalue=6.775804142923604e-93)\n",
      "\n",
      "Comparing pfs to share-2-share\n",
      "Ttest_indResult(statistic=-6.615942352496679, pvalue=3.876652601871603e-11)\n",
      "RanksumsResult(statistic=-6.4780931087439075, pvalue=9.28890309333493e-11)\n",
      "MannwhitneyuResult(statistic=850052.5, pvalue=3.51747448001298e-11)\n",
      "\n",
      "Comparing pfs to share-3-share\n",
      "Ttest_indResult(statistic=-3.7063194634735983, pvalue=0.00021142681271132846)\n",
      "RanksumsResult(statistic=-3.4692578943428325, pvalue=0.0005218982135184107)\n",
      "MannwhitneyuResult(statistic=36181.5, pvalue=0.0002398154485922478)\n",
      "\n",
      "Comparing pfs to all_local\n",
      "Ttest_indResult(statistic=-35.60378319517564, pvalue=4.5485996929031186e-274)\n",
      "RanksumsResult(statistic=-34.546027555270626, pvalue=1.635223108540645e-261)\n",
      "MannwhitneyuResult(statistic=147831923.5, pvalue=2.3637125144099616e-264)\n",
      "\n"
     ]
    }
   ],
   "source": [
    "\n",
    "hist_pfs = []\n",
    "\n",
    "for e in mpd_pfs_data.data:\n",
    "    hist_pfs.append(float(e['score']))\n",
    "\n",
    "all_local = []\n",
    "for e in hist:\n",
    "    all_local.extend(hist[e])\n",
    "\n",
    "import scipy\n",
    "fout_name = f'{script_n}_max_dist_{max_dist}_min_length_{min_length}_n_{n_random}'\n",
    "with open(f'{fout_name}_results', 'a') as fout:\n",
    "    for foutt in [fout, sys.stdout]:\n",
    "        for i in sorted(hist.keys()):\n",
    "                print(f'Comparing pfs to share-{i}', file=foutt)\n",
    "                print(scipy.stats.ttest_ind(hist_pfs, hist[i]), file=foutt)\n",
    "                print(scipy.stats.ranksums(hist_pfs, hist[i]), file=foutt)\n",
    "                print(scipy.stats.mannwhitneyu(hist_pfs, hist[i], alternative='less'), file=foutt)\n",
    "                print(file=foutt)\n",
    "                # print(scipy.stats.ks_2samp(hist_pfs, hist[i]), file=foutt)\n",
    "                \n",
    "        print(f'Comparing pfs to all_local', file=foutt)\n",
    "        print(scipy.stats.ttest_ind(hist_pfs, all_local), file=foutt)\n",
    "        print(scipy.stats.ranksums(hist_pfs, all_local), file=foutt)\n",
    "        print(scipy.stats.mannwhitneyu(hist_pfs, all_local, alternative='less'), file=foutt)\n",
    "        print(file=foutt)\n",
    "    "
   ]
  },
  {
   "cell_type": "code",
   "execution_count": 10,
   "metadata": {},
   "outputs": [
    {
     "data": {
      "text/plain": [
       "F_onewayResult(statistic=322.0600378513097, pvalue=5.505344837358569e-274)"
      ]
     },
     "execution_count": 10,
     "metadata": {},
     "output_type": "execute_result"
    }
   ],
   "source": [
    "import scipy.stats\n",
    "scipy.stats.f_oneway(hist_pfs, hist[0], hist[1], hist[2], hist[3])"
   ]
  },
  {
   "cell_type": "code",
   "execution_count": 18,
   "metadata": {},
   "outputs": [
    {
     "data": {
      "text/plain": [
       "KruskalResult(statistic=1217.5365731361107, pvalue=2.5145323031657231e-262)"
      ]
     },
     "execution_count": 18,
     "metadata": {},
     "output_type": "execute_result"
    }
   ],
   "source": [
    "import scipy.stats\n",
    "scipy.stats.kruskal(hist_pfs, hist[0], hist[1], hist[2], hist[3])"
   ]
  },
  {
   "cell_type": "code",
   "execution_count": 5,
   "metadata": {},
   "outputs": [
    {
     "data": {
      "text/plain": [
       "F_onewayResult(statistic=5.129593251634801, pvalue=0.0015148937335596351)"
      ]
     },
     "execution_count": 5,
     "metadata": {},
     "output_type": "execute_result"
    }
   ],
   "source": [
    "import scipy.stats\n",
    "scipy.stats.f_oneway(hist[0], hist[1], hist[2], hist[3])"
   ]
  },
  {
   "cell_type": "code",
   "execution_count": 6,
   "metadata": {},
   "outputs": [
    {
     "data": {
      "text/plain": [
       "KruskalResult(statistic=12.746538861642122, pvalue=0.005218058454621554)"
      ]
     },
     "execution_count": 6,
     "metadata": {},
     "output_type": "execute_result"
    }
   ],
   "source": [
    "import scipy.stats\n",
    "scipy.stats.kruskal(hist[0], hist[1], hist[2], hist[3])"
   ]
  },
  {
   "cell_type": "code",
   "execution_count": 16,
   "metadata": {},
   "outputs": [
    {
     "data": {
      "text/plain": [
       "F_onewayResult(statistic=5.13201514523639, pvalue=0.0059087334512402685)"
      ]
     },
     "execution_count": 16,
     "metadata": {},
     "output_type": "execute_result"
    }
   ],
   "source": [
    "import scipy.stats\n",
    "scipy.stats.f_oneway(hist[0], hist[1], hist[2])"
   ]
  },
  {
   "cell_type": "code",
   "execution_count": 14,
   "metadata": {},
   "outputs": [
    {
     "data": {
      "text/plain": [
       "KruskalResult(statistic=4.388125454292409, pvalue=0.11146298379009104)"
      ]
     },
     "execution_count": 14,
     "metadata": {},
     "output_type": "execute_result"
    }
   ],
   "source": [
    "import scipy.stats\n",
    "scipy.stats.kruskal(hist[1], hist[2], hist[3])"
   ]
  },
  {
   "cell_type": "code",
   "execution_count": 33,
   "metadata": {},
   "outputs": [
    {
     "data": {
      "text/html": [
       "<div>\n",
       "<style scoped>\n",
       "    .dataframe tbody tr th:only-of-type {\n",
       "        vertical-align: middle;\n",
       "    }\n",
       "\n",
       "    .dataframe tbody tr th {\n",
       "        vertical-align: top;\n",
       "    }\n",
       "\n",
       "    .dataframe thead th {\n",
       "        text-align: right;\n",
       "    }\n",
       "</style>\n",
       "<table border=\"1\" class=\"dataframe\">\n",
       "  <thead>\n",
       "    <tr style=\"text-align: right;\">\n",
       "      <th></th>\n",
       "      <th>0</th>\n",
       "      <th>1</th>\n",
       "      <th>2</th>\n",
       "      <th>3</th>\n",
       "    </tr>\n",
       "  </thead>\n",
       "  <tbody>\n",
       "    <tr>\n",
       "      <th>0</th>\n",
       "      <td>1.000000</td>\n",
       "      <td>0.048473</td>\n",
       "      <td>1.000000</td>\n",
       "      <td>0.131980</td>\n",
       "    </tr>\n",
       "    <tr>\n",
       "      <th>1</th>\n",
       "      <td>0.048473</td>\n",
       "      <td>1.000000</td>\n",
       "      <td>1.000000</td>\n",
       "      <td>0.223406</td>\n",
       "    </tr>\n",
       "    <tr>\n",
       "      <th>2</th>\n",
       "      <td>1.000000</td>\n",
       "      <td>1.000000</td>\n",
       "      <td>1.000000</td>\n",
       "      <td>0.261767</td>\n",
       "    </tr>\n",
       "    <tr>\n",
       "      <th>3</th>\n",
       "      <td>0.131980</td>\n",
       "      <td>0.223406</td>\n",
       "      <td>0.261767</td>\n",
       "      <td>1.000000</td>\n",
       "    </tr>\n",
       "  </tbody>\n",
       "</table>\n",
       "</div>"
      ],
      "text/plain": [
       "          0         1         2         3\n",
       "0  1.000000  0.048473  1.000000  0.131980\n",
       "1  0.048473  1.000000  1.000000  0.223406\n",
       "2  1.000000  1.000000  1.000000  0.261767\n",
       "3  0.131980  0.223406  0.261767  1.000000"
      ]
     },
     "execution_count": 33,
     "metadata": {},
     "output_type": "execute_result"
    }
   ],
   "source": [
    "\n",
    "mpd = MyPlotData()\n",
    "for share in [0, 1, 2, 3]:\n",
    "    for val in hist[share]:\n",
    "        mpd.add_data_point(\n",
    "            share=share,\n",
    "            val=val, \n",
    "        )\n",
    "\n",
    "import scikit_posthocs as sp\n",
    "# sp.posthoc_dunn(mpd.to_dataframe(), val_col='val', group_col='share', p_adjust='bonferroni')\n",
    "sp.posthoc_conover(mpd.to_dataframe(), val_col='val', group_col='share', p_adjust='bonferroni')\n"
   ]
  },
  {
   "cell_type": "code",
   "execution_count": 30,
   "metadata": {},
   "outputs": [
    {
     "data": {
      "text/html": [
       "<div>\n",
       "<style scoped>\n",
       "    .dataframe tbody tr th:only-of-type {\n",
       "        vertical-align: middle;\n",
       "    }\n",
       "\n",
       "    .dataframe tbody tr th {\n",
       "        vertical-align: top;\n",
       "    }\n",
       "\n",
       "    .dataframe thead th {\n",
       "        text-align: right;\n",
       "    }\n",
       "</style>\n",
       "<table border=\"1\" class=\"dataframe\">\n",
       "  <thead>\n",
       "    <tr style=\"text-align: right;\">\n",
       "      <th></th>\n",
       "      <th>0</th>\n",
       "      <th>1</th>\n",
       "      <th>3</th>\n",
       "    </tr>\n",
       "  </thead>\n",
       "  <tbody>\n",
       "    <tr>\n",
       "      <th>0</th>\n",
       "      <td>1.000000</td>\n",
       "      <td>0.024255</td>\n",
       "      <td>0.066031</td>\n",
       "    </tr>\n",
       "    <tr>\n",
       "      <th>1</th>\n",
       "      <td>0.024255</td>\n",
       "      <td>1.000000</td>\n",
       "      <td>0.111764</td>\n",
       "    </tr>\n",
       "    <tr>\n",
       "      <th>3</th>\n",
       "      <td>0.066031</td>\n",
       "      <td>0.111764</td>\n",
       "      <td>1.000000</td>\n",
       "    </tr>\n",
       "  </tbody>\n",
       "</table>\n",
       "</div>"
      ],
      "text/plain": [
       "          0         1         3\n",
       "0  1.000000  0.024255  0.066031\n",
       "1  0.024255  1.000000  0.111764\n",
       "3  0.066031  0.111764  1.000000"
      ]
     },
     "execution_count": 30,
     "metadata": {},
     "output_type": "execute_result"
    }
   ],
   "source": [
    "\n",
    "mpd = MyPlotData()\n",
    "for share in [0, 1, 3]:\n",
    "    for val in hist[share]:\n",
    "        mpd.add_data_point(\n",
    "            share=share,\n",
    "            val=val,\n",
    "        )\n",
    "\n",
    "import scikit_posthocs as sp\n",
    "sp.posthoc_dunn(mpd.to_dataframe(), val_col='val', group_col='share', p_adjust='bonferroni')\n"
   ]
  },
  {
   "cell_type": "code",
   "execution_count": 18,
   "metadata": {},
   "outputs": [
    {
     "data": {
      "text/html": [
       "<div>\n",
       "<style scoped>\n",
       "    .dataframe tbody tr th:only-of-type {\n",
       "        vertical-align: middle;\n",
       "    }\n",
       "\n",
       "    .dataframe tbody tr th {\n",
       "        vertical-align: top;\n",
       "    }\n",
       "\n",
       "    .dataframe thead th {\n",
       "        text-align: right;\n",
       "    }\n",
       "</style>\n",
       "<table border=\"1\" class=\"dataframe\">\n",
       "  <thead>\n",
       "    <tr style=\"text-align: right;\">\n",
       "      <th></th>\n",
       "      <th>0</th>\n",
       "      <th>1</th>\n",
       "      <th>2</th>\n",
       "      <th>3</th>\n",
       "    </tr>\n",
       "  </thead>\n",
       "  <tbody>\n",
       "    <tr>\n",
       "      <th>0</th>\n",
       "      <td>1.000000</td>\n",
       "      <td>0.048499</td>\n",
       "      <td>1.000000</td>\n",
       "      <td>0.132403</td>\n",
       "    </tr>\n",
       "    <tr>\n",
       "      <th>1</th>\n",
       "      <td>0.048499</td>\n",
       "      <td>1.000000</td>\n",
       "      <td>1.000000</td>\n",
       "      <td>0.217019</td>\n",
       "    </tr>\n",
       "    <tr>\n",
       "      <th>2</th>\n",
       "      <td>1.000000</td>\n",
       "      <td>1.000000</td>\n",
       "      <td>1.000000</td>\n",
       "      <td>0.262201</td>\n",
       "    </tr>\n",
       "    <tr>\n",
       "      <th>3</th>\n",
       "      <td>0.132403</td>\n",
       "      <td>0.217019</td>\n",
       "      <td>0.262201</td>\n",
       "      <td>1.000000</td>\n",
       "    </tr>\n",
       "  </tbody>\n",
       "</table>\n",
       "</div>"
      ],
      "text/plain": [
       "          0         1         2         3\n",
       "0  1.000000  0.048499  1.000000  0.132403\n",
       "1  0.048499  1.000000  1.000000  0.217019\n",
       "2  1.000000  1.000000  1.000000  0.262201\n",
       "3  0.132403  0.217019  0.262201  1.000000"
      ]
     },
     "execution_count": 18,
     "metadata": {},
     "output_type": "execute_result"
    }
   ],
   "source": [
    "\n",
    "sp.posthoc_mannwhitney(mpd.to_dataframe(), val_col='val', group_col='share', p_adjust='bonferroni')\n"
   ]
  },
  {
   "cell_type": "code",
   "execution_count": 27,
   "metadata": {},
   "outputs": [
    {
     "data": {
      "text/html": [
       "<div>\n",
       "<style scoped>\n",
       "    .dataframe tbody tr th:only-of-type {\n",
       "        vertical-align: middle;\n",
       "    }\n",
       "\n",
       "    .dataframe tbody tr th {\n",
       "        vertical-align: top;\n",
       "    }\n",
       "\n",
       "    .dataframe thead th {\n",
       "        text-align: right;\n",
       "    }\n",
       "</style>\n",
       "<table border=\"1\" class=\"dataframe\">\n",
       "  <thead>\n",
       "    <tr style=\"text-align: right;\">\n",
       "      <th></th>\n",
       "      <th>0</th>\n",
       "      <th>1</th>\n",
       "      <th>2</th>\n",
       "      <th>3</th>\n",
       "    </tr>\n",
       "  </thead>\n",
       "  <tbody>\n",
       "    <tr>\n",
       "      <th>0</th>\n",
       "      <td>1.000000</td>\n",
       "      <td>0.024249</td>\n",
       "      <td>1.0000</td>\n",
       "      <td>0.066202</td>\n",
       "    </tr>\n",
       "    <tr>\n",
       "      <th>1</th>\n",
       "      <td>0.024249</td>\n",
       "      <td>1.000000</td>\n",
       "      <td>1.0000</td>\n",
       "      <td>0.108510</td>\n",
       "    </tr>\n",
       "    <tr>\n",
       "      <th>2</th>\n",
       "      <td>1.000000</td>\n",
       "      <td>1.000000</td>\n",
       "      <td>1.0000</td>\n",
       "      <td>0.131100</td>\n",
       "    </tr>\n",
       "    <tr>\n",
       "      <th>3</th>\n",
       "      <td>0.066202</td>\n",
       "      <td>0.108510</td>\n",
       "      <td>0.1311</td>\n",
       "      <td>1.000000</td>\n",
       "    </tr>\n",
       "  </tbody>\n",
       "</table>\n",
       "</div>"
      ],
      "text/plain": [
       "          0         1       2         3\n",
       "0  1.000000  0.024249  1.0000  0.066202\n",
       "1  0.024249  1.000000  1.0000  0.108510\n",
       "2  1.000000  1.000000  1.0000  0.131100\n",
       "3  0.066202  0.108510  0.1311  1.000000"
      ]
     },
     "execution_count": 27,
     "metadata": {},
     "output_type": "execute_result"
    }
   ],
   "source": [
    "\n",
    "sp.posthoc_mannwhitney(mpd.to_dataframe(), val_col='val', group_col='share', alternative='less', p_adjust='bonferroni')\n"
   ]
  }
 ],
 "metadata": {
  "kernelspec": {
   "display_name": "Python 3",
   "language": "python",
   "name": "python3"
  },
  "language_info": {
   "codemirror_mode": {
    "name": "ipython",
    "version": 3
   },
   "file_extension": ".py",
   "mimetype": "text/x-python",
   "name": "python",
   "nbconvert_exporter": "python",
   "pygments_lexer": "ipython3",
   "version": "3.8.5"
  }
 },
 "nbformat": 4,
 "nbformat_minor": 4
}
