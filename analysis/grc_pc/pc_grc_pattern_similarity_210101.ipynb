{
 "cells": [
  {
   "cell_type": "code",
   "execution_count": 1,
   "metadata": {},
   "outputs": [
    {
     "name": "stdout",
     "output_type": "stream",
     "text": [
      "n=153 pairs\n",
      "n=153 pairs\n"
     ]
    }
   ],
   "source": [
    "import collections\n",
    "from collections import defaultdict\n",
    "import sys\n",
    "import json\n",
    "import random\n",
    "from jsmin import jsmin\n",
    "from io import StringIO\n",
    "import numpy as np\n",
    "import copy\n",
    "import importlib\n",
    "from functools import partial\n",
    "import math\n",
    "import os\n",
    "import argparse\n",
    "\n",
    "# script_n = os.path.basename(__file__).split('.')[0]\n",
    "script_n = 'pc_grc_pattern_similarity_210101'\n",
    "\n",
    "sys.path.insert(0, '/n/groups/htem/Segmentation/shared-nondev/cb2_segmentation/analysis_mf_grc')\n",
    "import my_plot\n",
    "importlib.reload(my_plot)\n",
    "from my_plot import MyPlotData\n",
    "\n",
    "# ap = argparse.ArgumentParser()\n",
    "# ap.add_argument(\"--min_length\", type=int, default=20)\n",
    "# ap.add_argument(\"--max_dist\", type=int, default=100)\n",
    "# config = ap.parse_args()\n",
    "min_length = 30\n",
    "max_dist = 150\n",
    "\n",
    "from weight_database import WeightDatabase\n",
    "weightdb = WeightDatabase()\n",
    "\n",
    "# weightdb.load_syn_db('/n/groups/htem/Segmentation/shared-nondev/cb2_segmentation/analysis_mf_grc/gen_db/pfs/gen_210101_setup01_syndb_threshold_10_coalesced_filtered_10.gz')\n",
    "# weightdb.load_touch_db(\n",
    "#     '/n/groups/htem/Segmentation/shared-nondev/cb2_segmentation/analysis_mf_grc/purkinje/db_pf_contacts_201224.gz',\n",
    "#     max_dist=max_dist\n",
    "#     )\n",
    "weightdb.load_syn_db('/n/groups/htem/Segmentation/shared-nondev/cb2_segmentation/analysis_mf_grc/gen_db/grc_axons/gen_201224_setup01_syndb_threshold_10_coalesced_filtered_10.gz')\n",
    "weightdb.load_touch_db(\n",
    "    '/n/groups/htem/Segmentation/shared-nondev/cb2_segmentation/analysis_mf_grc/purkinje/grc_pc_touches_201224.gz',\n",
    "    max_dist=max_dist\n",
    "    )\n",
    "\n",
    "postsyns = weightdb.get_postsyn_ids()\n",
    "data_grc = []\n",
    "\n",
    "def calc_pattern_similarity(weightdb, type='Data'):\n",
    "    mpd = MyPlotData()\n",
    "    processed = set()\n",
    "    n = 0\n",
    "    for pc0 in postsyns:\n",
    "        for pc1 in postsyns:\n",
    "            if pc0 == pc1:\n",
    "                continue\n",
    "            if (pc0, pc1) in processed:\n",
    "                continue\n",
    "            processed.add((pc0, pc1))\n",
    "            processed.add((pc1, pc0))\n",
    "            if len(weightdb.get_shared_presyns(pc0, pc1)) < min_length:\n",
    "                continue\n",
    "            score = weightdb.calc_pattern_similarity(pc0, pc1)\n",
    "            # if score >= 0.7:\n",
    "            #     print(f'{pc0} and {pc1}: {score}')\n",
    "            data_grc.append(score)\n",
    "            mpd.add_data_point(\n",
    "                score=score,\n",
    "                type=type,\n",
    "                )\n",
    "            n += 1\n",
    "    print(f'n={n} pairs')\n",
    "    return mpd\n",
    "\n",
    "mpd_data = calc_pattern_similarity(weightdb)\n",
    "\n",
    "weightdb_random = weightdb.randomize_connectivity(type='postsyn')\n",
    "mpd_random = calc_pattern_similarity(weightdb_random, type='Random')\n",
    "\n",
    "# print(f'Num samples: {n}')\n",
    "\n",
    "# import compress_pickle\n",
    "# compress_pickle.dump(\n",
    "#     (mpd),\n",
    "#     f'{script_n}_max_dist_{max_dist}_min_length_{min_length}_db.gz',)"
   ]
  },
  {
   "cell_type": "code",
   "execution_count": 10,
   "metadata": {},
   "outputs": [
    {
     "name": "stdout",
     "output_type": "stream",
     "text": [
      "Comparing grc to pfs\n",
      "RanksumsResult(statistic=12.092030444046019, pvalue=1.1637458947554905e-33)\n",
      "Comparing grc to random\n",
      "RanksumsResult(statistic=15.929059331172333, pvalue=3.983039669605771e-57)\n",
      "Comparing pfs to random\n",
      "RanksumsResult(statistic=3.2271227449788196, pvalue=0.001250418078207376)\n",
      "KruskalResult(statistic=257.4407103655594, pvalue=1.2515840948611906e-56)\n"
     ]
    },
    {
     "data": {
      "text/html": [
       "<div>\n",
       "<style scoped>\n",
       "    .dataframe tbody tr th:only-of-type {\n",
       "        vertical-align: middle;\n",
       "    }\n",
       "\n",
       "    .dataframe tbody tr th {\n",
       "        vertical-align: top;\n",
       "    }\n",
       "\n",
       "    .dataframe thead th {\n",
       "        text-align: right;\n",
       "    }\n",
       "</style>\n",
       "<table border=\"1\" class=\"dataframe\">\n",
       "  <thead>\n",
       "    <tr style=\"text-align: right;\">\n",
       "      <th></th>\n",
       "      <th>1</th>\n",
       "      <th>2</th>\n",
       "      <th>3</th>\n",
       "    </tr>\n",
       "  </thead>\n",
       "  <tbody>\n",
       "    <tr>\n",
       "      <th>1</th>\n",
       "      <td>1.000000e+00</td>\n",
       "      <td>4.338782e-03</td>\n",
       "      <td>4.228053e-57</td>\n",
       "    </tr>\n",
       "    <tr>\n",
       "      <th>2</th>\n",
       "      <td>4.338782e-03</td>\n",
       "      <td>1.000000e+00</td>\n",
       "      <td>9.132750e-32</td>\n",
       "    </tr>\n",
       "    <tr>\n",
       "      <th>3</th>\n",
       "      <td>4.228053e-57</td>\n",
       "      <td>9.132750e-32</td>\n",
       "      <td>1.000000e+00</td>\n",
       "    </tr>\n",
       "  </tbody>\n",
       "</table>\n",
       "</div>"
      ],
      "text/plain": [
       "              1             2             3\n",
       "1  1.000000e+00  4.338782e-03  4.228053e-57\n",
       "2  4.338782e-03  1.000000e+00  9.132750e-32\n",
       "3  4.228053e-57  9.132750e-32  1.000000e+00"
      ]
     },
     "execution_count": 10,
     "metadata": {},
     "output_type": "execute_result"
    }
   ],
   "source": [
    "gzfile = '/n/groups/htem/Segmentation/shared-nondev/cb2_segmentation/analysis_mf_grc/pfs_pc_analysis/pc_pfs_pattern_similarity_210107_JLR_max_dist_150_min_length_30_n5_data.gz'\n",
    "\n",
    "import compress_pickle\n",
    "data_pfs, data_random = compress_pickle.load(gzfile)\n",
    "\n",
    "import scipy\n",
    "fout_name = f'{script_n}_max_dist_{max_dist}_min_length_{min_length}'\n",
    "with open(f'{script_n}_results', 'w') as fout:\n",
    "    for foutt in [fout, sys.stdout]:\n",
    "        print('Comparing grc to pfs', file=foutt)\n",
    "#         print(scipy.stats.ttest_ind(data_grc, data_pfs), file=foutt)\n",
    "        print(scipy.stats.ranksums(data_grc, data_pfs), file=foutt)\n",
    "#         print(scipy.stats.mannwhitneyu(data_grc, data_pfs, alternative='greater'), file=foutt)\n",
    "#         print(scipy.stats.ks_2samp(data_grc, data_pfs), file=foutt)\n",
    "        print('Comparing grc to random', file=foutt)\n",
    "#         print(scipy.stats.ttest_ind(data_grc, data_random), file=foutt)\n",
    "        print(scipy.stats.ranksums(data_grc, data_random), file=foutt)\n",
    "#         print(scipy.stats.mannwhitneyu(data_grc, data_random, alternative='greater'), file=foutt)\n",
    "#         print(scipy.stats.ks_2samp(data_grc, data_random), file=foutt)\n",
    "        print('Comparing pfs to random', file=foutt)\n",
    "#         print(scipy.stats.ttest_ind(data_pfs, data_random), file=foutt)\n",
    "        print(scipy.stats.ranksums(data_pfs, data_random), file=foutt)\n",
    "#         print(scipy.stats.mannwhitneyu(data_pfs, data_random, alternative='greater'), file=foutt)\n",
    "#         print(scipy.stats.ks_2samp(data_pfs, data_random), file=foutt)\n",
    "\n",
    "print(scipy.stats.kruskal(data_random, data_grc, data_pfs))\n",
    "import scikit_posthocs\n",
    "scikit_posthocs.posthoc_dunn([data_random, data_pfs, data_grc], p_adjust='bonferroni')"
   ]
  },
  {
   "cell_type": "code",
   "execution_count": 12,
   "metadata": {},
   "outputs": [
    {
     "name": "stdout",
     "output_type": "stream",
     "text": [
      "Height: 4, Aspect: 0.75\n"
     ]
    },
    {
     "data": {
      "image/png": "[encoded data removed]",
      "text/plain": [
       "<Figure size 216x288 with 1 Axes>"
      ]
     },
     "metadata": {},
     "output_type": "display_data"
    },
    {
     "data": {
      "text/plain": [
       "<seaborn.axisgrid.FacetGrid at 0x7f06032423d0>"
      ]
     },
     "execution_count": 12,
     "metadata": {},
     "output_type": "execute_result"
    }
   ],
   "source": [
    "mpd_all = MyPlotData()\n",
    "mpd_all.append(mpd_data)\n",
    "mpd_all.append(mpd_random)\n",
    "\n",
    "# importlib.reload(my_plot); my_plot.my_catplot(\n",
    "#     mpd_all,\n",
    "#     x=\"type\",\n",
    "#     y=\"score\",\n",
    "#     # hue=\"type\",\n",
    "#     # hue_order=['All', 'Per PC', 'Per pf'],\n",
    "#     # hue_order=['All', 'Per PC'],\n",
    "# #     ylim=[.30, .70],\n",
    "#     context='paper',\n",
    "#     kind='box',\n",
    "#     # add_swarm=True,\n",
    "#     # font_scale=1.5,\n",
    "#     height=4,\n",
    "#     width=4,\n",
    "#     y_axis_label='Similarity',\n",
    "#     # x_axis_label='# of synapses per connection',\n",
    "#     save_filename=f'{script_n}_max_dist_{max_dist}_min_length_{min_length}.svg',\n",
    "#     show=True,\n",
    "#     )\n",
    "\n",
    "\n",
    "importlib.reload(my_plot); my_plot.my_catplot(\n",
    "    mpd_all,\n",
    "#     x=\"type\",\n",
    "    y=\"score\",\n",
    "    ylim=[0, 1],\n",
    "    context='paper',\n",
    "    kind='box',\n",
    "    height=4,\n",
    "    width=3,\n",
    "    y_axis_label='Similarity',\n",
    "    # x_axis_label='# of synapses per connection',\n",
    "    save_filename=f'{script_n}_max_dist_{max_dist}_min_length_{min_length}.svg',\n",
    "    show=True,\n",
    "    )\n"
   ]
  },
  {
   "cell_type": "code",
   "execution_count": 9,
   "metadata": {},
   "outputs": [
    {
     "name": "stdout",
     "output_type": "stream",
     "text": [
      "Height: 4, Aspect: 1.33\n"
     ]
    },
    {
     "data": {
      "image/png": "[encoded data removed]",
      "text/plain": [
       "<Figure size 485.81x288 with 1 Axes>"
      ]
     },
     "metadata": {},
     "output_type": "display_data"
    }
   ],
   "source": [
    "# \n",
    "importlib.reload(my_plot); my_plot.my_displot(\n",
    "    mpd_all,\n",
    "    # x=\"num_syns_per_connection\",\n",
    "    x=\"score\",\n",
    "    hue=\"type\",\n",
    "    # hue_order=['All', 'Per PC', 'Per pf'],\n",
    "    # hue_order=['All', 'Per PC'],\n",
    "#     ylim=[.30, .70],\n",
    "#     xlim=[-.4, .4],\n",
    "    context='paper',\n",
    "    kind='kde',\n",
    "    # add_swarm=True,\n",
    "    # font_scale=1.5,\n",
    "    height=4,\n",
    "#     bw_adjust=.75,\n",
    "#     binwidth=.02,\n",
    "    # width=2.5,\n",
    "    # y_axis_label='Similarity (%)',\n",
    "    x_axis_label='Similarity',\n",
    "    save_filename=f'{script_n}_max_dist_{max_dist}_min_length_{min_length}_kde.svg',\n",
    "    show=True,\n",
    "    )"
   ]
  },
  {
   "cell_type": "code",
   "execution_count": 11,
   "metadata": {},
   "outputs": [
    {
     "name": "stdout",
     "output_type": "stream",
     "text": [
      "n=273 pairs\n",
      "n=181 pairs\n",
      "n=153 pairs\n",
      "n=122 pairs\n",
      "n=99 pairs\n"
     ]
    }
   ],
   "source": [
    "\n",
    "for min_length in [10, 20, 30, 40, 50]:\n",
    "\n",
    "    paired_similarity = defaultdict(lambda: defaultdict(float))\n",
    "\n",
    "    def calc_pattern_similarity(weightdb, type='Data'):\n",
    "        mpd = MyPlotData()\n",
    "        processed = set()\n",
    "        n = 0\n",
    "        for pc0 in postsyns:\n",
    "            for pc1 in postsyns:\n",
    "                if (pc0, pc1) in processed:\n",
    "                    continue\n",
    "                paired_similarity[pc0][pc1] = None\n",
    "                paired_similarity[pc1][pc0] = None\n",
    "                if pc0 == pc1:\n",
    "                    paired_similarity[pc0][pc1] = 1\n",
    "                    continue\n",
    "                processed.add((pc0, pc1))\n",
    "                processed.add((pc1, pc0))\n",
    "                if len(weightdb.get_shared_presyns(pc0, pc1)) < min_length:\n",
    "                    continue\n",
    "\n",
    "                score = weightdb.calc_pattern_similarity(pc0, pc1)\n",
    "                paired_similarity[pc0][pc1] = score\n",
    "                paired_similarity[pc1][pc0] = score\n",
    "                mpd.add_data_point(\n",
    "                    score=score,\n",
    "                    type=type,\n",
    "                    )\n",
    "                n += 1\n",
    "\n",
    "        print(f'n={n} pairs')\n",
    "        return mpd\n",
    "\n",
    "    mpd_data = calc_pattern_similarity(weightdb)\n",
    "\n",
    "    import compress_pickle\n",
    "    compress_pickle.dump(\n",
    "        dict(paired_similarity),\n",
    "        f'{script_n}_max_dist_{max_dist}_min_length_{min_length}_paired_score.gz',)"
   ]
  },
  {
   "cell_type": "code",
   "execution_count": 14,
   "metadata": {},
   "outputs": [
    {
     "name": "stdout",
     "output_type": "stream",
     "text": [
      "n=153 pairs\n",
      "pc_grc_pattern_similarity_210101_max_dist_150_min_length_30_paired_score_adj_beta_20_gamma_1.2.gz\n"
     ]
    }
   ],
   "source": [
    "# same as above but adjust weight based on min_length\n",
    "\n",
    "beta = 20  # denominator used to calculate weighted coefficients for samples with higher # of common grcs; higher -> more homogenous weights\n",
    "gamma = 1.2  # how much to increase score by given weighted coefficients\n",
    "\n",
    "for min_length in [30]:\n",
    "\n",
    "    paired_similarity = defaultdict(lambda: defaultdict(float))\n",
    "\n",
    "    def calc_pattern_similarity(weightdb, type='Data'):\n",
    "        mpd = MyPlotData()\n",
    "        processed = set()\n",
    "        n = 0\n",
    "        for pc0 in postsyns:\n",
    "            for pc1 in postsyns:\n",
    "                if (pc0, pc1) in processed:\n",
    "                    continue\n",
    "                paired_similarity[pc0][pc1] = None\n",
    "                paired_similarity[pc1][pc0] = None\n",
    "                if pc0 == pc1:\n",
    "                    paired_similarity[pc0][pc1] = 1\n",
    "                    continue\n",
    "                processed.add((pc0, pc1))\n",
    "                processed.add((pc1, pc0))\n",
    "                shared_pattern_len = len(weightdb.get_shared_presyns(pc0, pc1))\n",
    "                if shared_pattern_len < min_length:\n",
    "                    continue\n",
    "\n",
    "                score = weightdb.calc_pattern_similarity(pc0, pc1)\n",
    "                # score will be between 0 and 1, we want to scale it from .5\n",
    "                score -= .5\n",
    "                factor = (shared_pattern_len - min_length)/beta # e.g., .1, .2, 3, ...\n",
    "                score = score * math.pow(gamma, factor)\n",
    "                score += .5\n",
    "                if score < 0: score = 0\n",
    "                if score > 1: score = 1\n",
    "                paired_similarity[pc0][pc1] = score\n",
    "                paired_similarity[pc1][pc0] = score\n",
    "                mpd.add_data_point(\n",
    "                    score=score,\n",
    "                    type=type,\n",
    "                    )\n",
    "                n += 1\n",
    "\n",
    "        print(f'n={n} pairs')\n",
    "        return mpd\n",
    "\n",
    "    mpd_data = calc_pattern_similarity(weightdb)\n",
    "\n",
    "    import compress_pickle\n",
    "    fname_out = f'{script_n}_max_dist_{max_dist}_min_length_{min_length}_paired_score_adj_beta_{beta}_gamma_{gamma}.gz'\n",
    "    compress_pickle.dump(\n",
    "        dict(paired_similarity),\n",
    "        fname_out)\n",
    "    print(fname_out)\n",
    "    "
   ]
  }
 ],
 "metadata": {
  "kernelspec": {
   "display_name": "Python 3",
   "language": "python",
   "name": "python3"
  },
  "language_info": {
   "codemirror_mode": {
    "name": "ipython",
    "version": 3
   },
   "file_extension": ".py",
   "mimetype": "text/x-python",
   "name": "python",
   "nbconvert_exporter": "python",
   "pygments_lexer": "ipython3",
   "version": "3.8.10"
  }
 },
 "nbformat": 4,
 "nbformat_minor": 4
}
