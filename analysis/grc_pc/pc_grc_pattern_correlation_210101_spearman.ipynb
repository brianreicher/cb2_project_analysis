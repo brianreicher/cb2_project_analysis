{
 "cells": [
  {
   "cell_type": "code",
   "execution_count": 2,
   "metadata": {},
   "outputs": [],
   "source": [
    "import collections\n",
    "from collections import defaultdict\n",
    "import sys\n",
    "import json\n",
    "import random\n",
    "from jsmin import jsmin\n",
    "from io import StringIO\n",
    "import numpy as np\n",
    "import copy\n",
    "import importlib\n",
    "from functools import partial\n",
    "import math\n",
    "import os\n",
    "import argparse\n",
    "\n",
    "# script_n = os.path.basename(__file__).split('.')[0]\n",
    "script_n = 'pc_grc_pattern_correlation_210101'\n",
    "\n",
    "sys.path.insert(0, '/n/groups/htem/Segmentation/shared-nondev/cb2_segmentation/analysis_mf_grc')\n",
    "import my_plot\n",
    "importlib.reload(my_plot)\n",
    "from my_plot import MyPlotData\n",
    "\n",
    "# ap = argparse.ArgumentParser()\n",
    "# ap.add_argument(\"--min_length\", type=int, default=20)\n",
    "# ap.add_argument(\"--max_dist\", type=int, default=100)\n",
    "# config = ap.parse_args()\n",
    "\n",
    "max_dist = 150\n",
    "\n",
    "from weight_database import WeightDatabase\n",
    "weightdb = WeightDatabase()\n",
    "\n",
    "weightdb.load_syn_db('/n/groups/htem/Segmentation/shared-nondev/cb2_segmentation/analysis_mf_grc/gen_db/grc_axons/gen_201224_setup01_syndb_threshold_10_coalesced_filtered_10.gz')\n",
    "weightdb.load_touch_db(\n",
    "    '/n/groups/htem/Segmentation/shared-nondev/cb2_segmentation/analysis_mf_grc/purkinje/grc_pc_touches_201224.gz',\n",
    "    max_dist=max_dist\n",
    "    )\n",
    "\n",
    "postsyns = weightdb.get_postsyn_ids()"
   ]
  },
  {
   "cell_type": "code",
   "execution_count": 3,
   "metadata": {},
   "outputs": [
    {
     "name": "stdout",
     "output_type": "stream",
     "text": [
      "n=153 pairs\n",
      "n=153 pairs\n"
     ]
    }
   ],
   "source": [
    "min_length = 30\n",
    "\n",
    "paired_correlation = defaultdict(lambda: defaultdict(float))\n",
    "data_grc = []\n",
    "\n",
    "def calc_pattern_correlation(weightdb, type='Data'):\n",
    "    mpd = MyPlotData()\n",
    "    processed = set()\n",
    "    n = 0\n",
    "    for pc0 in postsyns:\n",
    "        for pc1 in postsyns:\n",
    "            paired_correlation[pc0][pc1] = None\n",
    "            paired_correlation[pc1][pc0] = None\n",
    "            if pc0 == pc1:\n",
    "                continue\n",
    "            if (pc0, pc1) in processed:\n",
    "                continue\n",
    "            processed.add((pc0, pc1))\n",
    "            processed.add((pc1, pc0))\n",
    "            if len(weightdb.get_shared_presyns(pc0, pc1)) < min_length:\n",
    "                continue\n",
    "\n",
    "            score = weightdb.calc_pattern_correlation(pc0, pc1, spearman=True)\n",
    "            if math.isnan(score):\n",
    "                score = 0\n",
    "            paired_correlation[pc0][pc1] = score\n",
    "            paired_correlation[pc1][pc0] = score\n",
    "            data_grc.append(score)\n",
    "            mpd.add_data_point(\n",
    "                score=score,\n",
    "                type=type,\n",
    "                )\n",
    "            n += 1\n",
    "\n",
    "    print(f'n={n} pairs')\n",
    "    return mpd\n",
    "\n",
    "mpd_data = calc_pattern_correlation(weightdb)\n",
    "\n",
    "weightdb_random = weightdb.randomize_connectivity(type='postsyn')\n",
    "mpd_random = calc_pattern_correlation(weightdb_random, type='Random')\n"
   ]
  },
  {
   "cell_type": "code",
   "execution_count": 6,
   "metadata": {},
   "outputs": [
    {
     "name": "stdout",
     "output_type": "stream",
     "text": [
      "Comparing grc to pfs\n",
      "Ttest_indResult(statistic=-0.8806851107802506, pvalue=0.37871008451098254)\n",
      "RanksumsResult(statistic=-0.8725133315972947, pvalue=0.3829283984883166)\n",
      "MannwhitneyuResult(statistic=95975.0, pvalue=0.8085700273590612)\n",
      "KstestResult(statistic=0.09893413775766717, pvalue=0.03126656758312918)\n",
      "Comparing grc to random\n",
      "Ttest_indResult(statistic=-0.8371138745535459, pvalue=0.40258484758246493)\n",
      "RanksumsResult(statistic=-0.9543171803922925, pvalue=0.33992311411884835)\n",
      "MannwhitneyuResult(statistic=480865.0, pvalue=0.8300458112569374)\n",
      "KstestResult(statistic=0.10906787330316742, pvalue=0.0023571473478962712)\n"
     ]
    }
   ],
   "source": [
    "import compress_pickle\n",
    "data_pfs, data_random = compress_pickle.load('/n/groups/htem/Segmentation/shared-nondev/cb2_segmentation/analysis_mf_grc/pfs_pc_analysis/pc_pfs_pattern_correlation_210107_spearman_max_dist_150_min_length_30_n5_data.gz')\n",
    "\n",
    "\n",
    "import scipy\n",
    "fout_name = f'{script_n}_max_dist_{max_dist}_min_length_{min_length}'\n",
    "with open(f'{script_n}_results', 'w') as fout:\n",
    "    for foutt in [fout, sys.stdout]:\n",
    "        print('Comparing grc to pfs', file=foutt)\n",
    "        print(scipy.stats.ttest_ind(data_grc, data_pfs), file=foutt)\n",
    "        print(scipy.stats.ranksums(data_grc, data_pfs), file=foutt)\n",
    "        print(scipy.stats.mannwhitneyu(data_grc, data_pfs, alternative='greater'), file=foutt)\n",
    "        print(scipy.stats.ks_2samp(data_grc, data_pfs), file=foutt)\n",
    "        print('Comparing grc to random', file=foutt)\n",
    "        print(scipy.stats.ttest_ind(data_grc, data_random), file=foutt)\n",
    "        print(scipy.stats.ranksums(data_grc, data_random), file=foutt)\n",
    "        print(scipy.stats.mannwhitneyu(data_grc, data_random, alternative='greater'), file=foutt)\n",
    "        print(scipy.stats.ks_2samp(data_grc, data_random), file=foutt)\n",
    "\n"
   ]
  },
  {
   "cell_type": "code",
   "execution_count": 7,
   "metadata": {},
   "outputs": [
    {
     "name": "stdout",
     "output_type": "stream",
     "text": [
      "Height: 4, Aspect: 0.75\n"
     ]
    },
    {
     "data": {
      "image/png": "[encoded data removed]",
      "text/plain": [
       "<Figure size 216x288 with 1 Axes>"
      ]
     },
     "metadata": {},
     "output_type": "display_data"
    }
   ],
   "source": [
    "mpd_all = MyPlotData()\n",
    "mpd_all.append(mpd_data)\n",
    "# mpd_all.append(mpd_random)\n",
    "\n",
    "importlib.reload(my_plot); my_plot.my_catplot(\n",
    "    mpd_all,\n",
    "#     x=\"type\",\n",
    "    y=\"score\",\n",
    "    ylim=[-.7, .7],\n",
    "    context='paper',\n",
    "    kind='box',\n",
    "    height=4,\n",
    "    width=3,\n",
    "    y_axis_label='Correlation',\n",
    "    # x_axis_label='# of synapses per connection',\n",
    "    save_filename=f'{script_n}_max_dist_{max_dist}_min_length_{min_length}.svg',\n",
    "    show=True,\n",
    "    )\n"
   ]
  },
  {
   "cell_type": "code",
   "execution_count": 15,
   "metadata": {},
   "outputs": [
    {
     "name": "stdout",
     "output_type": "stream",
     "text": [
      "Height: 4, Aspect: 0.875\n"
     ]
    },
    {
     "data": {
      "image/png": "[encoded data removed]",
      "text/plain": [
       "<Figure size 252x288 with 1 Axes>"
      ]
     },
     "metadata": {},
     "output_type": "display_data"
    }
   ],
   "source": [
    "mpd_all = MyPlotData()\n",
    "\n",
    "mpd_pfs = MyPlotData()\n",
    "for val in data_pfs:\n",
    "    mpd_pfs.add_data_point(\n",
    "        score=val,\n",
    "        type='non-local\\npfs',\n",
    "        )\n",
    "\n",
    "mpd_pfs_random = MyPlotData()\n",
    "for val in data_random:\n",
    "    mpd_pfs_random.add_data_point(\n",
    "        score=val,\n",
    "        type='Shuffle',\n",
    "        )\n",
    "\n",
    "\n",
    "mpd_all.append(mpd_pfs_random)\n",
    "mpd_all.append(mpd_pfs)\n",
    "mpd_all.append(mpd_data)\n",
    "# mpd_all.append(mpd_random)\n",
    "\n",
    "importlib.reload(my_plot); my_plot.my_catplot(\n",
    "    mpd_all,\n",
    "    x=\"type\",\n",
    "    xticklabels=['shuffle', 'non-local\\npfs', 'local\\npfs'],\n",
    "    y=\"score\",\n",
    "    ylim=[-.7, .7],\n",
    "    context='paper',\n",
    "    kind='box',\n",
    "    fliersize=.5,\n",
    "    height=4,\n",
    "    width=3.5,\n",
    "    y_axis_label='Pairwise Correlation',\n",
    "    # x_axis_label='# of synapses per connection',\n",
    "    save_filename=f'{script_n}_max_dist_{max_dist}_min_length_{min_length}_combined.svg',\n",
    "    show=True,\n",
    "    )\n"
   ]
  },
  {
   "cell_type": "code",
   "execution_count": 4,
   "metadata": {},
   "outputs": [
    {
     "name": "stdout",
     "output_type": "stream",
     "text": [
      "Height: 4, Aspect: 1.33\n"
     ]
    },
    {
     "name": "stderr",
     "output_type": "stream",
     "text": [
      "/usr/lib/python3/dist-packages/matplotlib/cbook/__init__.py:1402: FutureWarning: Support for multi-dimensional indexing (e.g. `obj[:, None]`) is deprecated and will be removed in a future version.  Convert to a numpy array before indexing instead.\n",
      "  ndim = x[:, None].ndim\n",
      "/usr/lib/python3/dist-packages/matplotlib/axes/_base.py:276: FutureWarning: Support for multi-dimensional indexing (e.g. `obj[:, None]`) is deprecated and will be removed in a future version.  Convert to a numpy array before indexing instead.\n",
      "  x = x[:, np.newaxis]\n",
      "/usr/lib/python3/dist-packages/matplotlib/axes/_base.py:278: FutureWarning: Support for multi-dimensional indexing (e.g. `obj[:, None]`) is deprecated and will be removed in a future version.  Convert to a numpy array before indexing instead.\n",
      "  y = y[:, np.newaxis]\n"
     ]
    },
    {
     "data": {
      "image/png": "[encoded data removed]",
      "text/plain": [
       "<Figure size 462.185x288 with 1 Axes>"
      ]
     },
     "metadata": {},
     "output_type": "display_data"
    }
   ],
   "source": [
    "\n",
    "\n",
    "importlib.reload(my_plot); my_plot.my_displot(\n",
    "    mpd_all,\n",
    "    # x=\"num_syns_per_connection\",\n",
    "    x=\"score\",\n",
    "    hue=\"type\",\n",
    "    # hue_order=['All', 'Per PC', 'Per pf'],\n",
    "    # hue_order=['All', 'Per PC'],\n",
    "#     ylim=[.30, .70],\n",
    "    xlim=[-.4, .4],\n",
    "    context='paper',\n",
    "    kind='kde',\n",
    "    # add_swarm=True,\n",
    "    # font_scale=1.5,\n",
    "    height=4,\n",
    "    bw_adjust=.75,\n",
    "#     binwidth=.02,\n",
    "    # width=2.5,\n",
    "    # y_axis_label='Similarity (%)',\n",
    "    x_axis_label='Correlation',\n",
    "    save_filename=f'{script_n}_max_dist_{max_dist}_min_length_{min_length}_kde.svg',\n",
    "    show=True,\n",
    "    )"
   ]
  },
  {
   "cell_type": "code",
   "execution_count": 5,
   "metadata": {},
   "outputs": [
    {
     "name": "stderr",
     "output_type": "stream",
     "text": [
      "/home/tmn7/.local/lib/python3.8/site-packages/scipy/stats/stats.py:3845: PearsonRConstantInputWarning: An input array is constant; the correlation coefficent is not defined.\n",
      "  warnings.warn(PearsonRConstantInputWarning())\n"
     ]
    },
    {
     "name": "stdout",
     "output_type": "stream",
     "text": [
      "n=273 pairs\n",
      "n=181 pairs\n",
      "n=153 pairs\n",
      "n=122 pairs\n",
      "n=99 pairs\n"
     ]
    }
   ],
   "source": [
    "\n",
    "for min_length in [10, 20, 30, 40, 50]:\n",
    "\n",
    "    paired_correlation = defaultdict(lambda: defaultdict(float))\n",
    "\n",
    "    def calc_pattern_correlation(weightdb, type='Data'):\n",
    "        mpd = MyPlotData()\n",
    "        processed = set()\n",
    "        n = 0\n",
    "        for pc0 in postsyns:\n",
    "            for pc1 in postsyns:\n",
    "                if (pc0, pc1) in processed:\n",
    "                    continue\n",
    "                paired_correlation[pc0][pc1] = 0\n",
    "                paired_correlation[pc1][pc0] = 0\n",
    "                if pc0 == pc1:\n",
    "                    paired_correlation[pc0][pc1] = 1\n",
    "                    continue\n",
    "                processed.add((pc0, pc1))\n",
    "                processed.add((pc1, pc0))\n",
    "                if len(weightdb.get_shared_presyns(pc0, pc1)) < min_length:\n",
    "                    continue\n",
    "\n",
    "                score = weightdb.calc_pattern_correlation(pc0, pc1)\n",
    "                paired_correlation[pc0][pc1] = score\n",
    "                paired_correlation[pc1][pc0] = score\n",
    "                mpd.add_data_point(\n",
    "                    score=score,\n",
    "                    type=type,\n",
    "                    )\n",
    "                n += 1\n",
    "\n",
    "        print(f'n={n} pairs')\n",
    "        return mpd\n",
    "\n",
    "    mpd_data = calc_pattern_correlation(weightdb)\n",
    "\n",
    "    import compress_pickle\n",
    "    compress_pickle.dump(\n",
    "        dict(paired_correlation),\n",
    "        f'{script_n}_max_dist_{max_dist}_min_length_{min_length}_paired_score.gz',)"
   ]
  },
  {
   "cell_type": "code",
   "execution_count": 6,
   "metadata": {},
   "outputs": [
    {
     "name": "stdout",
     "output_type": "stream",
     "text": [
      "n=273 pairs\n",
      "n=181 pairs\n",
      "n=153 pairs\n",
      "n=122 pairs\n",
      "n=99 pairs\n"
     ]
    }
   ],
   "source": [
    "\n",
    "for min_length in [10, 20, 30, 40, 50]:\n",
    "\n",
    "    paired_correlation = defaultdict(lambda: defaultdict(float))\n",
    "\n",
    "    def calc_pattern_correlation(weightdb, type='Data'):\n",
    "        mpd = MyPlotData()\n",
    "        processed = set()\n",
    "        n = 0\n",
    "        for pc0 in postsyns:\n",
    "            for pc1 in postsyns:\n",
    "                if (pc0, pc1) in processed:\n",
    "                    continue\n",
    "                paired_correlation[pc0][pc1] = None\n",
    "                paired_correlation[pc1][pc0] = None\n",
    "                if pc0 == pc1:\n",
    "                    paired_correlation[pc0][pc1] = 1\n",
    "                    continue\n",
    "                processed.add((pc0, pc1))\n",
    "                processed.add((pc1, pc0))\n",
    "                if len(weightdb.get_shared_presyns(pc0, pc1)) < min_length:\n",
    "                    continue\n",
    "\n",
    "                score = weightdb.calc_pattern_correlation(pc0, pc1)\n",
    "                paired_correlation[pc0][pc1] = score+.5\n",
    "                paired_correlation[pc1][pc0] = score+.5\n",
    "                mpd.add_data_point(\n",
    "                    score=score,\n",
    "                    type=type,\n",
    "                    )\n",
    "                n += 1\n",
    "\n",
    "        print(f'n={n} pairs')\n",
    "        return mpd\n",
    "\n",
    "    mpd_data = calc_pattern_correlation(weightdb)\n",
    "\n",
    "    import compress_pickle\n",
    "    compress_pickle.dump(\n",
    "        dict(paired_correlation),\n",
    "        f'{script_n}_max_dist_{max_dist}_min_length_{min_length}_paired_score.gz',)"
   ]
  }
 ],
 "metadata": {
  "kernelspec": {
   "display_name": "Python 3",
   "language": "python",
   "name": "python3"
  },
  "language_info": {
   "codemirror_mode": {
    "name": "ipython",
    "version": 3
   },
   "file_extension": ".py",
   "mimetype": "text/x-python",
   "name": "python",
   "nbconvert_exporter": "python",
   "pygments_lexer": "ipython3",
   "version": "3.8.5"
  }
 },
 "nbformat": 4,
 "nbformat_minor": 4
}
