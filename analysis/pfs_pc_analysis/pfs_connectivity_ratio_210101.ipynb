{
 "cells": [
  {
   "cell_type": "code",
   "execution_count": 3,
   "metadata": {},
   "outputs": [
    {
     "name": "stdout",
     "output_type": "stream",
     "text": [
      "Num samples: 4439\n",
      "Height: 4, Aspect: 1.33\n"
     ]
    }
   ],
   "source": [
    "import collections\n",
    "from collections import defaultdict\n",
    "import sys\n",
    "import json\n",
    "import random\n",
    "from jsmin import jsmin\n",
    "from io import StringIO\n",
    "import numpy as np\n",
    "import copy\n",
    "import importlib\n",
    "from functools import partial\n",
    "import math\n",
    "import os\n",
    "import argparse\n",
    "\n",
    "# script_n = os.path.basename(__file__).split('.')[0]\n",
    "script_n = 'pfs_connectivity_ratio_210101'\n",
    "\n",
    "sys.path.insert(0, '/n/groups/htem/Segmentation/shared-nondev/cb2_segmentation/analysis_mf_grc')\n",
    "import my_plot\n",
    "importlib.reload(my_plot)\n",
    "from my_plot import MyPlotData\n",
    "\n",
    "\n",
    "\n",
    "# ap = argparse.ArgumentParser()\n",
    "# ap.add_argument(\"--max_dist\", type=int, default=150)\n",
    "# ap.add_argument(\"--threshold\", type=int, default=6)\n",
    "# = ap.parse_args()\n",
    "max_dist = 150\n",
    "threshold = 6\n",
    "\n",
    "\n",
    "\n",
    "from weight_database import WeightDatabase\n",
    "weightdb = WeightDatabase()\n",
    "\n",
    "# weightdb.load_syn_db('/n/groups/htem/Segmentation/shared-nondev/cb2_segmentation/analysis_mf_grc/gen_db/pfs/gen_201224_setup01_syndb_threshold_10_coalesced.gz')\n",
    "weightdb.load_syn_db('/n/groups/htem/Segmentation/shared-nondev/cb2_segmentation/analysis_mf_grc/gen_db/pfs/gen_210101_setup01_syndb_threshold_10_coalesced_filtered_10.gz')\n",
    "weightdb.load_touch_db(\n",
    "    '/n/groups/htem/Segmentation/shared-nondev/cb2_segmentation/analysis_mf_grc/purkinje/db_pf_contacts_201224.gz',\n",
    "    max_dist=max_dist\n",
    "    )\n",
    "\n",
    "\n",
    "postsyns = weightdb.get_presyn_ids()\n",
    "\n",
    "\n",
    "\n",
    "mpd = MyPlotData()\n",
    "\n",
    "n = 0\n",
    "for postsyn in postsyns:\n",
    "    n_total = len(weightdb.get_total_connections(postsyn)) \n",
    "    n_connected = len(weightdb.get_connections(postsyn)) \n",
    "    if n_total >= threshold:\n",
    "        ratio = n_connected/n_total*100\n",
    "        # print(postsyn)\n",
    "        # print(f'n_total: {n_total}', end=', ')\n",
    "        # print(f'n_connected: {n_connected}', end=', ')\n",
    "        # print(f'ratio: {ratio}', end=', ')\n",
    "        # print()\n",
    "        n += 1\n",
    "        mpd.add_data_point(\n",
    "            ratio=ratio,\n",
    "            )\n",
    "print(f'Num samples: {n}')\n"
   ]
  },
  {
   "cell_type": "code",
   "execution_count": 19,
   "metadata": {},
   "outputs": [
    {
     "name": "stdout",
     "output_type": "stream",
     "text": [
      "Height: 4, Aspect: 1.33\n"
     ]
    },
    {
     "data": {
      "image/png": "[encoded data removed]",
      "text/plain": [
       "<Figure size 383.04x288 with 1 Axes>"
      ]
     },
     "metadata": {},
     "output_type": "display_data"
    }
   ],
   "source": [
    "\n",
    "\n",
    "importlib.reload(my_plot); my_plot.my_cat_bar_plot(\n",
    "    mpd,\n",
    "    # x=\"num_syns_per_connection\",\n",
    "    y=\"ratio\",\n",
    "    # hue=\"type\",\n",
    "    # hue_order=['All', 'Per PC', 'Per pf'],\n",
    "    # hue_order=['All', 'Per PC'],\n",
    "    # y_lims=[.25, .75],\n",
    "    context='paper',\n",
    "    kind='violin',\n",
    "    # font_scale=1.5,\n",
    "#     add_swarm=True,\n",
    "    inner='box',\n",
    "    height=4,\n",
    "    bw=.25,\n",
    "    cut=0,\n",
    "    y_axis_label='Connection Ratio (%)',\n",
    "    # x_axis_label='# of synapses per connection',\n",
    "    save_filename=f'{script_n}_max_dist_{max_dist}_threshold_{threshold}.svg',\n",
    "    show=True,\n",
    "    )\n"
   ]
  }
 ],
 "metadata": {
  "kernelspec": {
   "display_name": "Python 3",
   "language": "python",
   "name": "python3"
  },
  "language_info": {
   "codemirror_mode": {
    "name": "ipython",
    "version": 3
   },
   "file_extension": ".py",
   "mimetype": "text/x-python",
   "name": "python",
   "nbconvert_exporter": "python",
   "pygments_lexer": "ipython3",
   "version": "3.8.5"
  }
 },
 "nbformat": 4,
 "nbformat_minor": 2
}
