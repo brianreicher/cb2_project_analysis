{
 "cells": [
  {
   "cell_type": "code",
   "execution_count": 10,
   "metadata": {},
   "outputs": [
    {
     "name": "stdout",
     "output_type": "stream",
     "text": [
      "Num samples: 10000\n",
      "0\n",
      "Num samples: 10000\n",
      "1\n",
      "Num samples: 10000\n",
      "2\n",
      "Num samples: 10000\n",
      "3\n",
      "Num samples: 10000\n",
      "4\n",
      "Num samples: 10000\n",
      "5\n",
      "Num samples: 10000\n",
      "6\n",
      "Num samples: 10000\n",
      "7\n",
      "Num samples: 10000\n",
      "8\n",
      "Num samples: 10000\n",
      "9\n",
      "Num samples: 10000\n",
      "10\n",
      "Num samples: 10000\n",
      "11\n",
      "Num samples: 10000\n",
      "12\n",
      "Num samples: 10000\n",
      "13\n",
      "Num samples: 10000\n",
      "14\n",
      "Num samples: 10000\n",
      "15\n",
      "Num samples: 10000\n",
      "16\n",
      "Num samples: 10000\n",
      "17\n",
      "Num samples: 10000\n",
      "18\n",
      "Num samples: 10000\n",
      "19\n",
      "Num samples: 10000\n"
     ]
    }
   ],
   "source": [
    "import collections\n",
    "from collections import defaultdict\n",
    "import sys\n",
    "import json\n",
    "import random\n",
    "from jsmin import jsmin\n",
    "from io import StringIO\n",
    "import numpy as np\n",
    "import copy\n",
    "import importlib\n",
    "from functools import partial\n",
    "import math\n",
    "import os\n",
    "import argparse\n",
    "import random\n",
    "\n",
    "# script_n = os.path.basename(__file__).split('.')[0]\n",
    "script_n = 'pfs_pc_pattern_correlation_210107_random_spearman'\n",
    "\n",
    "\n",
    "sys.path.insert(0, '/n/groups/htem/Segmentation/shared-nondev/cb2_segmentation/analysis_mf_grc')\n",
    "import my_plot\n",
    "importlib.reload(my_plot)\n",
    "from my_plot_data import MyPlotData\n",
    "\n",
    "\n",
    "\n",
    "# ap = argparse.ArgumentParser()\n",
    "# ap.add_argument(\"--min_length\", type=int, default=4)\n",
    "# ap.add_argument(\"--max_dist\", type=int, default=125)\n",
    "# ap.add_argument(\"--n_random\", type=int, default=20)\n",
    "# ap.add_argument(\"--n_sample\", type=int, default=10000)\n",
    "# config = ap.parse_args()\n",
    "max_dist = 150\n",
    "min_length = 6\n",
    "n_random = 20\n",
    "n_sample = 10000\n",
    "\n",
    "\n",
    "\n",
    "from weight_database import WeightDatabase\n",
    "weightdb = WeightDatabase()\n",
    "\n",
    "weightdb.load_syn_db('/n/groups/htem/Segmentation/shared-nondev/cb2_segmentation/analysis_mf_grc/gen_db/pfs/gen_210101_setup01_syndb_threshold_10_coalesced_filtered_10.gz')\n",
    "weightdb.load_touch_db(\n",
    "    '/n/groups/htem/Segmentation/shared-nondev/cb2_segmentation/analysis_mf_grc/purkinje/db_pf_contacts_201224.gz',\n",
    "    max_dist=max_dist\n",
    "    )\n",
    "\n",
    "postsyns = list(weightdb.get_presyn_ids())\n",
    "hist = defaultdict(list)\n",
    "\n",
    "def calc_pattern_correlation(weightdb, type='Data'):\n",
    "    mpd = MyPlotData()\n",
    "    processed = set()\n",
    "    n = 0\n",
    "    random.seed(0)\n",
    "    while n < n_sample:\n",
    "        pc0 = postsyns[int(random.random()*len(postsyns))]\n",
    "        pc1 = postsyns[int(random.random()*len(postsyns))]\n",
    "        if pc0 == pc1:\n",
    "            continue\n",
    "        if (pc0, pc1) in processed:\n",
    "            continue\n",
    "        processed.add((pc0, pc1))\n",
    "        processed.add((pc1, pc0))\n",
    "        if len(weightdb.get_shared_presyns(pc0, pc1)) < min_length:\n",
    "            continue\n",
    "        score = weightdb.calc_pattern_correlation(pc0, pc1, spearman=True)\n",
    "        # if score >= 0.7:\n",
    "        #     print(f'{pc0} and {pc1}: {score}')\n",
    "        mpd.add_data_point(\n",
    "            score=score,\n",
    "            type=type,\n",
    "            )\n",
    "        n += 1\n",
    "        hist[type].append(score)\n",
    "    print(f'Num samples: {n}')\n",
    "    return mpd\n",
    "\n",
    "\n",
    "mpd_data = calc_pattern_correlation(weightdb)\n",
    "\n",
    "for i in range(n_random):\n",
    "    print(i)\n",
    "    random.seed(i)\n",
    "    weightdb_random = weightdb.randomize_connectivity(type='presyn', global_rate=True)\n",
    "    mpd_random = calc_pattern_correlation(weightdb_random, type='Random')"
   ]
  },
  {
   "cell_type": "code",
   "execution_count": 11,
   "metadata": {},
   "outputs": [],
   "source": [
    "\n",
    "import compress_pickle\n",
    "compress_pickle.dump(\n",
    "    (mpd_data),\n",
    "    f'{script_n}_max_dist_{max_dist}_min_length_{min_length}_db.gz',)\n"
   ]
  },
  {
   "cell_type": "code",
   "execution_count": 12,
   "metadata": {},
   "outputs": [
    {
     "name": "stdout",
     "output_type": "stream",
     "text": [
      "Ttest_indResult(statistic=1.5074766169589568, pvalue=0.1316900373334205)\n",
      "RanksumsResult(statistic=1.542721042315482, pvalue=0.12289847410987191)\n",
      "MannwhitneyuResult(statistic=1009126882.5, pvalue=0.0614246877537622)\n",
      "KstestResult(statistic=0.013085000000000013, pvalue=0.07599976573537348)\n"
     ]
    }
   ],
   "source": [
    "import scipy\n",
    "fout_name = f'{script_n}_max_dist_{max_dist}_min_length_{min_length}_n_{n_random}'\n",
    "with open(f'{script_n}_results', 'w') as fout:\n",
    "    for foutt in [fout, sys.stdout]:\n",
    "        print(scipy.stats.ttest_ind(hist['Data'], hist['Random']), file=foutt)\n",
    "        print(scipy.stats.ranksums(hist['Data'], hist['Random']), file=foutt)\n",
    "        print(scipy.stats.mannwhitneyu(hist['Data'], hist['Random'], alternative='greater'), file=foutt)\n",
    "        print(scipy.stats.ks_2samp(hist['Data'], hist['Random']), file=foutt)"
   ]
  },
  {
   "cell_type": "code",
   "execution_count": 13,
   "metadata": {
    "scrolled": true
   },
   "outputs": [
    {
     "name": "stdout",
     "output_type": "stream",
     "text": [
      "Height: 4, Aspect: 1.0\n"
     ]
    },
    {
     "data": {
      "image/png": "[encoded data removed]",
      "text/plain": [
       "<Figure size 288x288 with 1 Axes>"
      ]
     },
     "metadata": {},
     "output_type": "display_data"
    }
   ],
   "source": [
    "mpd_all = MyPlotData()\n",
    "mpd_all.append(mpd_data)\n",
    "mpd_all.append(mpd_random)\n",
    "\n",
    "import compress_pickle\n",
    "compress_pickle.dump(\n",
    "    (mpd_data,\n",
    "        mpd_random),\n",
    "    f'{script_n}_max_dist_{max_dist}_min_length_{min_length}_db.gz',)\n",
    "\n",
    "\n",
    "importlib.reload(my_plot); my_plot.my_catplot(\n",
    "    mpd_all,\n",
    "    y=\"score\",\n",
    "    x=\"type\",\n",
    "    # ylim=[.30, .70],\n",
    "    context='paper',\n",
    "    kind='box',\n",
    "#     kind='violin',\n",
    "    # add_swarm=True,\n",
    "    xticklabels=['non-local\\npfs', 'Shuffle'],\n",
    "    height=4,\n",
    "    width=4,\n",
    "    y_axis_label='Pairwise Correlation',\n",
    "    # x_axis_label='# of synapses per connection',\n",
    "    save_filename=f'{script_n}_max_dist_{max_dist}_min_length_{min_length}.svg',\n",
    "    show=True,\n",
    "    )"
   ]
  }
 ],
 "metadata": {
  "kernelspec": {
   "display_name": "Python 3",
   "language": "python",
   "name": "python3"
  },
  "language_info": {
   "codemirror_mode": {
    "name": "ipython",
    "version": 3
   },
   "file_extension": ".py",
   "mimetype": "text/x-python",
   "name": "python",
   "nbconvert_exporter": "python",
   "pygments_lexer": "ipython3",
   "version": "3.8.5"
  }
 },
 "nbformat": 4,
 "nbformat_minor": 4
}
