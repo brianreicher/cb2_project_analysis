{
 "cells": [
  {
   "cell_type": "code",
   "execution_count": 7,
   "metadata": {},
   "outputs": [
    {
     "name": "stdout",
     "output_type": "stream",
     "text": [
      "pc_9\n",
      "n_total: 3379, n_connected: 1443, ratio: 42.704942290618526, \n",
      "purkinje_1\n",
      "n_total: 2652, n_connected: 1097, ratio: 41.36500754147813, \n",
      "pc_21\n",
      "n_total: 1078, n_connected: 525, ratio: 48.701298701298704, \n",
      "pc_18\n",
      "n_total: 2235, n_connected: 854, ratio: 38.21029082774049, \n",
      "pc_7\n",
      "n_total: 1176, n_connected: 432, ratio: 36.734693877551024, \n",
      "pc_1\n",
      "n_total: 1738, n_connected: 721, ratio: 41.48446490218642, \n",
      "pc_17\n",
      "n_total: 1798, n_connected: 721, ratio: 40.100111234705224, \n",
      "pc_4\n",
      "n_total: 1396, n_connected: 665, ratio: 47.636103151862464, \n",
      "pc_32\n",
      "n_total: 2061, n_connected: 820, ratio: 39.78651140223193, \n",
      "pc_50\n",
      "n_total: 1178, n_connected: 472, ratio: 40.0679117147708, \n",
      "purkinje_0\n",
      "n_total: 2386, n_connected: 1034, ratio: 43.33612740989103, \n",
      "pc_15\n",
      "n_total: 3430, n_connected: 1425, ratio: 41.54518950437318, \n",
      "pc_16\n",
      "n_total: 3191, n_connected: 1321, ratio: 41.39768097774992, \n",
      "pc_28\n",
      "n_total: 3406, n_connected: 1264, ratio: 37.11098062243101, \n",
      "pc_27\n",
      "n_total: 1270, n_connected: 359, ratio: 28.267716535433067, \n",
      "pc_19\n",
      "n_total: 2409, n_connected: 992, ratio: 41.17891241178913, \n",
      "Num samples: 16\n"
     ]
    }
   ],
   "source": [
    "import collections\n",
    "from collections import defaultdict\n",
    "import sys\n",
    "import json\n",
    "import random\n",
    "from jsmin import jsmin\n",
    "from io import StringIO\n",
    "import numpy as np\n",
    "import copy\n",
    "import importlib\n",
    "from functools import partial\n",
    "import math\n",
    "import os\n",
    "import argparse\n",
    "\n",
    "# script_n = os.path.basename(__file__).split('.')[0]\n",
    "script_n = 'pc_connectivity_ratio_210101_max_dist_5000'\n",
    "\n",
    "sys.path.insert(0, '/n/groups/htem/Segmentation/shared-nondev/cb2_segmentation/analysis_mf_grc')\n",
    "import my_plot\n",
    "importlib.reload(my_plot)\n",
    "from my_plot import MyPlotData\n",
    "\n",
    "\n",
    "\n",
    "# ap = argparse.ArgumentParser()\n",
    "# ap.add_argument(\"--max_dist\", type=int, default=200)\n",
    "# ap.add_argument(\"--threshold\", type=int, default=100)\n",
    "# config = ap.parse_args()\n",
    "config_max_dist = 5000\n",
    "config_threshold = 1000\n",
    "\n",
    "\n",
    "\n",
    "from weight_database import WeightDatabase\n",
    "weightdb = WeightDatabase()\n",
    "\n",
    "# weightdb.load_syn_db('/n/groups/htem/Segmentation/shared-nondev/cb2_segmentation/analysis_mf_grc/gen_db/pfs/gen_201224_setup01_syndb_threshold_10_coalesced.gz')\n",
    "weightdb.load_syn_db('/n/groups/htem/Segmentation/shared-nondev/cb2_segmentation/analysis_mf_grc/gen_db/pfs/gen_210101_setup01_syndb_threshold_10_coalesced_filtered_10.gz')\n",
    "weightdb.load_touch_db(\n",
    "    '/n/groups/htem/Segmentation/shared-nondev/cb2_segmentation/analysis_mf_grc/purkinje/db_pf_contacts_201224.gz',\n",
    "    max_dist=config_max_dist\n",
    "    )\n",
    "\n",
    "\n",
    "postsyns = weightdb.get_postsyn_ids()\n",
    "\n",
    "\n",
    "\n",
    "mpd = MyPlotData()\n",
    "\n",
    "n = 0\n",
    "for postsyn in postsyns:\n",
    "    n_total = len(weightdb.get_total_connections(postsyn))\n",
    "    n_connected = len(weightdb.get_connections(postsyn))\n",
    "    if n_total >= config_threshold:\n",
    "        ratio = n_connected/n_total*100\n",
    "        print(postsyn)\n",
    "        print(f'n_total: {n_total}', end=', ')\n",
    "        print(f'n_connected: {n_connected}', end=', ')\n",
    "        print(f'ratio: {ratio}', end=', ')\n",
    "        print()\n",
    "        n += 1\n",
    "        mpd.add_data_point(\n",
    "            ratio=ratio,\n",
    "            )\n",
    "print(f'Num samples: {n}')\n"
   ]
  },
  {
   "cell_type": "code",
   "execution_count": 8,
   "metadata": {},
   "outputs": [
    {
     "name": "stdout",
     "output_type": "stream",
     "text": [
      "Height: 4, Aspect: 0.625\n"
     ]
    },
    {
     "data": {
      "image/png": "[encoded data removed]",
      "text/plain": [
       "<Figure size 180x288 with 1 Axes>"
      ]
     },
     "metadata": {},
     "output_type": "display_data"
    }
   ],
   "source": [
    "\n",
    "importlib.reload(my_plot); my_plot.my_catplot(\n",
    "    mpd,\n",
    "    # x=\"num_syns_per_connection\",\n",
    "    y=\"ratio\",\n",
    "    # hue=\"type\",\n",
    "    # hue_order=['All', 'Per PC', 'Per pf'],\n",
    "    # hue_order=['All', 'Per PC'],\n",
    "    ylim=[15, 65],\n",
    "    context='paper',\n",
    "    kind='box',\n",
    "    add_swarm=True,\n",
    "    # font_scale=1.5,\n",
    "    height=4,\n",
    "    width=2.5,\n",
    "    y_axis_label='Connection Ratio (%)',\n",
    "    # x_axis_label='# of synapses per connection',\n",
    "    save_filename=f'{script_n}_max_dist_{config_max_dist}_threshold_{config_threshold}.svg',\n",
    "    show=True,\n",
    "    )"
   ]
  }
 ],
 "metadata": {
  "kernelspec": {
   "display_name": "Python 3",
   "language": "python",
   "name": "python3"
  },
  "language_info": {
   "codemirror_mode": {
    "name": "ipython",
    "version": 3
   },
   "file_extension": ".py",
   "mimetype": "text/x-python",
   "name": "python",
   "nbconvert_exporter": "python",
   "pygments_lexer": "ipython3",
   "version": "3.8.5"
  }
 },
 "nbformat": 4,
 "nbformat_minor": 4
}
