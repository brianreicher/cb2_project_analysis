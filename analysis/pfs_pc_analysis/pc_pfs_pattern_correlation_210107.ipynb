{
 "cells": [
  {
   "cell_type": "code",
   "execution_count": 2,
   "metadata": {},
   "outputs": [
    {
     "name": "stdout",
     "output_type": "stream",
     "text": [
      "n=650 pairs\n",
      "n=650 pairs\n"
     ]
    }
   ],
   "source": [
    "import collections\n",
    "from collections import defaultdict\n",
    "import sys\n",
    "import json\n",
    "import random\n",
    "from jsmin import jsmin\n",
    "from io import StringIO\n",
    "import numpy as np\n",
    "import copy\n",
    "import importlib\n",
    "from functools import partial\n",
    "import math\n",
    "import os\n",
    "import argparse\n",
    "\n",
    "# script_n = os.path.basename(__file__).split('.')[0]\n",
    "script_n = 'pc_pfs_pattern_correlation_210107'\n",
    "\n",
    "\n",
    "sys.path.insert(0, '/n/groups/htem/Segmentation/shared-nondev/cb2_segmentation/analysis_mf_grc')\n",
    "import my_plot\n",
    "importlib.reload(my_plot)\n",
    "from my_plot import MyPlotData\n",
    "\n",
    "\n",
    "\n",
    "# ap = argparse.ArgumentParser()\n",
    "# ap.add_argument(\"--min_length\", type=int, default=20)\n",
    "# ap.add_argument(\"--max_dist\", type=int, default=100)\n",
    "# config = ap.parse_args()\n",
    "min_length = 30\n",
    "max_dist = 150\n",
    "\n",
    "\n",
    "from weight_database import WeightDatabase\n",
    "weightdb = WeightDatabase()\n",
    "\n",
    "weightdb.load_syn_db('/n/groups/htem/Segmentation/shared-nondev/cb2_segmentation/analysis_mf_grc/gen_db/pfs/gen_210101_setup01_syndb_threshold_10_coalesced_filtered_10.gz')\n",
    "weightdb.load_touch_db(\n",
    "    '/n/groups/htem/Segmentation/shared-nondev/cb2_segmentation/analysis_mf_grc/purkinje/db_pf_contacts_201224.gz',\n",
    "    max_dist=max_dist\n",
    "    )\n",
    "\n",
    "postsyns = weightdb.get_postsyn_ids()\n",
    "\n",
    "hist = defaultdict(list)\n",
    "\n",
    "def calc_pattern_correlation(weightdb, type='Data'):\n",
    "    mpd = MyPlotData()\n",
    "    processed = set()\n",
    "    n = 0\n",
    "    for pc0 in postsyns:\n",
    "        for pc1 in postsyns:\n",
    "            if pc0 == pc1:\n",
    "                continue\n",
    "            if (pc0, pc1) in processed:\n",
    "                continue\n",
    "            processed.add((pc0, pc1))\n",
    "            processed.add((pc1, pc0))\n",
    "            if len(weightdb.get_shared_presyns(pc0, pc1)) < min_length:\n",
    "                continue\n",
    "            score = float(weightdb.calc_pattern_correlation(pc0, pc1))\n",
    "            if math.isnan(score):\n",
    "                score = 0\n",
    "            # if score >= 0.7:\n",
    "            #     print(f'{pc0} and {pc1}: {score}')\n",
    "            hist[type].append(score)\n",
    "            mpd.add_data_point(\n",
    "                score=score,\n",
    "                type=type,\n",
    "                )\n",
    "            n += 1\n",
    "    print(f'n={n} pairs')\n",
    "    return mpd\n",
    "\n",
    "mpd_data = calc_pattern_correlation(weightdb)\n",
    "\n",
    "weightdb_random = weightdb.randomize_connectivity(type='postsyn')\n",
    "mpd_random = calc_pattern_correlation(weightdb_random, type='Random')\n",
    "\n",
    "# print(f'Num samples: {n}')\n",
    "\n",
    "# import compress_pickle\n",
    "# compress_pickle.dump(\n",
    "#     (mpd),\n",
    "#     f'{script_n}_max_dist_{max_dist}_min_length_{min_length}_db.gz',)"
   ]
  },
  {
   "cell_type": "code",
   "execution_count": 3,
   "metadata": {},
   "outputs": [
    {
     "name": "stdout",
     "output_type": "stream",
     "text": [
      "Height: 4, Aspect: 1.0\n"
     ]
    },
    {
     "data": {
      "image/png": "[encoded data removed]",
      "text/plain": [
       "<Figure size 288x288 with 1 Axes>"
      ]
     },
     "metadata": {},
     "output_type": "display_data"
    }
   ],
   "source": [
    "mpd_all = MyPlotData()\n",
    "mpd_all.append(mpd_data)\n",
    "mpd_all.append(mpd_random)\n",
    "\n",
    "importlib.reload(my_plot); my_plot.my_catplot(\n",
    "    mpd_all,\n",
    "    x=\"type\",\n",
    "    y=\"score\",\n",
    "    # hue=\"type\",\n",
    "    # hue_order=['All', 'Per PC', 'Per pf'],\n",
    "    # hue_order=['All', 'Per PC'],\n",
    "    ylim=[-.7, .7],\n",
    "    context='paper',\n",
    "    kind='box',\n",
    "    # add_swarm=True,\n",
    "    # font_scale=1.5,\n",
    "    height=4,\n",
    "    width=4,\n",
    "    y_axis_label='Correlation',\n",
    "    # x_axis_label='# of synapses per connection',\n",
    "    save_filename=f'{script_n}_max_dist_{max_dist}_min_length_{min_length}.svg',\n",
    "    show=True,\n",
    "    )\n",
    "\n",
    "\n",
    "# importlib.reload(my_plot); my_plot.my_displot(\n",
    "#     mpd_all,\n",
    "#     # x=\"num_syns_per_connection\",\n",
    "#     x=\"score\",\n",
    "#     hue=\"type\",\n",
    "#     # hue_order=['All', 'Per PC', 'Per pf'],\n",
    "#     # hue_order=['All', 'Per PC'],\n",
    "#     # ylim=[.30, .70],\n",
    "#     context='paper',\n",
    "#     kind='hist',\n",
    "#     # add_swarm=True,\n",
    "#     # font_scale=1.5,\n",
    "#     height=4,\n",
    "#     binwidth=.02,\n",
    "#     # width=2.5,\n",
    "#     # y_axis_label='Similarity (%)',\n",
    "#     x_axis_label='Correlation',\n",
    "#     save_filename=f'{script_n}_max_dist_{max_dist}_min_length_{min_length}_dist.svg',\n",
    "#     show=True,\n",
    "#     )"
   ]
  },
  {
   "cell_type": "code",
   "execution_count": 4,
   "metadata": {},
   "outputs": [
    {
     "ename": "NameError",
     "evalue": "name 'n_random' is not defined",
     "output_type": "error",
     "traceback": [
      "\u001b[0;31m---------------------------------------------------------------------------\u001b[0m",
      "\u001b[0;31mNameError\u001b[0m                                 Traceback (most recent call last)",
      "\u001b[0;32m<ipython-input-4-a123922ef199>\u001b[0m in \u001b[0;36m<module>\u001b[0;34m\u001b[0m\n\u001b[1;32m      2\u001b[0m compress_pickle.dump(\n\u001b[1;32m      3\u001b[0m     \u001b[0;34m(\u001b[0m\u001b[0mmpd_random\u001b[0m\u001b[0;34m,\u001b[0m \u001b[0mmpd_data\u001b[0m\u001b[0;34m)\u001b[0m\u001b[0;34m,\u001b[0m\u001b[0;34m\u001b[0m\u001b[0;34m\u001b[0m\u001b[0m\n\u001b[0;32m----> 4\u001b[0;31m     \u001b[0;34mf'{script_n}_max_dist_{max_dist}_min_length_{min_length}_n{n_random}_mpd.gz'\u001b[0m\u001b[0;34m,\u001b[0m\u001b[0;34m\u001b[0m\u001b[0;34m\u001b[0m\u001b[0m\n\u001b[0m\u001b[1;32m      5\u001b[0m     )\n",
      "\u001b[0;31mNameError\u001b[0m: name 'n_random' is not defined"
     ]
    }
   ],
   "source": []
  },
  {
   "cell_type": "code",
   "execution_count": 3,
   "metadata": {},
   "outputs": [
    {
     "name": "stdout",
     "output_type": "stream",
     "text": [
      "Height: 4, Aspect: 1.33\n"
     ]
    },
    {
     "name": "stderr",
     "output_type": "stream",
     "text": [
      "/usr/lib/python3/dist-packages/matplotlib/cbook/__init__.py:1402: FutureWarning: Support for multi-dimensional indexing (e.g. `obj[:, None]`) is deprecated and will be removed in a future version.  Convert to a numpy array before indexing instead.\n",
      "  ndim = x[:, None].ndim\n",
      "/usr/lib/python3/dist-packages/matplotlib/axes/_base.py:276: FutureWarning: Support for multi-dimensional indexing (e.g. `obj[:, None]`) is deprecated and will be removed in a future version.  Convert to a numpy array before indexing instead.\n",
      "  x = x[:, np.newaxis]\n",
      "/usr/lib/python3/dist-packages/matplotlib/axes/_base.py:278: FutureWarning: Support for multi-dimensional indexing (e.g. `obj[:, None]`) is deprecated and will be removed in a future version.  Convert to a numpy array before indexing instead.\n",
      "  y = y[:, np.newaxis]\n"
     ]
    },
    {
     "data": {
      "image/png": "[encoded data removed]",
      "text/plain": [
       "<Figure size 485.81x288 with 1 Axes>"
      ]
     },
     "metadata": {},
     "output_type": "display_data"
    }
   ],
   "source": [
    "\n",
    "\n",
    "importlib.reload(my_plot); my_plot.my_displot(\n",
    "    mpd_all,\n",
    "    # x=\"num_syns_per_connection\",\n",
    "    x=\"score\",\n",
    "    hue=\"type\",\n",
    "    # hue_order=['All', 'Per PC', 'Per pf'],\n",
    "    # hue_order=['All', 'Per PC'],\n",
    "#     ylim=[.30, .70],\n",
    "    xlim=[-.4, .4],\n",
    "    context='paper',\n",
    "    kind='kde',\n",
    "    # add_swarm=True,\n",
    "    # font_scale=1.5,\n",
    "    height=4,\n",
    "    bw_adjust=.75,\n",
    "#     binwidth=.02,\n",
    "    # width=2.5,\n",
    "    # y_axis_label='Similarity (%)',\n",
    "    x_axis_label='Correlation',\n",
    "    save_filename=f'{script_n}_max_dist_{max_dist}_min_length_{min_length}_kde.svg',\n",
    "    show=True,\n",
    "    )"
   ]
  },
  {
   "cell_type": "code",
   "execution_count": 5,
   "metadata": {},
   "outputs": [
    {
     "name": "stdout",
     "output_type": "stream",
     "text": [
      "0\n",
      "n=650 pairs\n",
      "1\n",
      "n=650 pairs\n",
      "2\n",
      "n=650 pairs\n",
      "3\n",
      "n=650 pairs\n",
      "4\n",
      "n=650 pairs\n",
      "Ttest_indResult(statistic=1.0189838301704262, pvalue=0.3082738816472146)\n",
      "RanksumsResult(statistic=0.8144030746885735, pvalue=0.4154140778092478)\n",
      "MannwhitneyuResult(statistic=1077592.0, pvalue=0.20771250232114474)\n",
      "KstestResult(statistic=0.038153846153846156, pvalue=0.40294244505577836)\n"
     ]
    }
   ],
   "source": [
    "\n",
    "hist['Random'] = []\n",
    "n_random = 5\n",
    "\n",
    "for i in range(n_random):\n",
    "    print(i)\n",
    "    random.seed(i)\n",
    "    weightdb_random = weightdb.randomize_connectivity(type='postsyn')\n",
    "    mpd_random = calc_pattern_correlation(weightdb_random, type='Random')\n",
    "\n",
    "import scipy\n",
    "fout_name = f'{script_n}_max_dist_{max_dist}_min_length_{min_length}_n{n_random}'\n",
    "with open(f'{script_n}_results', 'w') as fout:\n",
    "    for foutt in [fout, sys.stdout]:\n",
    "        print(scipy.stats.ttest_ind(hist['Data'], hist['Random']), file=foutt)\n",
    "        print(scipy.stats.ranksums(hist['Data'], hist['Random']), file=foutt)\n",
    "        print(scipy.stats.mannwhitneyu(hist['Data'], hist['Random'], alternative='greater'), file=foutt)\n",
    "        print(scipy.stats.ks_2samp(hist['Data'], hist['Random']), file=foutt)\n"
   ]
  },
  {
   "cell_type": "code",
   "execution_count": 8,
   "metadata": {},
   "outputs": [],
   "source": [
    "import compress_pickle\n",
    "compress_pickle.dump(\n",
    "    (hist['Data'], hist['Random']),\n",
    "    f'{script_n}_max_dist_{max_dist}_min_length_{min_length}_n{n_random}_data.gz'\n",
    ")"
   ]
  },
  {
   "cell_type": "code",
   "execution_count": 6,
   "metadata": {},
   "outputs": [],
   "source": [
    "import compress_pickle\n",
    "compress_pickle.dump(\n",
    "    (mpd_random, mpd_data), \n",
    "    f'{script_n}_max_dist_{max_dist}_min_length_{min_length}_n{n_random}_mpd.gz',\n",
    "    )"
   ]
  }
 ],
 "metadata": {
  "kernelspec": {
   "display_name": "Python 3",
   "language": "python",
   "name": "python3"
  },
  "language_info": {
   "codemirror_mode": {
    "name": "ipython",
    "version": 3
   },
   "file_extension": ".py",
   "mimetype": "text/x-python",
   "name": "python",
   "nbconvert_exporter": "python",
   "pygments_lexer": "ipython3",
   "version": "3.8.5"
  }
 },
 "nbformat": 4,
 "nbformat_minor": 4
}
