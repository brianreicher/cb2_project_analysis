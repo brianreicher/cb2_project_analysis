{
 "cells": [
  {
   "cell_type": "code",
   "execution_count": 2,
   "metadata": {},
   "outputs": [
    {
     "name": "stdout",
     "output_type": "stream",
     "text": [
      "n=47\n",
      "Height: 4, Aspect: 1.33\n"
     ]
    },
    {
     "data": {
      "image/png": "[encoded data removed]",
      "text/plain": [
       "<Figure size 383.04x288 with 1 Axes>"
      ]
     },
     "metadata": {},
     "output_type": "display_data"
    }
   ],
   "source": [
    "import collections\n",
    "from collections import defaultdict\n",
    "import sys\n",
    "import json\n",
    "import random\n",
    "from jsmin import jsmin\n",
    "from io import StringIO\n",
    "import numpy as np\n",
    "import copy\n",
    "import importlib\n",
    "from functools import partial\n",
    "import math\n",
    "import os\n",
    "import argparse\n",
    "\n",
    "script_n = 'pfs_density_210306'\n",
    "\n",
    "sys.path.insert(0, '/n/groups/htem/Segmentation/shared-nondev/cb2_segmentation/analysis_mf_grc')\n",
    "import my_plot\n",
    "importlib.reload(my_plot)\n",
    "from my_plot import MyPlotData\n",
    "\n",
    "import compress_pickle\n",
    "db_f = '/n/groups/htem/Segmentation/shared-nondev/cb2_segmentation/analysis_mf_grc/pfs_density_db_210306.gz'\n",
    "pf_db = compress_pickle.load(db_f)\n",
    "\n",
    "mpd = MyPlotData()\n",
    "n = 0\n",
    "\n",
    "densities = []\n",
    "\n",
    "for block in pf_db:\n",
    "    if 'density' not in pf_db[block]:\n",
    "        continue\n",
    "    if block == 'x84y50':\n",
    "        continue\n",
    "    mpd.add_data_point(\n",
    "        y=pf_db[block]['y_dist'],\n",
    "        density=pf_db[block]['density'],\n",
    "    )\n",
    "    densities.append(pf_db[block]['density'])\n",
    "    n+=1\n",
    "\n",
    "print(f'n={n}')\n",
    "\n",
    "importlib.reload(my_plot); my_plot.my_cat_bar_plot(\n",
    "    mpd,\n",
    "    x=\"y\",\n",
    "    y=\"density\",\n",
    "    # hue=\"type\",\n",
    "    # hue_order=['All', 'Per PC', 'Per pf'],\n",
    "    # hue_order=['All', 'Per PC'],\n",
    "    ylim=[0, 8],\n",
    "    context='paper',\n",
    "    kind='box',\n",
    "#     font_scale=1.4,\n",
    "#     add_swarm=True,\n",
    "#     inner='box',\n",
    "    height=4,\n",
    "#     bw=.25,\n",
    "#     cut=0,\n",
    "    y_axis_label='# of pfs per um2',\n",
    "    x_axis_label='Molecular layer height (µm*1000)',\n",
    "    save_filename=f'{script_n}.svg',\n",
    "    show=True,\n",
    "    )\n"
   ]
  },
  {
   "cell_type": "code",
   "execution_count": 3,
   "metadata": {},
   "outputs": [
    {
     "name": "stdout",
     "output_type": "stream",
     "text": [
      "3.7577954111580754\n",
      "1.218471784324993\n"
     ]
    }
   ],
   "source": [
    "import statistics\n",
    "print(statistics.mean(densities))\n",
    "print(statistics.stdev(densities))"
   ]
  },
  {
   "cell_type": "code",
   "execution_count": null,
   "metadata": {},
   "outputs": [],
   "source": [
    "average density: 3.7030876767301093\n",
    "average density: 3.7260130709318986"
   ]
  },
  {
   "cell_type": "code",
   "execution_count": 49,
   "metadata": {},
   "outputs": [
    {
     "name": "stdout",
     "output_type": "stream",
     "text": [
      "Height: 2.25, Aspect: 1.7777777777777777\n"
     ]
    },
    {
     "data": {
      "image/png": "[encoded data removed]",
      "text/plain": [
       "<Figure size 288x162 with 1 Axes>"
      ]
     },
     "metadata": {},
     "output_type": "display_data"
    },
    {
     "data": {
      "text/plain": [
       "<seaborn.axisgrid.FacetGrid at 0x7f791c473c40>"
      ]
     },
     "execution_count": 49,
     "metadata": {},
     "output_type": "execute_result"
    }
   ],
   "source": [
    "\n",
    "importlib.reload(my_plot); my_plot.my_relplot(\n",
    "    mpd,\n",
    "    x=\"y\",\n",
    "    y=\"density\",\n",
    "    ylim=[0, 8],\n",
    "    context='paper',\n",
    "#     kind='box',\n",
    "#     height=4,\n",
    "    height=2.25,\n",
    "    width=4,\n",
    "#     xticks=[],\n",
    "    y_axis_label='pfs per µm$\\mathregular{^{2}}$',\n",
    "#     x_axis_label='Molecular layer height (µm*1000)',\n",
    "    save_filename=f'{script_n}_line.svg',\n",
    "    show=True,\n",
    "    )\n"
   ]
  }
 ],
 "metadata": {
  "kernelspec": {
   "display_name": "Python 3",
   "language": "python",
   "name": "python3"
  },
  "language_info": {
   "codemirror_mode": {
    "name": "ipython",
    "version": 3
   },
   "file_extension": ".py",
   "mimetype": "text/x-python",
   "name": "python",
   "nbconvert_exporter": "python",
   "pygments_lexer": "ipython3",
   "version": "3.8.10"
  }
 },
 "nbformat": 4,
 "nbformat_minor": 2
}
