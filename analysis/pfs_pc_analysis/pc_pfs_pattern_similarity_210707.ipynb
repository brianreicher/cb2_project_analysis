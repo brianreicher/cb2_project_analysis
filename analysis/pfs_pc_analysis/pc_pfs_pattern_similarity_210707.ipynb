{
 "cells": [
  {
   "cell_type": "code",
   "execution_count": 2,
   "metadata": {},
   "outputs": [
    {
     "name": "stdout",
     "output_type": "stream",
     "text": [
      "0\n",
      "1\n",
      "2\n",
      "3\n",
      "4\n",
      "5\n",
      "6\n",
      "7\n",
      "8\n",
      "9\n",
      "10\n",
      "11\n",
      "12\n",
      "13\n",
      "14\n",
      "15\n",
      "16\n",
      "17\n",
      "18\n",
      "19\n",
      "Ttest_indResult(statistic=3.0002396418822963, pvalue=0.002702221406676858)\n",
      "RanksumsResult(statistic=2.0894433162349513, pvalue=0.036667835451747656)\n",
      "MannwhitneyuResult(statistic=5071143.0, pvalue=0.01833027196140502)\n",
      "KstestResult(statistic=0.04145114942528738, pvalue=0.19910670383515738)\n"
     ]
    },
    {
     "ename": "NameError",
     "evalue": "name 'asdf' is not defined",
     "output_type": "error",
     "traceback": [
      "\u001b[0;31m---------------------------------------------------------------------------\u001b[0m",
      "\u001b[0;31mNameError\u001b[0m                                 Traceback (most recent call last)",
      "\u001b[0;32m<ipython-input-2-7f94e1d03e90>\u001b[0m in \u001b[0;36m<module>\u001b[0;34m\u001b[0m\n\u001b[1;32m     82\u001b[0m \u001b[0;34m\u001b[0m\u001b[0m\n\u001b[1;32m     83\u001b[0m \u001b[0;34m\u001b[0m\u001b[0m\n\u001b[0;32m---> 84\u001b[0;31m \u001b[0masdf\u001b[0m\u001b[0;34m\u001b[0m\u001b[0;34m\u001b[0m\u001b[0m\n\u001b[0m\u001b[1;32m     85\u001b[0m \u001b[0;34m\u001b[0m\u001b[0m\n\u001b[1;32m     86\u001b[0m \u001b[0;34m\u001b[0m\u001b[0m\n",
      "\u001b[0;31mNameError\u001b[0m: name 'asdf' is not defined"
     ]
    }
   ],
   "source": [
    "import collections\n",
    "from collections import defaultdict\n",
    "import sys\n",
    "import json\n",
    "import random\n",
    "from jsmin import jsmin\n",
    "from io import StringIO\n",
    "import numpy as np\n",
    "import copy\n",
    "import importlib\n",
    "from functools import partial\n",
    "import math\n",
    "import os\n",
    "import argparse\n",
    "import random\n",
    "\n",
    "script_n = 'pc_pfs_pattern_similarity_210707'\n",
    "\n",
    "sys.path.insert(0, '/n/groups/htem/Segmentation/shared-nondev/cb2_segmentation/analysis_mf_grc')\n",
    "import my_plot\n",
    "importlib.reload(my_plot)\n",
    "from my_plot import MyPlotData\n",
    "\n",
    "min_length = 20\n",
    "max_dist = 100\n",
    "n_random = 20\n",
    "\n",
    "from weight_database import WeightDatabase\n",
    "weightdb = WeightDatabase()\n",
    "\n",
    "weightdb.load_syn_db('/n/groups/htem/Segmentation/shared-nondev/cb2_segmentation/analysis_mf_grc/gen_db/pfs/gen_210101_setup01_syndb_threshold_10_coalesced_filtered_10.gz')\n",
    "weightdb.load_touch_db(\n",
    "    '/n/groups/htem/Segmentation/shared-nondev/cb2_segmentation/analysis_mf_grc/purkinje/db_pf_contacts_201224.gz',\n",
    "    max_dist=max_dist\n",
    "    )\n",
    "\n",
    "postsyns = weightdb.get_postsyn_ids()\n",
    "hist = defaultdict(list)\n",
    "\n",
    "def calc_pattern_similarity(weightdb, type='Data'):\n",
    "    mpd = MyPlotData()\n",
    "    processed = set()\n",
    "    n = 0\n",
    "    for pc0 in postsyns:\n",
    "        for pc1 in postsyns:\n",
    "            if pc0 == pc1:\n",
    "                continue\n",
    "            if (pc0, pc1) in processed:\n",
    "                continue\n",
    "            processed.add((pc0, pc1))\n",
    "            processed.add((pc1, pc0))\n",
    "            if len(weightdb.get_shared_presyns(pc0, pc1)) < min_length:\n",
    "                continue\n",
    "            score = weightdb.calc_pattern_similarity(pc0, pc1)\n",
    "            # if score >= 0.7:\n",
    "            #     print(f'{pc0} and {pc1}: {score}')\n",
    "            mpd.add_data_point(\n",
    "                score=score,\n",
    "                type=type,\n",
    "                )\n",
    "            n += 1\n",
    "            hist[type].append(score)\n",
    "    return mpd\n",
    "\n",
    "mpd_data = calc_pattern_similarity(weightdb)\n"
   ]
  },
  {
   "cell_type": "code",
   "execution_count": null,
   "metadata": {},
   "outputs": [],
   "source": [
    "\n",
    "for i in range(n_random):\n",
    "    print(i)\n",
    "    random.seed(i)\n",
    "    weightdb_random = weightdb.randomize_connectivity(type='postsyn')\n",
    "    mpd_random = calc_pattern_similarity(weightdb_random, type='Random')\n"
   ]
  },
  {
   "cell_type": "code",
   "execution_count": 6,
   "metadata": {},
   "outputs": [],
   "source": [
    "# dump shuffled data\n",
    "import compress_pickle\n",
    "\n",
    "fout_name = f'{script_n}_max_dist_{max_dist}_min_length_{min_length}_n_{n_random}_hist_random.gz'\n",
    "compress_pickle.dump(hist['Random'], fout_name)\n",
    "\n",
    "fout_name = f'{script_n}_max_dist_{max_dist}_min_length_{min_length}_hist_data.gz'\n",
    "compress_pickle.dump(hist['Data'], fout_name)"
   ]
  },
  {
   "cell_type": "code",
   "execution_count": 3,
   "metadata": {},
   "outputs": [
    {
     "name": "stdout",
     "output_type": "stream",
     "text": [
      "Ttest_indResult(statistic=3.0002396418822963, pvalue=0.002702221406676858)\n",
      "RanksumsResult(statistic=2.0894433162349513, pvalue=0.036667835451747656)\n",
      "MannwhitneyuResult(statistic=5071143.0, pvalue=0.01833027196140502)\n",
      "KstestResult(statistic=0.04145114942528738, pvalue=0.19910670383515738)\n"
     ]
    }
   ],
   "source": [
    "\n",
    "\n",
    "import scipy\n",
    "fout_name = f'{script_n}_max_dist_{max_dist}_min_length_{min_length}_n_{n_random}'\n",
    "with open(f'{script_n}_results', 'w') as fout:\n",
    "    for foutt in [fout, sys.stdout]:\n",
    "        print(scipy.stats.ttest_ind(hist['Data'], hist['Random']), file=foutt)\n",
    "        print(scipy.stats.ranksums(hist['Data'], hist['Random']), file=foutt)\n",
    "        print(scipy.stats.mannwhitneyu(hist['Data'], hist['Random'], alternative='greater'), file=foutt)\n",
    "        print(scipy.stats.ks_2samp(hist['Data'], hist['Random']), file=foutt)\n"
   ]
  },
  {
   "cell_type": "code",
   "execution_count": 4,
   "metadata": {},
   "outputs": [
    {
     "name": "stdout",
     "output_type": "stream",
     "text": [
      "Height: 4, Aspect: 1.0\n"
     ]
    },
    {
     "data": {
      "image/png": "[encoded data removed]",
      "text/plain": [
       "<Figure size 288x288 with 1 Axes>"
      ]
     },
     "metadata": {},
     "output_type": "display_data"
    },
    {
     "name": "stdout",
     "output_type": "stream",
     "text": [
      "Height: 4, Aspect: 1.33\n"
     ]
    },
    {
     "data": {
      "image/png": "[encoded data removed]",
      "text/plain": [
       "<Figure size 485.81x288 with 1 Axes>"
      ]
     },
     "metadata": {},
     "output_type": "display_data"
    }
   ],
   "source": [
    "\n",
    "mpd_all = MyPlotData()\n",
    "mpd_all.append(mpd_data)\n",
    "mpd_all.append(mpd_random)\n",
    "\n",
    "importlib.reload(my_plot); my_plot.my_catplot(\n",
    "    mpd_all,\n",
    "    x=\"type\",\n",
    "    y=\"score\",\n",
    "    # hue=\"type\",\n",
    "    # hue_order=['All', 'Per PC', 'Per pf'],\n",
    "    # hue_order=['All', 'Per PC'],\n",
    "    ylim=[.30, .70],\n",
    "    context='paper',\n",
    "    kind='box',\n",
    "    # add_swarm=True,\n",
    "    # font_scale=1.5,\n",
    "    height=4,\n",
    "    width=4,\n",
    "    y_axis_label='Similarity (%)',\n",
    "    # x_axis_label='# of synapses per connection',\n",
    "    save_filename=f'{script_n}_max_dist_{max_dist}_min_length_{min_length}.svg',\n",
    "    show=True,\n",
    "    )\n",
    "\n",
    "\n",
    "importlib.reload(my_plot); my_plot.my_displot(\n",
    "    mpd_all,\n",
    "    # x=\"num_syns_per_connection\",\n",
    "    x=\"score\",\n",
    "    hue=\"type\",\n",
    "    # hue_order=['All', 'Per PC', 'Per pf'],\n",
    "    # hue_order=['All', 'Per PC'],\n",
    "    # ylim=[.30, .70],\n",
    "    context='paper',\n",
    "    kind='hist',\n",
    "    # add_swarm=True,\n",
    "    # font_scale=1.5,\n",
    "    height=4,\n",
    "    binwidth=.02,\n",
    "    # width=2.5,\n",
    "    # y_axis_label='Similarity (%)',\n",
    "    x_axis_label='Similarity (%)',\n",
    "    save_filename=f'{script_n}_max_dist_{max_dist}_min_length_{min_length}_dist.svg',\n",
    "    show=True,\n",
    "    )\n"
   ]
  }
 ],
 "metadata": {
  "kernelspec": {
   "display_name": "Python 3",
   "language": "python",
   "name": "python3"
  },
  "language_info": {
   "codemirror_mode": {
    "name": "ipython",
    "version": 3
   },
   "file_extension": ".py",
   "mimetype": "text/x-python",
   "name": "python",
   "nbconvert_exporter": "python",
   "pygments_lexer": "ipython3",
   "version": "3.8.10"
  }
 },
 "nbformat": 4,
 "nbformat_minor": 4
}
