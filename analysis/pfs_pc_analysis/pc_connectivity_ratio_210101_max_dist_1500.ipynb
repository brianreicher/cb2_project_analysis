{
 "cells": [
  {
   "cell_type": "code",
   "execution_count": 4,
   "metadata": {},
   "outputs": [
    {
     "name": "stdout",
     "output_type": "stream",
     "text": [
      "pc_7\n",
      "n_total: 1141, n_connected: 432, ratio: 37.86152497808939, \n",
      "pc_21\n",
      "n_total: 1052, n_connected: 525, ratio: 49.90494296577947, \n",
      "purkinje_0\n",
      "n_total: 2329, n_connected: 1034, ratio: 44.39673679690854, \n",
      "pc_28\n",
      "n_total: 3337, n_connected: 1264, ratio: 37.87833383278394, \n",
      "pc_9\n",
      "n_total: 3340, n_connected: 1443, ratio: 43.203592814371255, \n",
      "pc_18\n",
      "n_total: 2164, n_connected: 854, ratio: 39.46395563770795, \n",
      "pc_27\n",
      "n_total: 1155, n_connected: 359, ratio: 31.082251082251084, \n",
      "pc_4\n",
      "n_total: 1350, n_connected: 665, ratio: 49.25925925925926, \n",
      "pc_32\n",
      "n_total: 2033, n_connected: 820, ratio: 40.33448106246926, \n",
      "pc_1\n",
      "n_total: 1707, n_connected: 721, ratio: 42.23784417106034, \n",
      "pc_15\n",
      "n_total: 3331, n_connected: 1425, ratio: 42.77994596217352, \n",
      "pc_16\n",
      "n_total: 3089, n_connected: 1321, ratio: 42.76464875364196, \n",
      "pc_19\n",
      "n_total: 2335, n_connected: 992, ratio: 42.48394004282655, \n",
      "pc_50\n",
      "n_total: 1105, n_connected: 472, ratio: 42.71493212669683, \n",
      "pc_17\n",
      "n_total: 1716, n_connected: 721, ratio: 42.01631701631702, \n",
      "purkinje_1\n",
      "n_total: 2562, n_connected: 1097, ratio: 42.81811085089773, \n",
      "Num samples: 16\n"
     ]
    }
   ],
   "source": [
    "import collections\n",
    "from collections import defaultdict\n",
    "import sys\n",
    "import json\n",
    "import random\n",
    "from jsmin import jsmin\n",
    "from io import StringIO\n",
    "import numpy as np\n",
    "import copy\n",
    "import importlib\n",
    "from functools import partial\n",
    "import math\n",
    "import os\n",
    "import argparse\n",
    "\n",
    "# script_n = os.path.basename(__file__).split('.')[0]\n",
    "script_n = 'pc_connectivity_ratio_210101_max_dist_1500'\n",
    "\n",
    "sys.path.insert(0, '/n/groups/htem/Segmentation/shared-nondev/cb2_segmentation/analysis_mf_grc')\n",
    "import my_plot\n",
    "importlib.reload(my_plot)\n",
    "from my_plot import MyPlotData\n",
    "\n",
    "\n",
    "\n",
    "# ap = argparse.ArgumentParser()\n",
    "# ap.add_argument(\"--max_dist\", type=int, default=200)\n",
    "# ap.add_argument(\"--threshold\", type=int, default=100)\n",
    "# config = ap.parse_args()\n",
    "config_max_dist = 1500\n",
    "config_threshold = 1000\n",
    "\n",
    "\n",
    "\n",
    "from weight_database import WeightDatabase\n",
    "weightdb = WeightDatabase()\n",
    "\n",
    "# weightdb.load_syn_db('/n/groups/htem/Segmentation/shared-nondev/cb2_segmentation/analysis_mf_grc/gen_db/pfs/gen_201224_setup01_syndb_threshold_10_coalesced.gz')\n",
    "weightdb.load_syn_db('/n/groups/htem/Segmentation/shared-nondev/cb2_segmentation/analysis_mf_grc/gen_db/pfs/gen_210101_setup01_syndb_threshold_10_coalesced_filtered_10.gz')\n",
    "weightdb.load_touch_db(\n",
    "    '/n/groups/htem/Segmentation/shared-nondev/cb2_segmentation/analysis_mf_grc/purkinje/db_pf_contacts_201224.gz',\n",
    "    max_dist=config_max_dist\n",
    "    )\n",
    "\n",
    "\n",
    "postsyns = weightdb.get_postsyn_ids()\n",
    "\n",
    "\n",
    "\n",
    "mpd = MyPlotData()\n",
    "\n",
    "n = 0\n",
    "for postsyn in postsyns:\n",
    "    n_total = len(weightdb.get_total_connections(postsyn))\n",
    "    n_connected = len(weightdb.get_connections(postsyn))\n",
    "    if n_total >= config_threshold:\n",
    "        ratio = n_connected/n_total*100\n",
    "        print(postsyn)\n",
    "        print(f'n_total: {n_total}', end=', ')\n",
    "        print(f'n_connected: {n_connected}', end=', ')\n",
    "        print(f'ratio: {ratio}', end=', ')\n",
    "        print()\n",
    "        n += 1\n",
    "        mpd.add_data_point(\n",
    "            ratio=ratio,\n",
    "            )\n",
    "print(f'Num samples: {n}')\n"
   ]
  },
  {
   "cell_type": "code",
   "execution_count": 6,
   "metadata": {},
   "outputs": [
    {
     "name": "stdout",
     "output_type": "stream",
     "text": [
      "Height: 4, Aspect: 0.625\n"
     ]
    },
    {
     "data": {
      "image/png": "[encoded data removed]",
      "text/plain": [
       "<Figure size 180x288 with 1 Axes>"
      ]
     },
     "metadata": {},
     "output_type": "display_data"
    }
   ],
   "source": [
    "\n",
    "importlib.reload(my_plot); my_plot.my_catplot(\n",
    "    mpd,\n",
    "    # x=\"num_syns_per_connection\",\n",
    "    y=\"ratio\",\n",
    "    # hue=\"type\",\n",
    "    # hue_order=['All', 'Per PC', 'Per pf'],\n",
    "    # hue_order=['All', 'Per PC'],\n",
    "    ylim=[15, 65],\n",
    "    context='paper',\n",
    "    kind='box',\n",
    "    add_swarm=True,\n",
    "    # font_scale=1.5,\n",
    "    height=4,\n",
    "    width=2.5,\n",
    "    y_axis_label='Connection Ratio (%)',\n",
    "    # x_axis_label='# of synapses per connection',\n",
    "    save_filename=f'{script_n}_max_dist_{config_max_dist}_threshold_{config_threshold}.svg',\n",
    "    show=True,\n",
    "    )"
   ]
  }
 ],
 "metadata": {
  "kernelspec": {
   "display_name": "Python 3",
   "language": "python",
   "name": "python3"
  },
  "language_info": {
   "codemirror_mode": {
    "name": "ipython",
    "version": 3
   },
   "file_extension": ".py",
   "mimetype": "text/x-python",
   "name": "python",
   "nbconvert_exporter": "python",
   "pygments_lexer": "ipython3",
   "version": "3.8.5"
  }
 },
 "nbformat": 4,
 "nbformat_minor": 4
}
