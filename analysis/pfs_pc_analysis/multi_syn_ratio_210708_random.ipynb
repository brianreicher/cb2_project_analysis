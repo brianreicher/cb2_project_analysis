{
 "cells": [
  {
   "cell_type": "code",
   "execution_count": 1,
   "metadata": {},
   "outputs": [
    {
     "name": "stdout",
     "output_type": "stream",
     "text": [
      "1: 14760\n",
      "2: 4136\n",
      "3: 921\n",
      "4: 161\n",
      "5: 31\n",
      "6: 3\n",
      "7: 2\n",
      "8: 1\n",
      "Height: 4, Aspect: 1.33\n"
     ]
    },
    {
     "data": {
      "image/png": "[encoded data removed]",
      "text/plain": [
       "<Figure size 383.04x288 with 1 Axes>"
      ]
     },
     "metadata": {},
     "output_type": "display_data"
    }
   ],
   "source": [
    "import collections\n",
    "from collections import defaultdict\n",
    "import sys\n",
    "import json\n",
    "import random\n",
    "from jsmin import jsmin\n",
    "from io import StringIO\n",
    "import numpy as np\n",
    "import copy\n",
    "import importlib\n",
    "from functools import partial\n",
    "import math\n",
    "import os\n",
    "import random\n",
    "import compress_pickle\n",
    "\n",
    "# script_n = os.path.basename(__file__).split('.')[0]\n",
    "script_n = 'multi_syn_ratio_210708_random'\n",
    "\n",
    "\n",
    "sys.path.insert(0, '/n/groups/htem/Segmentation/shared-nondev/cb2_segmentation/analysis_mf_grc')\n",
    "import my_plot\n",
    "importlib.reload(my_plot)\n",
    "from my_plot import MyPlotData\n",
    "\n",
    "from weight_database import WeightDatabase\n",
    "weightdb = WeightDatabase()\n",
    "\n",
    "gzdb = '/n/groups/htem/Segmentation/shared-nondev/cb2_segmentation/analysis_mf_grc/gen_db/pfs/' \\\n",
    "       'gen_210429_setup01_syndb_threshold_10_coalesced.gz'\n",
    "#        'gen_201224_setup01_syndb_threshold_10_coalesced'\n",
    "\n",
    "def weight_fn(syn):\n",
    "    return 1\n",
    "\n",
    "weightdb.load_syn_db(gzdb, weight_fn=weight_fn)\n",
    "mpd = MyPlotData()\n",
    "mpd_raw = MyPlotData()\n",
    "hist = defaultdict(int)\n",
    "weights_db = weightdb.get_weights()\n",
    "\n",
    "for neuron, pc_weights in weights_db.items():\n",
    "    # print(n)\n",
    "    for pc, weights in pc_weights.items():\n",
    "        mpd_raw.add_data_point(\n",
    "            num_syns=len(weights),\n",
    "            group='Data')\n",
    "        hist[len(weights)] += 1\n",
    "\n",
    "# print(hist)\n",
    "for k in sorted([k for k in hist.keys()]):\n",
    "    print(f'{k}: {hist[k]}')\n",
    "    mpd.add_data_point(\n",
    "        count=hist[k],\n",
    "        num_syns=k,\n",
    "        group='Data',\n",
    "    )\n",
    "mpd.add_pdf(key='count')\n",
    "    \n",
    "importlib.reload(my_plot); my_plot.my_displot(\n",
    "    mpd_raw,\n",
    "    x=\"num_syns\",\n",
    "    kind='hist',\n",
    "    stat='probability',\n",
    "    discrete=True,\n",
    "    context='paper',\n",
    "    height=4,\n",
    "    y_axis_label='Distribution',\n",
    "    x_axis_label='Synapses per pf-PC connection',\n",
    "    show=True,\n",
    "    save_filename=f'{script_n}_hist.svg',\n",
    "    )\n"
   ]
  },
  {
   "cell_type": "code",
   "execution_count": 2,
   "metadata": {},
   "outputs": [],
   "source": [
    "\n",
    "syn_pf_dist_db = compress_pickle.load('/n/groups/htem/Segmentation/shared-nondev/cb2_segmentation/analysis_mf_grc/gen_db/' \\\n",
    "                                      'pfs_mesh_locs/syn_pf_distance_db_210707.gz')\n",
    "pf_pc_db = compress_pickle.load(gzdb)\n"
   ]
  },
  {
   "cell_type": "code",
   "execution_count": 152,
   "metadata": {},
   "outputs": [
    {
     "name": "stdout",
     "output_type": "stream",
     "text": [
      "1: 11009\n",
      "2: 2770\n",
      "3: 641\n",
      "4: 92\n",
      "5: 26\n",
      "6: 6\n",
      "multi_syn_ratio_210708_random_ignored_syn_locs_1500_6.gz\n"
     ]
    }
   ],
   "source": [
    "# load syn to pf dist database\n",
    "max_dist = 1500\n",
    "min_pfs = 6\n",
    "\n",
    "if False:\n",
    "    import compress_pickle\n",
    "    syn_pf_dist_db = compress_pickle.load('/n/groups/htem/Segmentation/shared-nondev/cb2_segmentation/analysis_mf_grc/gen_db/' \\\n",
    "                                          'pfs_mesh_locs/syn_pf_distance_db_210707.gz')\n",
    "    pf_pc_db = compress_pickle.load(gzdb)\n",
    "success_count = 0\n",
    "fail_count = 0\n",
    "ignored_syn_locs = []\n",
    "\n",
    "pc_pf_count = defaultdict(lambda: defaultdict(int))\n",
    "for pf in pf_pc_db:\n",
    "    for pc in pf_pc_db[pf]:\n",
    "        for syn in pf_pc_db[pf][pc]:\n",
    "#             print(syn)\n",
    "            syn_loc = syn['syn_loc']\n",
    "            if syn_loc not in syn_pf_dist_db:\n",
    "                fail_count += 1\n",
    "                ignored_syn_locs.append(syn_loc)\n",
    "                continue\n",
    "            pfs = syn_pf_dist_db[syn_loc]\n",
    "            within_dist = [pf for pf, attr in pfs.items() if attr[0] <= max_dist]\n",
    "            if len(within_dist) == 0:\n",
    "                ignored_syn_locs.append(syn_loc)\n",
    "                continue\n",
    "#                 print(syn_loc)\n",
    "#                 print(pfs)\n",
    "#                 print(success_count)\n",
    "            if len(within_dist) < min_pfs:\n",
    "                ignored_syn_locs.append(syn_loc)\n",
    "                continue\n",
    "            random_pf = random.choice(within_dist)\n",
    "            pc_pf_count[pc][random_pf] += 1\n",
    "            success_count += 1\n",
    "#             asdf\n",
    "\n",
    "random_hist = defaultdict(int)\n",
    "mpd_raw_random = MyPlotData()\n",
    "for pc in pc_pf_count:\n",
    "    for pf in pc_pf_count[pc]:\n",
    "        n_syns = pc_pf_count[pc][pf]\n",
    "        random_hist[n_syns] += 1\n",
    "        mpd_raw_random.add_data_point(\n",
    "            num_syns=n_syns,\n",
    "            group='Random')\n",
    "\n",
    "mpd_random = MyPlotData()\n",
    "for k in sorted([k for k in random_hist.keys()]):\n",
    "    print(f'{k}: {random_hist[k]}')\n",
    "    mpd_random.add_data_point(\n",
    "        num_syns=k,\n",
    "        count=random_hist[k],\n",
    "        group='Random',\n",
    "    )\n",
    "mpd_random.add_pdf(key='count')\n",
    "\n",
    "fout = f'{script_n}_ignored_syn_locs_{max_dist}_{min_pfs}.gz'\n",
    "if not os.path.isfile(fout):\n",
    "    compress_pickle.dump(ignored_syn_locs, fout)\n",
    "    print(fout)"
   ]
  },
  {
   "cell_type": "code",
   "execution_count": 153,
   "metadata": {},
   "outputs": [
    {
     "name": "stdout",
     "output_type": "stream",
     "text": [
      "0..1..2..3..4..5..6..7..8..9..10..11..12..13..14..15..16..17..18..19..20..21..22..23..24..25..26..27..28..29..30..31..32..33..34..35..36..37..38..39..40..41..42..43..44..45..46..47..48..49..50..51..52..53..54..55..56..57..58..59..60..61..62..63..64..65..66..67..68..69..70..71..72..73..74..75..76..77..78..79.."
     ]
    }
   ],
   "source": [
    "n_random = 80\n",
    "max_dist = 1500\n",
    "min_pfs = 6\n",
    "raw_count = defaultdict(list)\n",
    "for n in range(n_random):\n",
    "    success_count = 0\n",
    "    fail_count = 0\n",
    "    ignored_syn_locs = []\n",
    "\n",
    "    pc_pf_count = defaultdict(lambda: defaultdict(int))\n",
    "    for pf in pf_pc_db:\n",
    "        for pc in pf_pc_db[pf]:\n",
    "            for syn in pf_pc_db[pf][pc]:\n",
    "    #             print(syn)\n",
    "                syn_loc = syn['syn_loc']\n",
    "                if syn_loc not in syn_pf_dist_db:\n",
    "                    fail_count += 1\n",
    "                    ignored_syn_locs.append(syn_loc)\n",
    "                    continue\n",
    "                pfs = syn_pf_dist_db[syn_loc]\n",
    "                within_dist = [pf for pf, attr in pfs.items() if attr[0] <= max_dist]\n",
    "                if len(within_dist) == 0:\n",
    "                    ignored_syn_locs.append(syn_loc)\n",
    "                    continue\n",
    "    #                 print(syn_loc)\n",
    "    #                 print(pfs)\n",
    "    #                 print(success_count)\n",
    "                if len(within_dist) < min_pfs:\n",
    "                    ignored_syn_locs.append(syn_loc)\n",
    "                    continue\n",
    "                random_pf = random.choice(within_dist)\n",
    "                pc_pf_count[pc][random_pf] += 1\n",
    "                success_count += 1\n",
    "    #             asdf\n",
    "\n",
    "    random_hist = defaultdict(int)\n",
    "    for pc in pc_pf_count:\n",
    "        for pf in pc_pf_count[pc]:\n",
    "            n_syns = pc_pf_count[pc][pf]\n",
    "            random_hist[n_syns] += 1\n",
    "    \n",
    "    for i in range(10):\n",
    "        raw_count[i].append(random_hist[i])\n",
    "    print(n, end='..')\n"
   ]
  },
  {
   "cell_type": "code",
   "execution_count": 154,
   "metadata": {},
   "outputs": [
    {
     "name": "stdout",
     "output_type": "stream",
     "text": [
      "multi_syn_ratio_210708_random_hist_1500_6.gz\n"
     ]
    }
   ],
   "source": [
    "fout = f'{script_n}_hist_{max_dist}_{min_pfs}.gz'\n",
    "compress_pickle.dump(raw_count, fout)\n",
    "print(fout)"
   ]
  },
  {
   "cell_type": "code",
   "execution_count": 5,
   "metadata": {},
   "outputs": [
    {
     "name": "stdout",
     "output_type": "stream",
     "text": [
      "Height: 4, Aspect: 1.33\n"
     ]
    },
    {
     "data": {
      "image/png": "[encoded data removed]",
      "text/plain": [
       "<Figure size 485.81x288 with 1 Axes>"
      ]
     },
     "metadata": {},
     "output_type": "display_data"
    },
    {
     "data": {
      "text/plain": [
       "<seaborn.axisgrid.FacetGrid at 0x7feca067be80>"
      ]
     },
     "execution_count": 5,
     "metadata": {},
     "output_type": "execute_result"
    }
   ],
   "source": [
    "mpd_all = MyPlotData()\n",
    "mpd_all.append(mpd_random)\n",
    "mpd_all.append(mpd)\n",
    "\n",
    "importlib.reload(my_plot); my_plot.my_relplot(\n",
    "    mpd_all,\n",
    "    x=\"num_syns\",\n",
    "    y=\"count_pdf\",\n",
    "    hue=\"group\",\n",
    "    kind='line',\n",
    "#     stat='probability',\n",
    "#     discrete=True,\n",
    "    context='paper',\n",
    "    height=4,\n",
    "    y_axis_label='Distribution',\n",
    "    x_axis_label='Synapses per pf-PC connection',\n",
    "    show=True,\n",
    "    save_filename=f'{script_n}_random_{max_dist}_{min_pfs}.svg',\n",
    "    )\n",
    "\n"
   ]
  },
  {
   "cell_type": "markdown",
   "metadata": {},
   "source": [
    "raw_count[1]"
   ]
  },
  {
   "cell_type": "code",
   "execution_count": null,
   "metadata": {},
   "outputs": [],
   "source": []
  },
  {
   "cell_type": "code",
   "execution_count": null,
   "metadata": {},
   "outputs": [],
   "source": [
    "mpd_all = MyPlotData()\n",
    "mpd_all.append(mpd_raw_random)\n",
    "mpd_all.append(mpd_raw)\n",
    "\n",
    "importlib.reload(my_plot); my_plot.my_relplot(\n",
    "    mpd_all,\n",
    "    x=\"num_syns\",\n",
    "    hue=\"group\",\n",
    "    kind='line',\n",
    "    stat='probability',\n",
    "    discrete=True,\n",
    "    context='paper',\n",
    "    height=4,\n",
    "    y_axis_label='Distribution',\n",
    "    x_axis_label='Synapses per pf-PC connection',\n",
    "    show=True,\n",
    "    save_filename=f'{script_n}_hist.svg',\n",
    "    )\n",
    "\n"
   ]
  }
 ],
 "metadata": {
  "kernelspec": {
   "display_name": "Python 3",
   "language": "python",
   "name": "python3"
  },
  "language_info": {
   "codemirror_mode": {
    "name": "ipython",
    "version": 3
   },
   "file_extension": ".py",
   "mimetype": "text/x-python",
   "name": "python",
   "nbconvert_exporter": "python",
   "pygments_lexer": "ipython3",
   "version": "3.8.5"
  }
 },
 "nbformat": 4,
 "nbformat_minor": 4
}
