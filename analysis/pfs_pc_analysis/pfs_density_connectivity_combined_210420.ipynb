{
 "cells": [
  {
   "cell_type": "code",
   "execution_count": 1,
   "metadata": {},
   "outputs": [
    {
     "name": "stdout",
     "output_type": "stream",
     "text": [
      "n=47\n"
     ]
    }
   ],
   "source": [
    "import collections\n",
    "from collections import defaultdict\n",
    "import sys\n",
    "import json\n",
    "import random\n",
    "from jsmin import jsmin\n",
    "from io import StringIO\n",
    "import numpy as np\n",
    "import copy\n",
    "import importlib\n",
    "from functools import partial\n",
    "import math\n",
    "import os\n",
    "import argparse\n",
    "\n",
    "script_n = 'pfs_density_connectivity_combined_210420'\n",
    "\n",
    "sys.path.insert(0, '/n/groups/htem/Segmentation/shared-nondev/cb2_segmentation/analysis_mf_grc')\n",
    "import my_plot\n",
    "importlib.reload(my_plot)\n",
    "from my_plot import MyPlotData\n",
    "\n",
    "import compress_pickle\n",
    "db_f = '/n/groups/htem/Segmentation/shared-nondev/cb2_segmentation/analysis_mf_grc/pfs_density_db_210306.gz'\n",
    "pf_db = compress_pickle.load(db_f)\n",
    "\n",
    "mpd = MyPlotData()\n",
    "n = 0\n",
    "\n",
    "for block in pf_db:\n",
    "    if 'density' not in pf_db[block]:\n",
    "        continue\n",
    "    if block == 'x84y50':\n",
    "        continue\n",
    "    mpd.add_data_point(\n",
    "        y=pf_db[block]['y_dist'],\n",
    "        density=pf_db[block]['density'],\n",
    "    )\n",
    "    n+=1\n",
    "\n",
    "print(f'n={n}')\n"
   ]
  },
  {
   "cell_type": "code",
   "execution_count": 2,
   "metadata": {},
   "outputs": [],
   "source": [
    "import collections\n",
    "from collections import defaultdict\n",
    "import sys\n",
    "import json\n",
    "import random\n",
    "from jsmin import jsmin\n",
    "from io import StringIO\n",
    "import numpy as np\n",
    "import copy\n",
    "import importlib\n",
    "from functools import partial\n",
    "import math\n",
    "import os\n",
    "import argparse\n",
    "\n",
    "# script_n = 'pfs_connectivity_ratio_210306'\n",
    "\n",
    "sys.path.insert(0, '/n/groups/htem/Segmentation/shared-nondev/cb2_segmentation/analysis_mf_grc')\n",
    "import my_plot\n",
    "importlib.reload(my_plot)\n",
    "from my_plot import MyPlotData\n",
    "\n",
    "max_dist = 150\n",
    "threshold = 6\n",
    "\n",
    "from weight_database import WeightDatabase\n",
    "weightdb = WeightDatabase()\n",
    "\n",
    "# weightdb.load_syn_db('/n/groups/htem/Segmentation/shared-nondev/cb2_segmentation/analysis_mf_grc/gen_db/pfs/gen_201224_setup01_syndb_threshold_10_coalesced.gz')\n",
    "weightdb.load_syn_db('/n/groups/htem/Segmentation/shared-nondev/cb2_segmentation/analysis_mf_grc/gen_db/pfs/gen_210101_setup01_syndb_threshold_10_coalesced_filtered_10.gz')\n",
    "weightdb.load_touch_db(\n",
    "    '/n/groups/htem/Segmentation/shared-nondev/cb2_segmentation/analysis_mf_grc/purkinje/db_pf_contacts_201224.gz',\n",
    "    max_dist=max_dist\n",
    "    )"
   ]
  },
  {
   "cell_type": "code",
   "execution_count": 10,
   "metadata": {},
   "outputs": [
    {
     "name": "stdout",
     "output_type": "stream",
     "text": [
      "n_pfs = 4420\n"
     ]
    }
   ],
   "source": [
    "import compress_pickle\n",
    "db_f = '/n/groups/htem/Segmentation/shared-nondev/cb2_segmentation/analysis_mf_grc/pfs_density_db_210306.gz'\n",
    "pf_db = compress_pickle.load(db_f)\n",
    "\n",
    "mpd = MyPlotData()\n",
    "n_pfs = 0\n",
    "avgs = []\n",
    "densities = []\n",
    "\n",
    "for block in pf_db:\n",
    "    block_pfs = pf_db[block]['pfs']\n",
    "    if len(block_pfs) == 0:\n",
    "        continue\n",
    "    rates = []\n",
    "    for pf in block_pfs:\n",
    "        n_pfs += 1\n",
    "        rate = weightdb.calc_connection_rate(pf)\n",
    "        rates.append(rate)\n",
    "    avg = sum(rates) / len(rates)\n",
    "    avgs.append(avg)\n",
    "    densities.append(pf_db[block]['density'])\n",
    "#     print(f'{block}: {avg}')\n",
    "    mpd.add_data_point(\n",
    "        y=pf_db[block]['y_dist'],\n",
    "        rate=avg*100,\n",
    "        density=pf_db[block]['density'],\n",
    "    )\n",
    "\n",
    "print(f'n_pfs = {n_pfs}')"
   ]
  },
  {
   "cell_type": "code",
   "execution_count": 4,
   "metadata": {},
   "outputs": [
    {
     "ename": "SyntaxError",
     "evalue": "invalid syntax (<ipython-input-4-e04334150dd7>, line 1)",
     "output_type": "error",
     "traceback": [
      "\u001b[0;36m  File \u001b[0;32m\"<ipython-input-4-e04334150dd7>\"\u001b[0;36m, line \u001b[0;32m1\u001b[0m\n\u001b[0;31m    average density: 3.7030876767301093\u001b[0m\n\u001b[0m            ^\u001b[0m\n\u001b[0;31mSyntaxError\u001b[0m\u001b[0;31m:\u001b[0m invalid syntax\n"
     ]
    }
   ],
   "source": [
    "average density: 3.7030876767301093\n",
    "average density: 3.7260130709318986"
   ]
  },
  {
   "cell_type": "code",
   "execution_count": 12,
   "metadata": {},
   "outputs": [
    {
     "name": "stdout",
     "output_type": "stream",
     "text": [
      "3.726013070931898\n",
      "1.2253857820155172\n"
     ]
    }
   ],
   "source": [
    "import statistics\n",
    "print(statistics.mean(densities))\n",
    "print(statistics.stdev(densities))"
   ]
  },
  {
   "cell_type": "code",
   "execution_count": 5,
   "metadata": {},
   "outputs": [
    {
     "ename": "NameError",
     "evalue": "name 'df' is not defined",
     "output_type": "error",
     "traceback": [
      "\u001b[0;31m---------------------------------------------------------------------------\u001b[0m",
      "\u001b[0;31mNameError\u001b[0m                                 Traceback (most recent call last)",
      "\u001b[0;32m<ipython-input-5-02d517d6105a>\u001b[0m in \u001b[0;36m<module>\u001b[0;34m\u001b[0m\n\u001b[1;32m      1\u001b[0m \u001b[0;32mimport\u001b[0m \u001b[0mmatplotlib\u001b[0m\u001b[0;34m.\u001b[0m\u001b[0mpyplot\u001b[0m \u001b[0;32mas\u001b[0m \u001b[0mplt\u001b[0m\u001b[0;34m\u001b[0m\u001b[0;34m\u001b[0m\u001b[0m\n\u001b[1;32m      2\u001b[0m \u001b[0;32mimport\u001b[0m \u001b[0mseaborn\u001b[0m \u001b[0;32mas\u001b[0m \u001b[0msns\u001b[0m\u001b[0;34m\u001b[0m\u001b[0;34m\u001b[0m\u001b[0m\n\u001b[0;32m----> 3\u001b[0;31m sns.lineplot(data=df, x='y', y='density', color=\"g\",\n\u001b[0m\u001b[1;32m      4\u001b[0m \u001b[0;31m#             ylim=[0, 8],\u001b[0m\u001b[0;34m\u001b[0m\u001b[0;34m\u001b[0m\u001b[0;34m\u001b[0m\u001b[0m\n\u001b[1;32m      5\u001b[0m \u001b[0;34m\u001b[0m\u001b[0m\n",
      "\u001b[0;31mNameError\u001b[0m: name 'df' is not defined"
     ]
    }
   ],
   "source": [
    "import matplotlib.pyplot as plt\n",
    "import seaborn as sns\n",
    "sns.lineplot(data=df, x='y', y='density', color=\"g\",\n",
    "#             ylim=[0, 8],\n",
    "            \n",
    "            )\n",
    "ax2 = plt.twinx()\n",
    "sns.lineplot(data=df, x='y', y='rate', color=\"b\", ax=ax2)"
   ]
  },
  {
   "cell_type": "code",
   "execution_count": 6,
   "metadata": {},
   "outputs": [
    {
     "name": "stdout",
     "output_type": "stream",
     "text": [
      "Height: 3.007518796992481, Aspect: 1.33\n",
      "Height: 3.007518796992481, Aspect: 1.33\n"
     ]
    },
    {
     "data": {
      "image/png": "[encoded data removed]",
      "text/plain": [
       "<Figure size 239.76x216 with 2 Axes>"
      ]
     },
     "metadata": {
      "needs_background": "light"
     },
     "output_type": "display_data"
    }
   ],
   "source": [
    "import matplotlib.pyplot as plt\n",
    "import seaborn as sns\n",
    "\n",
    "\n",
    "script_n = 'pfs_density_connectivity_combined_210420'\n",
    "\n",
    "plt.subplots(figsize=(3.33, 3))\n",
    "\n",
    "importlib.reload(my_plot); ax = my_plot.my_lineplot(\n",
    "    mpd,\n",
    "    x=\"y\",\n",
    "    y=\"density\",\n",
    "    color=sns.color_palette()[0],\n",
    "    ylim=[0, 8],\n",
    "    context='paper',\n",
    "    width=4,\n",
    "    y_axis_label='pfs per µm$\\mathregular{^{2}}$',\n",
    "    x_axis_label='Molecular layer height (µm*1000)',\n",
    "    save_filename=f'{script_n}_line.svg',\n",
    "    no_show=True,\n",
    ")\n",
    "ax2 = plt.twinx()\n",
    "importlib.reload(my_plot); my_plot.my_lineplot(\n",
    "    mpd,\n",
    "    x=\"y\",\n",
    "    y=\"rate\",\n",
    "    color=sns.color_palette()[1],\n",
    "    ylim=[0, 100],\n",
    "    context='paper',\n",
    "    width=4,\n",
    "    ax=ax2,\n",
    "#     legend=True,\n",
    "    y_axis_label='pf-PC conn. rate (%)',\n",
    "    x_axis_label='Molecular layer height (µm*1000)',\n",
    "    save_filename=f'{script_n}_line.svg',\n",
    "#     show=True,\n",
    "    no_show=True,\n",
    ")\n",
    "# ax.figure.legend()\n",
    "# plt.legend()\n",
    "\n",
    "import matplotlib.patches as mpatches\n",
    "red_patch = mpatches.Patch(color=sns.color_palette()[0], label='Density')\n",
    "black_patch = mpatches.Patch(color=sns.color_palette()[1], label='Conn. rate')\n",
    "# plt.legend(handles=[red_patch, black_patch])\n",
    "plt.legend(loc='top right', frameon=False, fontsize=12, handles=[red_patch, black_patch])\n",
    "# plt.legend(labels=['legendEntry1', 'legendEntry2'])\n",
    "\n",
    "plt.savefig(f'{script_n}_line.svg', bbox_inches='tight', transparent=True)\n",
    "plt.show()\n",
    "plt.close()"
   ]
  },
  {
   "cell_type": "code",
   "execution_count": 7,
   "metadata": {},
   "outputs": [
    {
     "ename": "NameError",
     "evalue": "name 'df' is not defined",
     "output_type": "error",
     "traceback": [
      "\u001b[0;31m---------------------------------------------------------------------------\u001b[0m",
      "\u001b[0;31mNameError\u001b[0m                                 Traceback (most recent call last)",
      "\u001b[0;32m<ipython-input-7-1c4de1bedde8>\u001b[0m in \u001b[0;36m<module>\u001b[0;34m\u001b[0m\n\u001b[0;32m----> 1\u001b[0;31m \u001b[0mdf\u001b[0m\u001b[0;34m.\u001b[0m\u001b[0my\u001b[0m\u001b[0;34m\u001b[0m\u001b[0;34m\u001b[0m\u001b[0m\n\u001b[0m",
      "\u001b[0;31mNameError\u001b[0m: name 'df' is not defined"
     ]
    }
   ],
   "source": [
    "df.y"
   ]
  }
 ],
 "metadata": {
  "kernelspec": {
   "display_name": "Python 3",
   "language": "python",
   "name": "python3"
  },
  "language_info": {
   "codemirror_mode": {
    "name": "ipython",
    "version": 3
   },
   "file_extension": ".py",
   "mimetype": "text/x-python",
   "name": "python",
   "nbconvert_exporter": "python",
   "pygments_lexer": "ipython3",
   "version": "3.8.10"
  }
 },
 "nbformat": 4,
 "nbformat_minor": 2
}
