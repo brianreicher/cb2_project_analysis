{
 "cells": [
  {
   "cell_type": "code",
   "execution_count": 31,
   "id": "076b94d9",
   "metadata": {},
   "outputs": [],
   "source": [
    "import sys\n",
    "import numpy as np\n",
    "import gzip\n",
    "import pickle\n",
    "\n",
    "def load(networkx_path):\n",
    "    with gzip.open(networkx_path, 'rb') as f:\n",
    "        G = pickle.load(f)\n",
    "    return G"
   ]
  },
  {
   "cell_type": "markdown",
   "id": "7943dcfd",
   "metadata": {},
   "source": [
    "First we test the binary graph"
   ]
  },
  {
   "cell_type": "code",
   "execution_count": 32,
   "id": "637ac2e5",
   "metadata": {},
   "outputs": [],
   "source": [
    "G = load('../graph_mf_grc_binary_210519.gz')"
   ]
  },
  {
   "cell_type": "code",
   "execution_count": 33,
   "id": "8561f4c0",
   "metadata": {},
   "outputs": [
    {
     "data": {
      "text/plain": [
       "{'mf_id': 'mf_181', 'xyz': (353353, 403741, 6703), 'cell_type': 'mf'}"
      ]
     },
     "execution_count": 33,
     "metadata": {},
     "output_type": "execute_result"
    }
   ],
   "source": [
    "G.nodes['mf_181__1']"
   ]
  },
  {
   "cell_type": "code",
   "execution_count": 59,
   "id": "41214f9d",
   "metadata": {},
   "outputs": [
    {
     "data": {
      "text/plain": [
       "{'xyz': (344532, 408012, 5640), 'cell_type': 'grc'}"
      ]
     },
     "execution_count": 59,
     "metadata": {},
     "output_type": "execute_result"
    }
   ],
   "source": [
    "G.nodes['grc_1651']"
   ]
  },
  {
   "cell_type": "code",
   "execution_count": 34,
   "id": "a7bb864d",
   "metadata": {},
   "outputs": [
    {
     "data": {
      "text/plain": [
       "['grc_1651',\n",
       " 'grc_330',\n",
       " 'grc_1653',\n",
       " 'grc_335',\n",
       " 'grc_234',\n",
       " 'grc_2100',\n",
       " 'grc_303',\n",
       " 'grc_1855',\n",
       " 'grc_233',\n",
       " 'grc_324',\n",
       " 'grc_1792',\n",
       " 'grc_2214',\n",
       " 'grc_350',\n",
       " 'grc_1641',\n",
       " 'grc_1851',\n",
       " 'grc_341',\n",
       " 'grc_1682']"
      ]
     },
     "execution_count": 34,
     "metadata": {},
     "output_type": "execute_result"
    }
   ],
   "source": [
    "list(G.successors('mf_181__1'))"
   ]
  },
  {
   "cell_type": "markdown",
   "id": "f0234759",
   "metadata": {},
   "source": [
    "Now we test the synapse graph. Each synapse is represented as an edge"
   ]
  },
  {
   "cell_type": "code",
   "execution_count": 57,
   "id": "dfe5a34f",
   "metadata": {},
   "outputs": [],
   "source": [
    "G_all = load('../graph_mf_grc_synapse_210518_all.gz')"
   ]
  },
  {
   "cell_type": "code",
   "execution_count": 61,
   "id": "074f6a39",
   "metadata": {},
   "outputs": [
    {
     "name": "stdout",
     "output_type": "stream",
     "text": [
      "{'cell_type': 'mf', 'tags': ['no_soma']}\n",
      "{'cell_type': 'grc', 'xyz': (1378128, 1632048, 5640), 'tags': []}\n"
     ]
    }
   ],
   "source": [
    "print(G_all.nodes['mf_181'])\n",
    "print(G_all.nodes['grc_1651'])"
   ]
  },
  {
   "cell_type": "markdown",
   "id": "545eef5b",
   "metadata": {},
   "source": [
    "Since we have not extracted individual mf boutons here, there are no xyz positions for mf_181"
   ]
  },
  {
   "cell_type": "code",
   "execution_count": 38,
   "id": "4591ac0b",
   "metadata": {},
   "outputs": [
    {
     "data": {
      "text/plain": [
       "['grc_1651',\n",
       " 'grc_1761',\n",
       " 'grc_2096',\n",
       " 'grc_1127',\n",
       " 'grc_1298',\n",
       " 'grc_330',\n",
       " 'grc_1653',\n",
       " 'grc_335',\n",
       " 'grc_1276',\n",
       " 'grc_2228',\n",
       " 'grc_191',\n",
       " 'grc_958',\n",
       " 'grc_708',\n",
       " 'grc_967',\n",
       " 'grc_890',\n",
       " 'grc_719',\n",
       " 'grc_1175',\n",
       " 'grc_234',\n",
       " 'grc_1094',\n",
       " 'grc_2231',\n",
       " 'grc_2372',\n",
       " 'grc_1279',\n",
       " 'grc_1264',\n",
       " 'grc_1087',\n",
       " 'grc_784',\n",
       " 'grc_213',\n",
       " 'grc_779',\n",
       " 'grc_1263',\n",
       " 'grc_2328',\n",
       " 'grc_2296',\n",
       " 'grc_1272',\n",
       " 'grc_1282',\n",
       " 'grc_1290',\n",
       " 'grc_2107',\n",
       " 'grc_2101',\n",
       " 'grc_1170',\n",
       " 'grc_1129',\n",
       " 'grc_118',\n",
       " 'grc_1140',\n",
       " 'grc_1060',\n",
       " 'grc_1010',\n",
       " 'grc_2535',\n",
       " 'grc_2100',\n",
       " 'grc_303',\n",
       " 'grc_1855',\n",
       " 'grc_604',\n",
       " 'grc_1133',\n",
       " 'grc_772',\n",
       " 'grc_1893',\n",
       " 'grc_2159',\n",
       " 'grc_930',\n",
       " 'grc_943',\n",
       " 'grc_233',\n",
       " 'grc_1077',\n",
       " 'grc_777',\n",
       " 'grc_1049',\n",
       " 'grc_324',\n",
       " 'grc_1167',\n",
       " 'grc_1200',\n",
       " 'grc_1792',\n",
       " 'grc_1293',\n",
       " 'grc_2214',\n",
       " 'grc_350',\n",
       " 'grc_1641',\n",
       " 'grc_1851',\n",
       " 'grc_858',\n",
       " 'grc_1178',\n",
       " 'grc_781',\n",
       " 'grc_2176',\n",
       " 'grc_1090',\n",
       " 'grc_1051',\n",
       " 'grc_673',\n",
       " 'grc_341',\n",
       " 'grc_1682']"
      ]
     },
     "execution_count": 38,
     "metadata": {},
     "output_type": "execute_result"
    }
   ],
   "source": [
    "# print all grcs synapsed by mf_181\n",
    "list(G_all.successors('mf_181'))"
   ]
  },
  {
   "cell_type": "markdown",
   "id": "3eab654a",
   "metadata": {},
   "source": [
    "Inspect synapse data for a random MF-GrC pair"
   ]
  },
  {
   "cell_type": "code",
   "execution_count": 72,
   "id": "27f27f14",
   "metadata": {},
   "outputs": [
    {
     "name": "stdout",
     "output_type": "stream",
     "text": [
      "Number of synapses between mf_181 and grc_943: 11\n",
      "{'syn_loc': (112580, 116264, 528), 'syn_loc0': (450320, 465056, 21120), 'sf_pre': 13434258063672, 'sf_post': 13192356825852, 'pre_loc': (450384, 464912, 21120), 'post_loc': (450256, 465200, 21120), 'score': 489, 'props': {'area_erode0_no_realignment': {'mesh_area': 0.06242150307007857, 'mesh_diameter': 0.28191758751562734, 'ellipsoid_area': 0.066047320202812, 'ellipsoid_diameter': 0.2951959581375122, 'ellipsoid_area_drift': 0.06868452727413105, 'ellipsoid_diameter_drift': 0.29998744471995814}, 'area_erode0': {'pixel_count': 158, 'pixel_area': 0.05056, 'pixel_diameter': 0.2537222721437947, 'skeleton_area': 0.05871172243118286, 'skeleton_diameter': 0.27341193598469055, 'skeleton_longest_diameter': 350, 'mesh_area': 0.06084284732606434, 'mesh_diameter': 0.27832987484247745, 'ellipsoid_area': 0.066047320202812, 'ellipsoid_diameter': 0.2951959581375122, 'ellipsoid_area_drift': 0.0669332808880198, 'ellipsoid_diameter_drift': 0.296805641647736}, 'area_erode1_no_realignment': {'mesh_area': 0.054570303162897245, 'mesh_diameter': 0.263592617414045, 'ellipsoid_area': 0.058766223707729, 'ellipsoid_diameter': 0.2758822498321533, 'ellipsoid_area_drift': 0.06093114233645883, 'ellipsoid_diameter_drift': 0.2803029905069266}, 'area_erode1': {'pixel_count': 139, 'pixel_area': 0.04448, 'pixel_diameter': 0.23797834975018217, 'skeleton_area': 0.05110741661071777, 'skeleton_diameter': 0.2550921085765308, 'skeleton_longest_diameter': 311, 'mesh_area': 0.05327306375009143, 'mesh_diameter': 0.2604407253787581, 'ellipsoid_area': 0.058766223707729, 'ellipsoid_diameter': 0.2758822498321533, 'ellipsoid_area_drift': 0.05991505733786316, 'ellipsoid_diameter_drift': 0.2782281558121213}, 'area_erode2_no_realignment': {'mesh_area': 0.045091570667160415, 'mesh_diameter': 0.23960878720875148, 'ellipsoid_area': 0.05330540133641675, 'ellipsoid_diameter': 0.26139696860313416, 'ellipsoid_area_drift': 0.05581003110545426, 'ellipsoid_diameter_drift': 0.267035338538437}, 'area_erode2': {'pixel_count': 115, 'pixel_area': 0.0368, 'pixel_diameter': 0.2164606551922404, 'skeleton_area': 0.04170428829193115, 'skeleton_diameter': 0.23043339393048567, 'skeleton_longest_diameter': 282, 'mesh_area': 0.044208089843728725, 'mesh_diameter': 0.23724984338507019, 'ellipsoid_area': 0.05330540133641675, 'ellipsoid_diameter': 0.26139696860313416, 'ellipsoid_area_drift': 0.05396943376525336, 'ellipsoid_diameter_drift': 0.2628918244613144}, 'score': 489.69805908203125, 'raw_pred_pix_count': 559, 'z_length': 280}}\n"
     ]
    }
   ],
   "source": [
    "mf_id = 'mf_181'\n",
    "grc_id = 'grc_943'\n",
    "print(f\"Number of synapses between {mf_id} and {grc_id}: {len(G_all.adj[mf_id][grc_id])}\")\n",
    "# print an example\n",
    "print(G_all.adj[mf_id][grc_id][0])"
   ]
  },
  {
   "cell_type": "markdown",
   "id": "82b5a16a",
   "metadata": {},
   "source": [
    "Note that these synapse area measurements are not validated yet (work-in-progress). We recommend that you use the binary connectivity graph for your research."
   ]
  },
  {
   "cell_type": "markdown",
   "id": "a1167bd7",
   "metadata": {},
   "source": [
    "Now we test the coalesced synapse graph."
   ]
  },
  {
   "cell_type": "code",
   "execution_count": 69,
   "id": "abd52abd",
   "metadata": {},
   "outputs": [],
   "source": [
    "G_coalesced = load('../graph_mf_grc_synapse_210518_coalesced.gz')"
   ]
  },
  {
   "cell_type": "code",
   "execution_count": 74,
   "id": "1ffd340b",
   "metadata": {},
   "outputs": [
    {
     "name": "stdout",
     "output_type": "stream",
     "text": [
      "Number of synapses between mf_181 and grc_943: 10\n"
     ]
    }
   ],
   "source": [
    "print(f\"Number of synapses between {mf_id} and {grc_id}: {len(G_coalesced.adj[mf_id][grc_id])}\")"
   ]
  },
  {
   "cell_type": "markdown",
   "id": "461a328b",
   "metadata": {},
   "source": [
    "Note that one pair of synapses has been merged."
   ]
  },
  {
   "cell_type": "code",
   "execution_count": 75,
   "id": "326a29d7",
   "metadata": {},
   "outputs": [
    {
     "name": "stdout",
     "output_type": "stream",
     "text": [
      "grc_943\n"
     ]
    }
   ],
   "source": [
    "# This code checks for the difference in # of synapses between the two graphs\n",
    "for grc_id in list(G_all.successors('mf_181')):\n",
    "    if len(G_all.adj['mf_181'][grc_id]) != len(G_coalesced.adj['mf_181'][grc_id]):\n",
    "        print(grc_id)"
   ]
  }
 ],
 "metadata": {
  "kernelspec": {
   "display_name": "Python 3 (ipykernel)",
   "language": "python",
   "name": "python3"
  },
  "language_info": {
   "codemirror_mode": {
    "name": "ipython",
    "version": 3
   },
   "file_extension": ".py",
   "mimetype": "text/x-python",
   "name": "python",
   "nbconvert_exporter": "python",
   "pygments_lexer": "ipython3",
   "version": "3.10.6"
  }
 },
 "nbformat": 4,
 "nbformat_minor": 5
}
