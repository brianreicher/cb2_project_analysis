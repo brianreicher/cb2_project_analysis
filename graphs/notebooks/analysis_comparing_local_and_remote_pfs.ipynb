{
 "cells": [
  {
   "cell_type": "code",
   "execution_count": 1,
   "id": "5103cfcc",
   "metadata": {},
   "outputs": [],
   "source": [
    "import sys\n",
    "import numpy as np\n",
    "import gzip\n",
    "import pickle\n",
    "from collections import defaultdict\n",
    "import copy\n",
    "\n",
    "def load(networkx_path):\n",
    "    with gzip.open(networkx_path, 'rb') as f:\n",
    "        G = pickle.load(f)\n",
    "    return G"
   ]
  },
  {
   "cell_type": "code",
   "execution_count": 2,
   "id": "fea656ad",
   "metadata": {},
   "outputs": [],
   "source": [
    "G_local = load('../graph_grc_pc_synapse_210429_coalesced.gz')\n",
    "G_remote = load('../graph_pfs_pc_synapse_210429_coalesced.gz')"
   ]
  },
  {
   "cell_type": "markdown",
   "id": "1876419f",
   "metadata": {},
   "source": [
    "Comparing # of synapses made onto PCs by local and remote GrCs."
   ]
  },
  {
   "cell_type": "code",
   "execution_count": 3,
   "id": "bdfee409",
   "metadata": {},
   "outputs": [
    {
     "name": "stdout",
     "output_type": "stream",
     "text": [
      "Local: {'dendrite_fragment', 'grc', 'pc'}\n",
      "Remote: {'cf', 'dendrite_fragment', 'pf', 'pc'}\n"
     ]
    }
   ],
   "source": [
    "# print cell types in the graphs\n",
    "cell_types = set()\n",
    "for n in G_local.nodes():\n",
    "    if 'cell_type' not in G_local.nodes[n]:\n",
    "        continue\n",
    "    cell_types.add(G_local.nodes[n]['cell_type'])\n",
    "print(f'Local: {cell_types}')\n",
    "cell_types = set()\n",
    "for n in G_remote.nodes():\n",
    "    if 'cell_type' not in G_remote.nodes[n]:\n",
    "        continue\n",
    "    cell_types.add(G_remote.nodes[n]['cell_type'])\n",
    "print(f'Remote: {cell_types}')"
   ]
  },
  {
   "cell_type": "code",
   "execution_count": 4,
   "id": "680a61ab",
   "metadata": {},
   "outputs": [],
   "source": [
    "# Fileter and get cell lists\n",
    "local_grcs = []\n",
    "remote_grcs = []\n",
    "all_pcs = set()\n",
    "\n",
    "def process_graph(G):\n",
    "    for n in G.nodes():\n",
    "        if 'cell_type' not in G.nodes[n]:\n",
    "            continue\n",
    "        cell_type = G.nodes[n]['cell_type']\n",
    "        if cell_type == 'grc':\n",
    "            local_grcs.append(n)\n",
    "        elif cell_type == 'pf':\n",
    "            remote_grcs.append(n)\n",
    "        if cell_type == 'pc' or cell_type == 'dendrite_fragment':\n",
    "            all_pcs.add(n)\n",
    "\n",
    "process_graph(G_local)\n",
    "process_graph(G_remote)"
   ]
  },
  {
   "cell_type": "code",
   "execution_count": 5,
   "id": "bbf34f0b",
   "metadata": {},
   "outputs": [
    {
     "name": "stdout",
     "output_type": "stream",
     "text": [
      "{'pc_dendrite_fragment_2', 'pc_79', 'pc_116', 'pc_38', 'pc_44', 'pc_43', 'pc_31', 'pc_127', 'pc_28', 'pc_82', 'pc_26', 'pc_49', 'pc_dendrite_fragment_8', 'pc_35', 'pc_dendrite_5', 'pc_7', 'pc_77', 'pc_22', 'pc_dendrite_fragment_5', 'pc_18', 'pc_120', 'pc_63', 'pc_101', 'pc_58', 'pc_61', 'pc_104', 'pc_83', 'pc_33', 'pc_dendrite_0', 'pc_129', 'pc_51', 'pc_dendrite_fragment_3', 'pc_4', 'pc_24', 'pc_37', 'pc_50', 'pc_3', 'pc_34', 'pc_dendrite_2', 'pc_72', 'pc_20', 'pc_2', 'pc_76', 'pc_dendrite_8', 'pc_41', 'pc_dendrite_4', 'pc_74', 'pc_128', 'pc_55', 'pc_179', 'pc_84', 'pc_54', 'pc_86', 'pc_60', 'pc_25', 'pc_118', 'pc_15', 'pc_135', 'pc_46', 'pc_12', 'pc_57', 'pc_110', 'pc_21', 'pc_dendrite_9', 'pc_23', 'pc_10', 'pc_126', 'pc_115', 'pc_92', 'pc_53', 'pc_16', 'pc_0', 'pc_0_dendrite_0', 'pc_87', 'pc_dendrite_fragment_11', 'pc_11', 'pc_dendrite_6', 'pc_117', 'pc_dendrite_fragment_10', 'pc_163', 'pc_68', 'pc_dendrite_fragment_7', 'pc_32', 'pc_40', 'pc_136', 'pc_70', 'pc_1', 'pc_130', 'pc_dendrite_fragment_1', 'pc_39', 'pc_75', 'pc_19', 'pc_9', 'pc_dendrite_fragment_9', 'pc_48', 'pc_dendrite_3', 'purkinje_0', 'pc_114', 'pc_85', 'pc_17', 'pc_dendrite_fragment_0', 'pc_59', 'pc_dendrite_fragment_6', 'pc_5', 'pc_dendrite', 'pc_78', 'purkinje_1', 'pc_27', 'pc_29', 'pc_42', 'pc_30', 'pc_dendrite_7', 'pc_62', 'pc_73', 'pc_fragment_0', 'pc_103'}\n"
     ]
    }
   ],
   "source": [
    "print(all_pcs)"
   ]
  },
  {
   "cell_type": "code",
   "execution_count": 6,
   "id": "db81e947",
   "metadata": {},
   "outputs": [],
   "source": [
    "# Check that there are no duplicated synapses\n",
    "n = 0\n",
    "syn_locs = set()\n",
    "syn_origin = {}\n",
    "def check_duplication(G, cell_list):\n",
    "    for nid in cell_list:\n",
    "        for nbr, datadict in G.adj[nid].items():\n",
    "            for syn in datadict:\n",
    "                syn_attrs = datadict[syn]\n",
    "                syn_loc = datadict[syn]['syn_loc']\n",
    "                assert syn_loc not in syn_locs\n",
    "                syn_locs.add(syn_loc)\n",
    "                syn_origin[syn_loc] = nid\n",
    "\n",
    "check_duplication(G_local, local_grcs)\n",
    "check_duplication(G_remote, remote_grcs)"
   ]
  },
  {
   "cell_type": "markdown",
   "id": "ebda3bd8",
   "metadata": {},
   "source": [
    "### Reproducing Fig. E4c\n",
    "Note that Fig. E4c uses non-local GrC-PC connectivity and does not count the local GrCs. Here we will just plot the pf-PC portion of this figure."
   ]
  },
  {
   "cell_type": "code",
   "execution_count": 7,
   "id": "4e08ef8b",
   "metadata": {},
   "outputs": [],
   "source": [
    "from collections import defaultdict\n",
    "\n",
    "def count_syns_between_pair(G, cell_list):\n",
    "    histogram = defaultdict(int)\n",
    "    n = 0\n",
    "    for nid in cell_list:\n",
    "        for nbr, datadict in G.adj[nid].items():\n",
    "            histogram[len(datadict)] += 1\n",
    "            n += len(datadict)\n",
    "    return histogram, n\n",
    "\n",
    "local_histogram, local_syn_count = count_syns_between_pair(G_local, local_grcs)\n",
    "nonlocal_histogram, nonlocal_syn_count = count_syns_between_pair(G_remote, remote_grcs)"
   ]
  },
  {
   "cell_type": "code",
   "execution_count": 8,
   "id": "7f9576ee",
   "metadata": {},
   "outputs": [],
   "source": [
    "import seaborn as sns\n",
    "def hist_to_list(hist):\n",
    "    l = []\n",
    "    for k,v in hist.items():\n",
    "        for i in range(v):\n",
    "            l.append(k)\n",
    "    return l"
   ]
  },
  {
   "cell_type": "code",
   "execution_count": 9,
   "id": "67ed7772",
   "metadata": {},
   "outputs": [
    {
     "name": "stdout",
     "output_type": "stream",
     "text": [
      "Num pf->PC syns: 26560\n"
     ]
    },
    {
     "data": {
      "image/png": "[encoded data removed]",
      "text/plain": [
       "<Figure size 640x480 with 1 Axes>"
      ]
     },
     "metadata": {},
     "output_type": "display_data"
    }
   ],
   "source": [
    "# plot pf-pc\n",
    "sns.histplot(data=hist_to_list(nonlocal_histogram), binwidth=1, stat='probability')\n",
    "print(f'Num pf->PC syns: {nonlocal_syn_count}')"
   ]
  },
  {
   "cell_type": "markdown",
   "id": "d53bf456",
   "metadata": {},
   "source": [
    "Note: Syn count is higher because we have more proofread neurons than the paper"
   ]
  },
  {
   "cell_type": "code",
   "execution_count": 10,
   "id": "50fe8daa",
   "metadata": {},
   "outputs": [
    {
     "name": "stdout",
     "output_type": "stream",
     "text": [
      "Num local GrC->PC syns: 8579\n"
     ]
    },
    {
     "data": {
      "image/png": "[encoded data removed]",
      "text/plain": [
       "<Figure size 640x480 with 1 Axes>"
      ]
     },
     "metadata": {},
     "output_type": "display_data"
    }
   ],
   "source": [
    "# plot local grc-pc\n",
    "sns.histplot(data=hist_to_list(local_histogram), binwidth=1, stat='probability')\n",
    "print(f'Num local GrC->PC syns: {local_syn_count}')"
   ]
  },
  {
   "cell_type": "markdown",
   "id": "793f832a",
   "metadata": {},
   "source": [
    "The \"local\" GrCs are GrCs with cell body within the EM volume and with the ascending axon portion fully constructed. \n",
    "The high proportion of single synapse connections is expected as a result of their pf portion making few synapses to the PCs that the asc portion does not reach.\n",
    "\n",
    "The higher # of syns per connection at the tail is likely due to synapses made by the asc portion."
   ]
  },
  {
   "cell_type": "markdown",
   "id": "ec3fc8d9",
   "metadata": {},
   "source": [
    "#### Compute average pf-PC synapses per pf-PC pair"
   ]
  },
  {
   "cell_type": "code",
   "execution_count": 11,
   "id": "79fdf2da",
   "metadata": {},
   "outputs": [
    {
     "name": "stdout",
     "output_type": "stream",
     "text": [
      "Average syns per pf-PC pair: 1.3304613535039824\n"
     ]
    }
   ],
   "source": [
    "num_pairs = 0\n",
    "for k, v in nonlocal_histogram.items():\n",
    "    num_pairs += v\n",
    "print(f'Average syns per pf-PC pair: {nonlocal_syn_count/num_pairs}')"
   ]
  },
  {
   "cell_type": "markdown",
   "id": "9a3c5181",
   "metadata": {},
   "source": [
    "### Analyzing binary GrC-PC connectivity"
   ]
  },
  {
   "cell_type": "markdown",
   "id": "b6e84e81",
   "metadata": {},
   "source": [
    "As an example, we compute the probability of pfs making synapses onto PCs they pass through, reproducing part of Fig. 3c"
   ]
  },
  {
   "cell_type": "markdown",
   "id": "6b2dcc9d",
   "metadata": {},
   "source": [
    "To analyze the binary graph, we also compute the 'touches', or where two pairs of neurons are nearby each other. These touch db are stored as a dict of grcs/pfs mapped to PCs, with each entry is a tuple of (dist, loc) representing the nearest location where two neurons are nearby."
   ]
  },
  {
   "cell_type": "code",
   "execution_count": 12,
   "id": "a2e5c90d",
   "metadata": {},
   "outputs": [],
   "source": [
    "import compress_pickle\n",
    "pf_pc_touches = compress_pickle.load('../../analysis/purkinje/db_pf_contacts_201224.gz')\n",
    "# this db is computed by ../../analysis/purkinje/db_pf_contacts_201224.py\n",
    "grc_pc_touches = compress_pickle.load('../../analysis/purkinje/grc_pc_touches_210429.gz')\n",
    "# this db is computed by ../../analysis/purkinje/gen_contacts_grc_210429.py"
   ]
  },
  {
   "cell_type": "code",
   "execution_count": 13,
   "id": "7783f02a",
   "metadata": {},
   "outputs": [],
   "source": [
    "# filter out newer neurons not available in the touch db or vice versa\n",
    "touchdb_pfs = set(pf_pc_touches.keys()) & set(remote_grcs)\n",
    "assert(len(remote_grcs) > 0)\n",
    "\n",
    "touchdb_pcs = set()\n",
    "for k,v in pf_pc_touches.items():\n",
    "    touchdb_pcs |= (set(v.keys()))\n",
    "touchdb_pcs &= all_pcs\n",
    "assert(len(touchdb_pcs) > 0)"
   ]
  },
  {
   "cell_type": "code",
   "execution_count": 14,
   "id": "cc8f697c",
   "metadata": {},
   "outputs": [],
   "source": [
    "# make a binary \"touch\" networkx graph\n",
    "import networkx as nx\n",
    "G = nx.DiGraph()\n",
    "distance_threshold = 160\n",
    "\n",
    "for pfs in touchdb_pfs:\n",
    "    G.add_node(pfs)\n",
    "    for pc, (dist, _) in pf_pc_touches[pfs].items():\n",
    "        if pc not in touchdb_pcs:\n",
    "            continue\n",
    "        G.add_node(pc)\n",
    "        if dist < distance_threshold:\n",
    "            G.add_edge(pfs, pc)\n",
    "            \n",
    "assert(len(G.edges) > 0)\n",
    "G_touch_pfs = G"
   ]
  },
  {
   "cell_type": "code",
   "execution_count": 15,
   "id": "6be64237",
   "metadata": {},
   "outputs": [],
   "source": [
    "# make a binary \"synapse\" networkx graph\n",
    "G = nx.DiGraph()\n",
    "\n",
    "for pfs in touchdb_pfs:\n",
    "    G.add_node(pfs)\n",
    "    for pc in G_remote.adj[pfs]:\n",
    "        if pc not in touchdb_pcs:\n",
    "            continue\n",
    "        G.add_node(pc)\n",
    "        G.add_edge(pfs, pc)\n",
    "\n",
    "assert(len(G.edges) > 0)\n",
    "G_binary_pfs = G"
   ]
  },
  {
   "cell_type": "code",
   "execution_count": 16,
   "id": "da11e342",
   "metadata": {},
   "outputs": [],
   "source": [
    "rates = []\n",
    "threshold = 5  # a pf must touch at least 5 constructed PCs to be counted\n",
    "for pf in touchdb_pfs:\n",
    "    pcs = set(G_binary_pfs.successors(pf)) | set(G_touch_pfs.successors(pf))\n",
    "    if len(pcs) < threshold:\n",
    "        continue\n",
    "    rate = len(set(G_binary_pfs.successors(pf))) / len(pcs)\n",
    "    rates.append(rate)"
   ]
  },
  {
   "cell_type": "code",
   "execution_count": 17,
   "id": "e9b1b12d",
   "metadata": {},
   "outputs": [
    {
     "data": {
      "text/plain": [
       "<Axes: >"
      ]
     },
     "execution_count": 17,
     "metadata": {},
     "output_type": "execute_result"
    },
    {
     "data": {
      "image/png": "[encoded data removed]",
      "text/plain": [
       "<Figure size 640x480 with 1 Axes>"
      ]
     },
     "metadata": {},
     "output_type": "display_data"
    }
   ],
   "source": [
    "sns.boxplot(rates)"
   ]
  }
 ],
 "metadata": {
  "kernelspec": {
   "display_name": "Python 3 (ipykernel)",
   "language": "python",
   "name": "python3"
  },
  "language_info": {
   "codemirror_mode": {
    "name": "ipython",
    "version": 3
   },
   "file_extension": ".py",
   "mimetype": "text/x-python",
   "name": "python",
   "nbconvert_exporter": "python",
   "pygments_lexer": "ipython3",
   "version": "3.10.6"
  }
 },
 "nbformat": 4,
 "nbformat_minor": 5
}
